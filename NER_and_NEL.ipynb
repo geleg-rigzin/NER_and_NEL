{
  "cells": [
    {
      "cell_type": "markdown",
      "metadata": {
        "id": "view-in-github",
        "colab_type": "text"
      },
      "source": [
        "<a href=\"https://colab.research.google.com/github/geleg-rigzin/NER_and_NEL/blob/main/NER_and_NEL.ipynb\" target=\"_parent\"><img src=\"https://colab.research.google.com/assets/colab-badge.svg\" alt=\"Open In Colab\"/></a>"
      ]
    },
    {
      "cell_type": "code",
      "execution_count": null,
      "metadata": {
        "colab": {
          "base_uri": "https://localhost:8080/"
        },
        "id": "blEDqV7A7PDc",
        "outputId": "0c06f1e1-598f-4921-9e6e-e9f41bc0629b"
      },
      "outputs": [
        {
          "output_type": "stream",
          "name": "stdout",
          "text": [
            "Mounted at /content/drive/\n"
          ]
        }
      ],
      "source": [
        "from google.colab import drive\n",
        "drive.mount('/content/drive/')"
      ]
    },
    {
      "cell_type": "code",
      "execution_count": null,
      "metadata": {
        "id": "RjUq_9SNBT1q"
      },
      "outputs": [],
      "source": [
        "!cp -a /content/drive/MyDrive/msu_task_3_ner-main/ ./data/"
      ]
    },
    {
      "cell_type": "code",
      "execution_count": null,
      "metadata": {
        "colab": {
          "base_uri": "https://localhost:8080/"
        },
        "id": "S5BCB1EfQan1",
        "outputId": "5856045c-b802-4e52-9810-6799972267f2"
      },
      "outputs": [
        {
          "output_type": "stream",
          "name": "stdout",
          "text": [
            "Looking in indexes: https://pypi.org/simple, https://us-python.pkg.dev/colab-wheels/public/simple/\n",
            "Collecting numpy==1.21.6\n",
            "  Downloading numpy-1.21.6-cp39-cp39-manylinux_2_12_x86_64.manylinux2010_x86_64.whl (15.7 MB)\n",
            "\u001b[2K     \u001b[90m━━━━━━━━━━━━━━━━━━━━━━━━━━━━━━━━━━━━━━━━\u001b[0m \u001b[32m15.7/15.7 MB\u001b[0m \u001b[31m55.3 MB/s\u001b[0m eta \u001b[36m0:00:00\u001b[0m\n",
            "\u001b[?25hCollecting scikit-learn==1.0.2\n",
            "  Downloading scikit_learn-1.0.2-cp39-cp39-manylinux_2_17_x86_64.manylinux2014_x86_64.whl (26.4 MB)\n",
            "\u001b[2K     \u001b[90m━━━━━━━━━━━━━━━━━━━━━━━━━━━━━━━━━━━━━━━━\u001b[0m \u001b[32m26.4/26.4 MB\u001b[0m \u001b[31m39.6 MB/s\u001b[0m eta \u001b[36m0:00:00\u001b[0m\n",
            "\u001b[?25hCollecting tensorboard==2.9.0\n",
            "  Downloading tensorboard-2.9.0-py3-none-any.whl (5.8 MB)\n",
            "\u001b[2K     \u001b[90m━━━━━━━━━━━━━━━━━━━━━━━━━━━━━━━━━━━━━━━━\u001b[0m \u001b[32m5.8/5.8 MB\u001b[0m \u001b[31m54.7 MB/s\u001b[0m eta \u001b[36m0:00:00\u001b[0m\n",
            "\u001b[?25hCollecting torch==1.12.1\n",
            "  Downloading torch-1.12.1-cp39-cp39-manylinux1_x86_64.whl (776.4 MB)\n",
            "\u001b[2K     \u001b[90m━━━━━━━━━━━━━━━━━━━━━━━━━━━━━━━━━━━━━━━\u001b[0m \u001b[32m776.4/776.4 MB\u001b[0m \u001b[31m2.1 MB/s\u001b[0m eta \u001b[36m0:00:00\u001b[0m\n",
            "\u001b[?25hCollecting tqdm==4.64.0\n",
            "  Downloading tqdm-4.64.0-py2.py3-none-any.whl (78 kB)\n",
            "\u001b[2K     \u001b[90m━━━━━━━━━━━━━━━━━━━━━━━━━━━━━━━━━━━━━━━━\u001b[0m \u001b[32m78.4/78.4 KB\u001b[0m \u001b[31m8.4 MB/s\u001b[0m eta \u001b[36m0:00:00\u001b[0m\n",
            "\u001b[?25hCollecting transformers==4.21.1\n",
            "  Downloading transformers-4.21.1-py3-none-any.whl (4.7 MB)\n",
            "\u001b[2K     \u001b[90m━━━━━━━━━━━━━━━━━━━━━━━━━━━━━━━━━━━━━━━━\u001b[0m \u001b[32m4.7/4.7 MB\u001b[0m \u001b[31m94.9 MB/s\u001b[0m eta \u001b[36m0:00:00\u001b[0m\n",
            "\u001b[?25hRequirement already satisfied: scipy>=1.1.0 in /usr/local/lib/python3.9/dist-packages (from scikit-learn==1.0.2) (1.10.1)\n",
            "Requirement already satisfied: joblib>=0.11 in /usr/local/lib/python3.9/dist-packages (from scikit-learn==1.0.2) (1.1.1)\n",
            "Requirement already satisfied: threadpoolctl>=2.0.0 in /usr/local/lib/python3.9/dist-packages (from scikit-learn==1.0.2) (3.1.0)\n",
            "Requirement already satisfied: google-auth<3,>=1.6.3 in /usr/local/lib/python3.9/dist-packages (from tensorboard==2.9.0) (2.17.1)\n",
            "Requirement already satisfied: grpcio>=1.24.3 in /usr/local/lib/python3.9/dist-packages (from tensorboard==2.9.0) (1.53.0)\n",
            "Requirement already satisfied: requests<3,>=2.21.0 in /usr/local/lib/python3.9/dist-packages (from tensorboard==2.9.0) (2.27.1)\n",
            "Requirement already satisfied: wheel>=0.26 in /usr/local/lib/python3.9/dist-packages (from tensorboard==2.9.0) (0.40.0)\n",
            "Collecting google-auth-oauthlib<0.5,>=0.4.1\n",
            "  Downloading google_auth_oauthlib-0.4.6-py2.py3-none-any.whl (18 kB)\n",
            "Requirement already satisfied: absl-py>=0.4 in /usr/local/lib/python3.9/dist-packages (from tensorboard==2.9.0) (1.4.0)\n",
            "Requirement already satisfied: tensorboard-plugin-wit>=1.6.0 in /usr/local/lib/python3.9/dist-packages (from tensorboard==2.9.0) (1.8.1)\n",
            "Requirement already satisfied: setuptools>=41.0.0 in /usr/local/lib/python3.9/dist-packages (from tensorboard==2.9.0) (67.6.1)\n",
            "Collecting tensorboard-data-server<0.7.0,>=0.6.0\n",
            "  Downloading tensorboard_data_server-0.6.1-py3-none-manylinux2010_x86_64.whl (4.9 MB)\n",
            "\u001b[2K     \u001b[90m━━━━━━━━━━━━━━━━━━━━━━━━━━━━━━━━━━━━━━━━\u001b[0m \u001b[32m4.9/4.9 MB\u001b[0m \u001b[31m76.7 MB/s\u001b[0m eta \u001b[36m0:00:00\u001b[0m\n",
            "\u001b[?25hRequirement already satisfied: werkzeug>=1.0.1 in /usr/local/lib/python3.9/dist-packages (from tensorboard==2.9.0) (2.2.3)\n",
            "Requirement already satisfied: protobuf>=3.9.2 in /usr/local/lib/python3.9/dist-packages (from tensorboard==2.9.0) (3.20.3)\n",
            "Requirement already satisfied: markdown>=2.6.8 in /usr/local/lib/python3.9/dist-packages (from tensorboard==2.9.0) (3.4.3)\n",
            "Requirement already satisfied: typing-extensions in /usr/local/lib/python3.9/dist-packages (from torch==1.12.1) (4.5.0)\n",
            "Collecting tokenizers!=0.11.3,<0.13,>=0.11.1\n",
            "  Downloading tokenizers-0.12.1-cp39-cp39-manylinux_2_12_x86_64.manylinux2010_x86_64.whl (6.6 MB)\n",
            "\u001b[2K     \u001b[90m━━━━━━━━━━━━━━━━━━━━━━━━━━━━━━━━━━━━━━━━\u001b[0m \u001b[32m6.6/6.6 MB\u001b[0m \u001b[31m76.4 MB/s\u001b[0m eta \u001b[36m0:00:00\u001b[0m\n",
            "\u001b[?25hRequirement already satisfied: packaging>=20.0 in /usr/local/lib/python3.9/dist-packages (from transformers==4.21.1) (23.0)\n",
            "Requirement already satisfied: pyyaml>=5.1 in /usr/local/lib/python3.9/dist-packages (from transformers==4.21.1) (6.0)\n",
            "Collecting huggingface-hub<1.0,>=0.1.0\n",
            "  Downloading huggingface_hub-0.13.4-py3-none-any.whl (200 kB)\n",
            "\u001b[2K     \u001b[90m━━━━━━━━━━━━━━━━━━━━━━━━━━━━━━━━━━━━━━\u001b[0m \u001b[32m200.1/200.1 KB\u001b[0m \u001b[31m18.5 MB/s\u001b[0m eta \u001b[36m0:00:00\u001b[0m\n",
            "\u001b[?25hRequirement already satisfied: filelock in /usr/local/lib/python3.9/dist-packages (from transformers==4.21.1) (3.10.7)\n",
            "Requirement already satisfied: regex!=2019.12.17 in /usr/local/lib/python3.9/dist-packages (from transformers==4.21.1) (2022.10.31)\n",
            "Requirement already satisfied: pyasn1-modules>=0.2.1 in /usr/local/lib/python3.9/dist-packages (from google-auth<3,>=1.6.3->tensorboard==2.9.0) (0.2.8)\n",
            "Requirement already satisfied: rsa<5,>=3.1.4 in /usr/local/lib/python3.9/dist-packages (from google-auth<3,>=1.6.3->tensorboard==2.9.0) (4.9)\n",
            "Requirement already satisfied: cachetools<6.0,>=2.0.0 in /usr/local/lib/python3.9/dist-packages (from google-auth<3,>=1.6.3->tensorboard==2.9.0) (5.3.0)\n",
            "Requirement already satisfied: six>=1.9.0 in /usr/local/lib/python3.9/dist-packages (from google-auth<3,>=1.6.3->tensorboard==2.9.0) (1.16.0)\n",
            "Requirement already satisfied: requests-oauthlib>=0.7.0 in /usr/local/lib/python3.9/dist-packages (from google-auth-oauthlib<0.5,>=0.4.1->tensorboard==2.9.0) (1.3.1)\n",
            "Requirement already satisfied: importlib-metadata>=4.4 in /usr/local/lib/python3.9/dist-packages (from markdown>=2.6.8->tensorboard==2.9.0) (6.1.0)\n",
            "Requirement already satisfied: idna<4,>=2.5 in /usr/local/lib/python3.9/dist-packages (from requests<3,>=2.21.0->tensorboard==2.9.0) (3.4)\n",
            "Requirement already satisfied: urllib3<1.27,>=1.21.1 in /usr/local/lib/python3.9/dist-packages (from requests<3,>=2.21.0->tensorboard==2.9.0) (1.26.15)\n",
            "Requirement already satisfied: charset-normalizer~=2.0.0 in /usr/local/lib/python3.9/dist-packages (from requests<3,>=2.21.0->tensorboard==2.9.0) (2.0.12)\n",
            "Requirement already satisfied: certifi>=2017.4.17 in /usr/local/lib/python3.9/dist-packages (from requests<3,>=2.21.0->tensorboard==2.9.0) (2022.12.7)\n",
            "Requirement already satisfied: MarkupSafe>=2.1.1 in /usr/local/lib/python3.9/dist-packages (from werkzeug>=1.0.1->tensorboard==2.9.0) (2.1.2)\n",
            "Requirement already satisfied: zipp>=0.5 in /usr/local/lib/python3.9/dist-packages (from importlib-metadata>=4.4->markdown>=2.6.8->tensorboard==2.9.0) (3.15.0)\n",
            "Requirement already satisfied: pyasn1<0.5.0,>=0.4.6 in /usr/local/lib/python3.9/dist-packages (from pyasn1-modules>=0.2.1->google-auth<3,>=1.6.3->tensorboard==2.9.0) (0.4.8)\n",
            "Requirement already satisfied: oauthlib>=3.0.0 in /usr/local/lib/python3.9/dist-packages (from requests-oauthlib>=0.7.0->google-auth-oauthlib<0.5,>=0.4.1->tensorboard==2.9.0) (3.2.2)\n",
            "Installing collected packages: tokenizers, tqdm, torch, tensorboard-data-server, numpy, huggingface-hub, transformers, scikit-learn, google-auth-oauthlib, tensorboard\n",
            "  Attempting uninstall: tqdm\n",
            "    Found existing installation: tqdm 4.65.0\n",
            "    Uninstalling tqdm-4.65.0:\n",
            "      Successfully uninstalled tqdm-4.65.0\n",
            "  Attempting uninstall: torch\n",
            "    Found existing installation: torch 2.0.0+cu118\n",
            "    Uninstalling torch-2.0.0+cu118:\n",
            "      Successfully uninstalled torch-2.0.0+cu118\n",
            "  Attempting uninstall: tensorboard-data-server\n",
            "    Found existing installation: tensorboard-data-server 0.7.0\n",
            "    Uninstalling tensorboard-data-server-0.7.0:\n",
            "      Successfully uninstalled tensorboard-data-server-0.7.0\n",
            "  Attempting uninstall: numpy\n",
            "    Found existing installation: numpy 1.22.4\n",
            "    Uninstalling numpy-1.22.4:\n",
            "      Successfully uninstalled numpy-1.22.4\n",
            "  Attempting uninstall: scikit-learn\n",
            "    Found existing installation: scikit-learn 1.2.2\n",
            "    Uninstalling scikit-learn-1.2.2:\n",
            "      Successfully uninstalled scikit-learn-1.2.2\n",
            "  Attempting uninstall: google-auth-oauthlib\n",
            "    Found existing installation: google-auth-oauthlib 1.0.0\n",
            "    Uninstalling google-auth-oauthlib-1.0.0:\n",
            "      Successfully uninstalled google-auth-oauthlib-1.0.0\n",
            "  Attempting uninstall: tensorboard\n",
            "    Found existing installation: tensorboard 2.12.1\n",
            "    Uninstalling tensorboard-2.12.1:\n",
            "      Successfully uninstalled tensorboard-2.12.1\n",
            "\u001b[31mERROR: pip's dependency resolver does not currently take into account all the packages that are installed. This behaviour is the source of the following dependency conflicts.\n",
            "torchvision 0.15.1+cu118 requires torch==2.0.0, but you have torch 1.12.1 which is incompatible.\n",
            "torchtext 0.15.1 requires torch==2.0.0, but you have torch 1.12.1 which is incompatible.\n",
            "torchdata 0.6.0 requires torch==2.0.0, but you have torch 1.12.1 which is incompatible.\n",
            "torchaudio 2.0.1+cu118 requires torch==2.0.0, but you have torch 1.12.1 which is incompatible.\n",
            "tensorflow 2.12.0 requires numpy<1.24,>=1.22, but you have numpy 1.21.6 which is incompatible.\n",
            "tensorflow 2.12.0 requires tensorboard<2.13,>=2.12, but you have tensorboard 2.9.0 which is incompatible.\u001b[0m\u001b[31m\n",
            "\u001b[0mSuccessfully installed google-auth-oauthlib-0.4.6 huggingface-hub-0.13.4 numpy-1.21.6 scikit-learn-1.0.2 tensorboard-2.9.0 tensorboard-data-server-0.6.1 tokenizers-0.12.1 torch-1.12.1 tqdm-4.64.0 transformers-4.21.1\n"
          ]
        }
      ],
      "source": [
        "!pip install numpy==1.21.6 scikit-learn==1.0.2 tensorboard==2.9.0 torch==1.12.1 tqdm==4.64.0 transformers==4.21.1"
      ]
    },
    {
      "cell_type": "code",
      "execution_count": null,
      "metadata": {
        "id": "Thidpb9qQELS"
      },
      "outputs": [],
      "source": [
        "import random\n",
        "from collections import Counter, defaultdict, namedtuple\n",
        "from typing import Tuple, List, Dict, Any\n",
        "\n",
        "import torch\n",
        "import numpy as np\n",
        "\n",
        "from tqdm import tqdm, trange"
      ]
    },
    {
      "cell_type": "code",
      "execution_count": null,
      "metadata": {
        "id": "yt3ISg3aQELU"
      },
      "outputs": [],
      "source": [
        "def set_global_seed(seed: int) -> None:\n",
        "    \"\"\"\n",
        "    Set global seed for reproducibility.\n",
        "    \"\"\"\n",
        "\n",
        "    random.seed(seed)\n",
        "    np.random.seed(seed)\n",
        "    torch.manual_seed(seed)\n",
        "    torch.cuda.manual_seed_all(seed)\n",
        "    torch.backends.cudnn.benchmark = False\n",
        "    torch.backends.cudnn.deterministic = True\n",
        "\n",
        "\n",
        "set_global_seed(42)"
      ]
    },
    {
      "cell_type": "code",
      "execution_count": null,
      "metadata": {
        "colab": {
          "base_uri": "https://localhost:8080/",
          "height": 36
        },
        "id": "rboLOv95QELV",
        "outputId": "bd283dab-1dbc-4959-acd5-63472c4b63cf"
      },
      "outputs": [
        {
          "output_type": "execute_result",
          "data": {
            "text/plain": [
              "'cpu'"
            ],
            "application/vnd.google.colaboratory.intrinsic+json": {
              "type": "string"
            }
          },
          "metadata": {},
          "execution_count": 6
        }
      ],
      "source": [
        "device = \"cuda\" if torch.cuda.is_available() else \"cpu\"\n",
        "device"
      ]
    },
    {
      "cell_type": "code",
      "execution_count": null,
      "metadata": {
        "id": "6O7Y8hReTODp"
      },
      "outputs": [],
      "source": [
        "%load_ext tensorboard\n",
        "%tensorboard --logdir logs"
      ]
    },
    {
      "cell_type": "code",
      "execution_count": null,
      "metadata": {
        "id": "wQdCfX2OQELZ"
      },
      "outputs": [],
      "source": [
        "def read_conll2003(\n",
        "    path: str,\n",
        "    lower: bool = True,\n",
        ") -> Tuple[List[List[str]], List[List[str]]]:\n",
        "    \"\"\"\n",
        "    Prepare data in CoNNL like format.\n",
        "    \"\"\"\n",
        "\n",
        "    token_seq = []\n",
        "    label_seq = []\n",
        "    with open(path, 'r') as f:\n",
        "      read_file = f.readlines()\n",
        "    token_seq.append([])\n",
        "    label_seq.append([])\n",
        "    i = 0\n",
        "    for line in tqdm(read_file):\n",
        "      tmp = line.split()\n",
        "      if len(tmp) > 0:\n",
        "        t, s = tmp\n",
        "        if lower:\n",
        "          t = t.lower()\n",
        "        token_seq[i].append(t)\n",
        "        label_seq[i].append(s)\n",
        "      else:\n",
        "        i += 1\n",
        "        token_seq.append([])\n",
        "        label_seq.append([])\n",
        "\n",
        "    if len(token_seq[-1]) == 0:\n",
        "      token_seq = token_seq[:-1]\n",
        "      label_seq = label_seq[:-1]\n",
        "    return token_seq, label_seq"
      ]
    },
    {
      "cell_type": "code",
      "execution_count": null,
      "metadata": {
        "colab": {
          "base_uri": "https://localhost:8080/"
        },
        "id": "-inr1BPgQELb",
        "outputId": "b26f4f0c-e673-4d90-dec3-1a1e604cdeb6"
      },
      "outputs": [
        {
          "output_type": "stream",
          "name": "stderr",
          "text": [
            "100%|██████████| 219552/219552 [00:00<00:00, 1081066.80it/s]\n",
            "100%|██████████| 55042/55042 [00:00<00:00, 1042769.36it/s]\n",
            "100%|██████████| 50348/50348 [00:00<00:00, 592630.02it/s]\n"
          ]
        }
      ],
      "source": [
        "train_token_seq, train_label_seq = read_conll2003(\"data/train.tsv\")\n",
        "valid_token_seq, valid_label_seq = read_conll2003(\"data/valid.tsv\")\n",
        "test_token_seq, test_label_seq = read_conll2003(\"data/test.tsv\")"
      ]
    },
    {
      "cell_type": "code",
      "execution_count": null,
      "metadata": {
        "colab": {
          "base_uri": "https://localhost:8080/"
        },
        "id": "HK8AcwWGQELd",
        "outputId": "495c5951-024e-499c-caf5-be5fc6a70252"
      },
      "outputs": [
        {
          "output_type": "stream",
          "name": "stdout",
          "text": [
            "eu\tB-ORG\n",
            "rejects\tO\n",
            "german\tB-MISC\n",
            "call\tO\n",
            "to\tO\n",
            "boycott\tO\n",
            "british\tB-MISC\n",
            "lamb\tO\n",
            ".\tO\n"
          ]
        }
      ],
      "source": [
        "for token, label in zip(train_token_seq[0], train_label_seq[0]):\n",
        "    print(f\"{token}\\t{label}\")"
      ]
    },
    {
      "cell_type": "code",
      "execution_count": null,
      "metadata": {
        "id": "K8SqDeMJjF3Y",
        "colab": {
          "base_uri": "https://localhost:8080/"
        },
        "outputId": "5848422a-86c9-49fa-af8b-774219bf0047"
      },
      "outputs": [
        {
          "output_type": "stream",
          "name": "stdout",
          "text": [
            "cricket\tO\n",
            "-\tO\n",
            "leicestershire\tB-ORG\n",
            "take\tO\n",
            "over\tO\n",
            "at\tO\n",
            "top\tO\n",
            "after\tO\n",
            "innings\tO\n",
            "victory\tO\n",
            ".\tO\n"
          ]
        }
      ],
      "source": [
        "for token, label in zip(valid_token_seq[0], valid_label_seq[0]):\n",
        "    print(f\"{token}\\t{label}\")"
      ]
    },
    {
      "cell_type": "code",
      "execution_count": null,
      "metadata": {
        "colab": {
          "base_uri": "https://localhost:8080/"
        },
        "id": "ddFE7p5kjF_p",
        "outputId": "e4573d53-45c5-4a30-80e6-4ccb9a4d4150"
      },
      "outputs": [
        {
          "output_type": "stream",
          "name": "stdout",
          "text": [
            "soccer\tO\n",
            "-\tO\n",
            "japan\tB-LOC\n",
            "get\tO\n",
            "lucky\tO\n",
            "win\tO\n",
            ",\tO\n",
            "china\tB-PER\n",
            "in\tO\n",
            "surprise\tO\n",
            "defeat\tO\n",
            ".\tO\n"
          ]
        }
      ],
      "source": [
        "for token, label in zip(test_token_seq[0], test_label_seq[0]):\n",
        "    print(f\"{token}\\t{label}\")"
      ]
    },
    {
      "cell_type": "code",
      "source": [
        "def read_data(\n",
        "    path: str,\n",
        "    lower: bool = False,\n",
        ") -> Tuple[List[List[str]], List[List[str]], List[List[int]]]:\n",
        "    \n",
        "    token_seq = []\n",
        "    label_seq = []\n",
        "    persn_seq = []\n",
        "    with open(path, 'r') as f:\n",
        "      read_file = f.readlines()\n",
        "    token_seq.append([])\n",
        "    label_seq.append([])\n",
        "    persn_seq.append([])\n",
        "    i = 0\n",
        "    is_name = False\n",
        "    name_num = 0\n",
        "    for line in tqdm(read_file):\n",
        "      tmp = line.split()\n",
        "      if len(tmp) == 0:\n",
        "        i += 1\n",
        "        token_seq.append([])\n",
        "        label_seq.append([])\n",
        "        persn_seq.append([])\n",
        "      elif len(tmp) > 1:\n",
        "        t = tmp[0]\n",
        "        if lower:\n",
        "          t = t.lower()\n",
        "        token_seq[i].append(t)\n",
        "        label_seq[i].append(tmp[1])\n",
        "        if len(tmp) > 2:\n",
        "          persn_seq[i].append(int(tmp[2]))\n",
        "          is_name = True\n",
        "          name_num = int(tmp[2])\n",
        "        elif tmp[1] == 'I-PER' and is_name:\n",
        "          persn_seq[i].append(name_num)\n",
        "        else:\n",
        "          is_name = False\n",
        "          name_num = 0          \n",
        "          persn_seq[i].append(0)\n",
        "\n",
        "    if len(token_seq[-1]) == 0:\n",
        "      token_seq = token_seq[:-1]\n",
        "      label_seq = label_seq[:-1]\n",
        "      persn_seq = persn_seq[:-1]\n",
        "    return token_seq, label_seq, persn_seq"
      ],
      "metadata": {
        "id": "91ELsV9mPBJw"
      },
      "execution_count": null,
      "outputs": []
    },
    {
      "cell_type": "markdown",
      "source": [
        "Данные для первого этапа обучения:"
      ],
      "metadata": {
        "id": "OuvaCedTlyG8"
      }
    },
    {
      "cell_type": "code",
      "execution_count": null,
      "metadata": {
        "colab": {
          "base_uri": "https://localhost:8080/"
        },
        "outputId": "fc851fbd-bbe9-4e51-f1a3-e673fd8b2a4d",
        "id": "AlOVmrpil1Hd"
      },
      "outputs": [
        {
          "output_type": "stream",
          "name": "stderr",
          "text": [
            "100%|██████████| 259393/259393 [00:00<00:00, 1053900.49it/s]\n",
            "100%|██████████| 53055/53055 [00:00<00:00, 454564.36it/s]\n",
            "100%|██████████| 49409/49409 [00:00<00:00, 502310.82it/s]\n"
          ]
        }
      ],
      "source": [
        "train_token_seq, train_label_seq, _ = read_data(\"/content/train.txt\")\n",
        "valid_token_seq, valid_label_seq, _ = read_data(\"/content/valid.txt\")\n",
        "test_token_seq, test_label_seq, _ = read_data(\"/content/test.txt\")"
      ]
    },
    {
      "cell_type": "code",
      "source": [
        "not_empty_train = [i for i in range(len(train_token_seq)) if len(train_token_seq[i]) > 0]\n",
        "not_empty_valid = [i for i in range(len(valid_token_seq)) if len(valid_token_seq[i]) > 0]\n",
        "not_empty_test = [i for i in range(len(test_token_seq)) if len(test_token_seq[i]) > 0]"
      ],
      "metadata": {
        "id": "cZqCteDgmjKh"
      },
      "execution_count": null,
      "outputs": []
    },
    {
      "cell_type": "code",
      "source": [
        "train_token_seq = [train_token_seq[i] for i in not_empty_train]\n",
        "train_label_seq  = [train_label_seq[i] for i in not_empty_train]\n",
        "\n",
        "valid_token_seq = [valid_token_seq[i] for i in not_empty_valid]\n",
        "valid_label_seq  = [valid_label_seq[i] for i in not_empty_valid]\n",
        "\n",
        "test_token_seq = [test_token_seq[i] for i in not_empty_test]\n",
        "test_label_seq  = [test_label_seq[i] for i in not_empty_test]"
      ],
      "metadata": {
        "id": "8VJ1nAnOnHrC"
      },
      "execution_count": null,
      "outputs": []
    },
    {
      "cell_type": "markdown",
      "source": [
        "Эксперименты:"
      ],
      "metadata": {
        "id": "eaccZLjVlqI5"
      }
    },
    {
      "cell_type": "code",
      "source": [
        "data_file_name = '/content/ent_test_1.txt'"
      ],
      "metadata": {
        "id": "81sfiZs_zLJW"
      },
      "execution_count": null,
      "outputs": []
    },
    {
      "cell_type": "code",
      "source": [
        "train_token_seq, train_label_seq, train_person_seq = read_data(data_file_name)"
      ],
      "metadata": {
        "colab": {
          "base_uri": "https://localhost:8080/"
        },
        "id": "0j-6ShYpkizP",
        "outputId": "c622b9c7-a0c5-441d-b1b5-5c0f6b54bd77"
      },
      "execution_count": null,
      "outputs": [
        {
          "output_type": "stream",
          "name": "stderr",
          "text": [
            "100%|██████████| 682/682 [00:00<00:00, 134713.92it/s]\n"
          ]
        }
      ]
    },
    {
      "cell_type": "code",
      "source": [
        "not_empty_train = [i for i in range(len(train_token_seq)) if len(train_token_seq[i]) > 0]\n",
        "train_token_seq = [train_token_seq[i] for i in not_empty_train]\n",
        "train_label_seq  = [train_label_seq[i] for i in not_empty_train]\n",
        "train_person_seq = [train_person_seq[i] for i in not_empty_train]"
      ],
      "metadata": {
        "id": "AVdac1bekzEG"
      },
      "execution_count": null,
      "outputs": []
    },
    {
      "cell_type": "code",
      "execution_count": null,
      "metadata": {
        "id": "IthnXKsoo7A3"
      },
      "outputs": [],
      "source": [
        "token2cnt = Counter([token for sentence in train_token_seq for token in sentence])"
      ]
    },
    {
      "cell_type": "code",
      "execution_count": null,
      "metadata": {
        "colab": {
          "base_uri": "https://localhost:8080/"
        },
        "id": "b_v8YUM7QELg",
        "outputId": "f128faa1-669b-4b90-f8aa-431b5b8519ae"
      },
      "outputs": [
        {
          "output_type": "execute_result",
          "data": {
            "text/plain": [
              "[('the', 8390),\n",
              " ('.', 7374),\n",
              " (',', 7290),\n",
              " ('of', 3815),\n",
              " ('in', 3621),\n",
              " ('to', 3424),\n",
              " ('a', 3199),\n",
              " ('and', 2872),\n",
              " ('(', 2861),\n",
              " (')', 2861)]"
            ]
          },
          "metadata": {},
          "execution_count": 21
        }
      ],
      "source": [
        "token2cnt.most_common(10)"
      ]
    },
    {
      "cell_type": "code",
      "execution_count": null,
      "metadata": {
        "id": "aCaPftCyQELi"
      },
      "outputs": [],
      "source": [
        "\n",
        "\n",
        "def get_token2idx(\n",
        "    token2cnt: Dict[str, int],\n",
        "    min_count: int,\n",
        ") -> Dict[str, int]:\n",
        "    \"\"\"\n",
        "    Get mapping from tokens to indices to use with Embedding layer.\n",
        "    \"\"\"\n",
        "\n",
        "    token2idx: Dict[str, int] = {}\n",
        "\n",
        "    token2idx['<PAD>'] = 0\n",
        "    token2idx['<UNK>'] = 1\n",
        "    i = 2    \n",
        "    for key, value in token2cnt.items():\n",
        "      if value >= min_count:\n",
        "        token2idx[key] = i\n",
        "        i += 1\n",
        "\n",
        "    return token2idx"
      ]
    },
    {
      "cell_type": "code",
      "execution_count": null,
      "metadata": {
        "id": "uFK130y-sLH4"
      },
      "outputs": [],
      "source": [
        "token2idx = get_token2idx(token2cnt, min_count=2)"
      ]
    },
    {
      "cell_type": "code",
      "execution_count": null,
      "metadata": {
        "id": "g69HFZC7QELh"
      },
      "outputs": [],
      "source": [
        "# Функция для сортировки тегов, чтобы сначала был тег O, потом теги B- и только после теги I- (можно задать вручную)\n",
        "\n",
        "def sort_labels_func(x: str) -> int:\n",
        "    if x == \"O\":\n",
        "        return 0\n",
        "    elif x.startswith(\"B-\"):\n",
        "        return 1\n",
        "    else:\n",
        "        return 2\n",
        "\n",
        "label_set = sorted(\n",
        "    set(label for sentence in train_label_seq for label in sentence),\n",
        "    key=lambda x: (sort_labels_func(x), x),\n",
        ")"
      ]
    },
    {
      "cell_type": "code",
      "execution_count": null,
      "metadata": {
        "colab": {
          "base_uri": "https://localhost:8080/"
        },
        "id": "VI_3m4qbQELi",
        "outputId": "0d21a045-ab7d-4b92-c257-f2ef9386af41"
      },
      "outputs": [
        {
          "output_type": "execute_result",
          "data": {
            "text/plain": [
              "['O', 'B-LOC', 'B-ORG', 'B-PER', 'I-LOC', 'I-ORG', 'I-PER']"
            ]
          },
          "metadata": {},
          "execution_count": 11
        }
      ],
      "source": [
        "label_set"
      ]
    },
    {
      "cell_type": "code",
      "execution_count": null,
      "metadata": {
        "id": "t6i51GPtQELj"
      },
      "outputs": [],
      "source": [
        "def get_label2idx(label_set: List[str]) -> Dict[str, int]:\n",
        "    \"\"\"\n",
        "    Get mapping from labels to indices.\n",
        "    \"\"\"\n",
        "\n",
        "    label2idx: Dict[str, int] = {}\n",
        "\n",
        "    for idx, i in enumerate(label_set):\n",
        "      label2idx[i] = idx\n",
        "\n",
        "    return label2idx"
      ]
    },
    {
      "cell_type": "code",
      "execution_count": null,
      "metadata": {
        "id": "XW6fK0HtQELk"
      },
      "outputs": [],
      "source": [
        "label2idx = get_label2idx(label_set)"
      ]
    },
    {
      "cell_type": "code",
      "execution_count": null,
      "metadata": {
        "colab": {
          "base_uri": "https://localhost:8080/"
        },
        "id": "O7U7bMrHQELl",
        "outputId": "f560080f-11d2-4c10-8afe-30a5bbcc2ceb"
      },
      "outputs": [
        {
          "output_type": "stream",
          "name": "stdout",
          "text": [
            "<PAD>\t0\n",
            "<UNK>\t1\n",
            "eu\t2\n",
            "german\t3\n",
            "call\t4\n",
            "to\t5\n",
            "boycott\t6\n",
            "british\t7\n",
            "lamb\t8\n",
            ".\t9\n"
          ]
        }
      ],
      "source": [
        "for token, idx in list(token2idx.items())[:10]:\n",
        "    print(f\"{token}\\t{idx}\")"
      ]
    },
    {
      "cell_type": "code",
      "execution_count": null,
      "metadata": {
        "colab": {
          "base_uri": "https://localhost:8080/"
        },
        "id": "Hp75V-o2QELl",
        "outputId": "45de6cc1-8b8d-4868-bde2-e9cbaf800063"
      },
      "outputs": [
        {
          "output_type": "stream",
          "name": "stdout",
          "text": [
            "O\t0\n",
            "B-LOC\t1\n",
            "B-MISC\t2\n",
            "B-ORG\t3\n",
            "B-PER\t4\n",
            "I-LOC\t5\n",
            "I-MISC\t6\n",
            "I-ORG\t7\n",
            "I-PER\t8\n"
          ]
        }
      ],
      "source": [
        "for label, idx in label2idx.items():\n",
        "    print(f\"{label}\\t{idx}\")"
      ]
    },
    {
      "cell_type": "markdown",
      "metadata": {
        "id": "1Ul5gLriQELs"
      },
      "source": [
        "## BiLSTM-теггер "
      ]
    },
    {
      "cell_type": "code",
      "execution_count": null,
      "metadata": {
        "id": "uMiLQljZQELt"
      },
      "outputs": [],
      "source": [
        "class BiLSTM(torch.nn.Module):\n",
        "    \"\"\"\n",
        "    Bidirectional LSTM architecture.\n",
        "    \"\"\"\n",
        "\n",
        "    def __init__(\n",
        "        self,\n",
        "        num_embeddings: int,\n",
        "        embedding_dim: int,\n",
        "        hidden_size: int,\n",
        "        num_layers: int,\n",
        "        dropout: float,\n",
        "        bidirectional: bool,\n",
        "        n_classes: int,\n",
        "    ):\n",
        "        super().__init__()\n",
        "\n",
        "        self.embedding = torch.nn.Embedding(num_embeddings=num_embeddings, \n",
        "                                            embedding_dim=embedding_dim)\n",
        "        self.rnn = torch.nn.LSTM(input_size=embedding_dim, \n",
        "                                 hidden_size=hidden_size,\n",
        "                                 num_layers=num_layers,\n",
        "                                 batch_first=True,\n",
        "                                 dropout=dropout,\n",
        "                                 bidirectional=bidirectional)\n",
        "        self.head = torch.nn.Linear(2*hidden_size, n_classes)\n",
        "\n",
        "    def forward(self, tokens: torch.LongTensor) -> torch.Tensor:\n",
        "        embed = self.embedding(tokens)\n",
        "\n",
        "        # используем специальную функцию pack_padded_sequence для того, чтобы получить структуру PackedSequence\n",
        "        # которая не учитывать паддинг при проходе rnn\n",
        "        length = (tokens != 0).sum(dim=1).detach().cpu()\n",
        "        packed_embed = torch.nn.utils.rnn.pack_padded_sequence(\n",
        "            embed, length, batch_first=True, enforce_sorted=False\n",
        "          )\n",
        "        \n",
        "        # используем специальную функцию pad_packed_sequence для того, чтобы получить тензор из PackedSequence\n",
        "        packed_rnn_output, _ = self.rnn(packed_embed)\n",
        "        rnn_output, _ = torch.nn.utils.rnn.pad_packed_sequence(\n",
        "            packed_rnn_output, batch_first=True)\n",
        "        \n",
        "        \n",
        "        logits = self.head(rnn_output)\n",
        "        return logits.transpose(1, 2)"
      ]
    },
    {
      "cell_type": "code",
      "execution_count": null,
      "metadata": {
        "id": "zps8HL2VQELu"
      },
      "outputs": [],
      "source": [
        "model = BiLSTM(\n",
        "    num_embeddings=len(token2idx),\n",
        "    embedding_dim=100,\n",
        "    hidden_size=100,\n",
        "    num_layers=1,\n",
        "    dropout=0.0,\n",
        "    bidirectional=True,\n",
        "    n_classes=len(label2idx),\n",
        ").to(device)"
      ]
    },
    {
      "cell_type": "code",
      "execution_count": null,
      "metadata": {
        "colab": {
          "base_uri": "https://localhost:8080/"
        },
        "id": "nmg2_C_oQELu",
        "outputId": "3cd456bb-a792-4d48-9c2a-2a11c89ef77a"
      },
      "outputs": [
        {
          "output_type": "execute_result",
          "data": {
            "text/plain": [
              "BiLSTM(\n",
              "  (embedding): Embedding(10952, 100)\n",
              "  (rnn): LSTM(100, 100, batch_first=True, bidirectional=True)\n",
              "  (head): Linear(in_features=200, out_features=9, bias=True)\n",
              ")"
            ]
          },
          "metadata": {},
          "execution_count": 41
        }
      ],
      "source": [
        "model"
      ]
    },
    {
      "cell_type": "code",
      "execution_count": null,
      "metadata": {
        "id": "sDvWB5J2QELv"
      },
      "outputs": [],
      "source": [
        "optimizer = torch.optim.Adam(model.parameters(), lr=1e-4)\n",
        "criterion = torch.nn.CrossEntropyLoss(ignore_index=-1)"
      ]
    },
    {
      "cell_type": "code",
      "source": [
        "torch.save(model.state_dict, '/content/drive/MyDrive/transformer_weights/BiLSTM_weights.pt')"
      ],
      "metadata": {
        "id": "Ltui5VubkFcp"
      },
      "execution_count": null,
      "outputs": []
    },
    {
      "cell_type": "code",
      "execution_count": null,
      "metadata": {
        "id": "xkpo3JgWQELx"
      },
      "outputs": [],
      "source": [
        "from sklearn.metrics import accuracy_score, precision_score, recall_score, f1_score\n",
        "\n",
        "\n",
        "def compute_metrics(\n",
        "    outputs: torch.Tensor,\n",
        "    labels: torch.LongTensor,\n",
        ") -> Dict[str, float]:\n",
        "    \"\"\"\n",
        "    Compute NER metrics.\n",
        "    \"\"\"\n",
        "\n",
        "    metrics = {}\n",
        "\n",
        "    mask = labels != -1\n",
        "    y_pred = labels[mask].cpu()\n",
        "    y_true = torch.argmax(outputs, dim = 1)[mask].cpu()\n",
        "\n",
        "    # accuracy\n",
        "    accuracy = accuracy_score(\n",
        "        y_true=y_true,\n",
        "        y_pred=y_pred,\n",
        "    )\n",
        "\n",
        "    # precision\n",
        "    precision_micro = precision_score(\n",
        "        y_true=y_true,\n",
        "        y_pred=y_pred,\n",
        "        average=\"micro\",\n",
        "        zero_division=0,\n",
        "    )\n",
        "    precision_macro = precision_score(\n",
        "        y_true=y_true,\n",
        "        y_pred=y_pred,\n",
        "        average=\"macro\",\n",
        "        zero_division=0,\n",
        "    )\n",
        "    precision_weighted = precision_score(\n",
        "        y_true=y_true,\n",
        "        y_pred=y_pred,\n",
        "        average=\"weighted\",\n",
        "        zero_division=0,\n",
        "    )\n",
        "\n",
        "    # recall\n",
        "    recall_micro = recall_score(\n",
        "        y_true=y_true,\n",
        "        y_pred=y_pred,\n",
        "        average=\"micro\",\n",
        "        zero_division=0,\n",
        "        \n",
        "    )\n",
        "    recall_macro = recall_score(\n",
        "        y_true=y_true,\n",
        "        y_pred=y_pred,\n",
        "        average=\"macro\",\n",
        "        zero_division=0,\n",
        "    )\n",
        "    recall_weighted = recall_score(\n",
        "        y_true=y_true,\n",
        "        y_pred=y_pred,\n",
        "        average=\"weighted\",\n",
        "        zero_division=0,\n",
        "    )\n",
        "\n",
        "    # f1\n",
        "    f1_micro = f1_score(\n",
        "        y_true=y_true,\n",
        "        y_pred=y_pred,\n",
        "        average=\"micro\",\n",
        "        zero_division=0,\n",
        "    )\n",
        "    f1_macro = f1_score(\n",
        "        y_true=y_true,\n",
        "        y_pred=y_pred,\n",
        "        average=\"macro\",\n",
        "        zero_division=0,\n",
        "    )\n",
        "    f1_weighted = f1_score(\n",
        "        y_true=y_true,\n",
        "        y_pred=y_pred,\n",
        "        average=\"weighted\",\n",
        "        zero_division=0,\n",
        "    )\n",
        "\n",
        "    metrics[\"accuracy\"] = accuracy\n",
        "\n",
        "    metrics[\"precision_micro\"]    = precision_micro\n",
        "    metrics[\"precision_macro\"]    = precision_macro\n",
        "    metrics[\"precision_weighted\"] = precision_weighted\n",
        "\n",
        "    metrics[\"recall_micro\"]    = recall_micro\n",
        "    metrics[\"recall_macro\"]    = recall_macro\n",
        "    metrics[\"recall_weighted\"] = recall_weighted\n",
        "\n",
        "    metrics[\"f1_micro\"]    = f1_micro\n",
        "    metrics[\"f1_macro\"]    = f1_macro\n",
        "    metrics[\"f1_weighted\"] = f1_weighted\n",
        "\n",
        "    return metrics"
      ]
    },
    {
      "cell_type": "code",
      "execution_count": null,
      "metadata": {
        "id": "sG3vQbc_QEL0"
      },
      "outputs": [],
      "source": [
        "def train_epoch(\n",
        "    model: torch.nn.Module,\n",
        "    dataloader: torch.utils.data.DataLoader,\n",
        "    optimizer: torch.optim.Optimizer,\n",
        "    criterion: torch.nn.Module,\n",
        "    writer: SummaryWriter,\n",
        "    device: torch.device,\n",
        "    epoch: int,\n",
        ") -> None:\n",
        "    \"\"\"\n",
        "    One training cycle (loop).\n",
        "    \"\"\"\n",
        "\n",
        "    model.train()\n",
        "\n",
        "    epoch_loss = []\n",
        "    batch_metrics_list = defaultdict(list)\n",
        "\n",
        "    for i, (tokens, labels) in tqdm(\n",
        "        enumerate(dataloader),\n",
        "        total=len(dataloader),\n",
        "        desc=\"loop over train batches\",\n",
        "    ):\n",
        "\n",
        "        tokens, labels = tokens.to(device), labels.to(device)\n",
        "\n",
        "        optimizer.zero_grad()\n",
        "        outputs = model(tokens['input_ids'])\n",
        "        loss = criterion(outputs, labels)\n",
        "        loss.backward()\n",
        "        optimizer.step()\n",
        "\n",
        "        epoch_loss.append(loss.item())\n",
        "        writer.add_scalar(\n",
        "            \"batch loss / train\", loss.item(), epoch * len(dataloader) + i\n",
        "        )\n",
        "\n",
        "        with torch.no_grad():\n",
        "            model.eval()\n",
        "            outputs_inference = model(tokens['input_ids'])\n",
        "            model.train()\n",
        "\n",
        "        batch_metrics = compute_metrics(\n",
        "            outputs=outputs_inference,\n",
        "            labels=labels,\n",
        "        )\n",
        "\n",
        "        for metric_name, metric_value in batch_metrics.items():\n",
        "            batch_metrics_list[metric_name].append(metric_value)\n",
        "            writer.add_scalar(\n",
        "                f\"batch {metric_name} / train\",\n",
        "                metric_value,\n",
        "                epoch * len(dataloader) + i,\n",
        "            )\n",
        "\n",
        "    avg_loss = np.mean(epoch_loss)\n",
        "    print(f\"Train loss: {avg_loss}\\n\")\n",
        "    writer.add_scalar(\"loss / train\", avg_loss, epoch)\n",
        "\n",
        "    for metric_name, metric_value_list in batch_metrics_list.items():\n",
        "        metric_value = np.mean(metric_value_list)\n",
        "        print(f\"Train {metric_name}: {metric_value}\\n\")\n",
        "        writer.add_scalar(f\"{metric_name} / train\", metric_value, epoch)"
      ]
    },
    {
      "cell_type": "code",
      "execution_count": null,
      "metadata": {
        "id": "p4ztFogtQEL0"
      },
      "outputs": [],
      "source": [
        "def evaluate_epoch(\n",
        "    model: torch.nn.Module,\n",
        "    dataloader: torch.utils.data.DataLoader,\n",
        "    criterion: torch.nn.Module,\n",
        "    writer: SummaryWriter,\n",
        "    device: torch.device,\n",
        "    epoch: int,\n",
        ") -> None:\n",
        "    \"\"\"\n",
        "    One evaluation cycle (loop).\n",
        "    \"\"\"\n",
        "\n",
        "    model.eval()\n",
        "\n",
        "    epoch_loss = []\n",
        "    batch_metrics_list = defaultdict(list)\n",
        "\n",
        "    with torch.no_grad():\n",
        "\n",
        "        for i, (tokens, labels) in tqdm(\n",
        "            enumerate(dataloader),\n",
        "            total=len(dataloader),\n",
        "            desc=\"loop over test batches\",\n",
        "        ):\n",
        "\n",
        "            tokens, labels = tokens.to(device), labels.to(device)\n",
        "\n",
        "            outputs = model(tokens['input_ids'])\n",
        "            loss = criterion(outputs, labels)\n",
        "            \n",
        "            epoch_loss.append(loss.item())\n",
        "            writer.add_scalar(\n",
        "                \"batch loss / test\", loss.item(), epoch * len(dataloader) + i\n",
        "            )\n",
        "\n",
        "            batch_metrics = compute_metrics(\n",
        "                outputs=outputs,\n",
        "                labels=labels,\n",
        "            )\n",
        "\n",
        "            for metric_name, metric_value in batch_metrics.items():\n",
        "                batch_metrics_list[metric_name].append(metric_value)\n",
        "                writer.add_scalar(\n",
        "                    f\"batch {metric_name} / test\",\n",
        "                    metric_value,\n",
        "                    epoch * len(dataloader) + i,\n",
        "                )\n",
        "\n",
        "        avg_loss = np.mean(epoch_loss)\n",
        "        print(f\"Test loss:  {avg_loss}\\n\")\n",
        "        writer.add_scalar(\"loss / test\", avg_loss, epoch)\n",
        "\n",
        "        for metric_name, metric_value_list in batch_metrics_list.items():\n",
        "            metric_value = np.mean(metric_value_list)\n",
        "            print(f\"Test {metric_name}: {metric_value}\\n\")\n",
        "            writer.add_scalar(f\"{metric_name} / test\", np.mean(metric_value), epoch)"
      ]
    },
    {
      "cell_type": "code",
      "execution_count": null,
      "metadata": {
        "id": "z7Z5MTNzQEL1"
      },
      "outputs": [],
      "source": [
        "def train(\n",
        "    n_epochs: int,\n",
        "    model: torch.nn.Module,\n",
        "    train_dataloader: torch.utils.data.DataLoader,\n",
        "    test_dataloader: torch.utils.data.DataLoader,\n",
        "    optimizer: torch.optim.Optimizer,\n",
        "    criterion: torch.nn.Module,\n",
        "    writer: SummaryWriter,\n",
        "    device: torch.device,\n",
        ") -> None:\n",
        "    \"\"\"\n",
        "    Training loop.\n",
        "    \"\"\"\n",
        "\n",
        "    for epoch in range(n_epochs):\n",
        "\n",
        "        print(f\"Epoch [{epoch+1} / {n_epochs}]\\n\")\n",
        "\n",
        "        train_epoch(\n",
        "            model=model,\n",
        "            dataloader=train_dataloader,\n",
        "            optimizer=optimizer,\n",
        "            criterion=criterion,\n",
        "            writer=writer,\n",
        "            device=device,\n",
        "            epoch=epoch,\n",
        "        )\n",
        "        evaluate_epoch(\n",
        "            model=model,\n",
        "            dataloader=test_dataloader,\n",
        "            criterion=criterion,\n",
        "            writer=writer,\n",
        "            device=device,\n",
        "            epoch=epoch,\n",
        "        )"
      ]
    },
    {
      "cell_type": "code",
      "execution_count": null,
      "metadata": {
        "id": "yz6mjGZUQEL2"
      },
      "outputs": [],
      "source": [
        "train(n_epochs=12,\n",
        "      model=model,\n",
        "      train_dataloader=train_dataloader,\n",
        "      test_dataloader=valid_dataloader,\n",
        "      optimizer=optimizer,\n",
        "      criterion=criterion,\n",
        "      writer=writer,\n",
        "      device=device)"
      ]
    },
    {
      "cell_type": "code",
      "execution_count": null,
      "metadata": {
        "id": "VS513sDtFaRq"
      },
      "outputs": [],
      "source": [
        "!cp -a /content/logs/BiLSTMModel/ /content/drive/MyDrive/BiLSTM"
      ]
    },
    {
      "cell_type": "code",
      "execution_count": null,
      "metadata": {
        "id": "GjK3S7C9xECp"
      },
      "outputs": [],
      "source": [
        "evaluate_epoch(\n",
        "  model=model,\n",
        "  dataloader=test_dataloader,\n",
        "  criterion=criterion,\n",
        "  writer=writer,\n",
        "  device=device,\n",
        "  epoch=12,\n",
        ")\n"
      ]
    },
    {
      "cell_type": "markdown",
      "metadata": {
        "id": "H8R6nopyQEL-"
      },
      "source": [
        "## Transformers-теггер"
      ]
    },
    {
      "cell_type": "code",
      "execution_count": null,
      "metadata": {
        "id": "4-UTiI4gQEL-"
      },
      "outputs": [],
      "source": [
        "from transformers import AutoTokenizer"
      ]
    },
    {
      "cell_type": "code",
      "execution_count": null,
      "metadata": {
        "id": "kSbBhvnDQEMA"
      },
      "outputs": [],
      "source": [
        "model_name = \"distilbert-base-cased\""
      ]
    },
    {
      "cell_type": "code",
      "source": [
        "model_name = 'DeepPavlov/rubert-base-cased'"
      ],
      "metadata": {
        "id": "O9R9pn-BqYUr"
      },
      "execution_count": null,
      "outputs": []
    },
    {
      "cell_type": "code",
      "execution_count": null,
      "metadata": {
        "id": "3tg_bCeaQEMA",
        "colab": {
          "base_uri": "https://localhost:8080/",
          "height": 145,
          "referenced_widgets": [
            "89d1f47d0ab14130b2c63d8c8a4e7674",
            "f90fa12e390f441a832bf24adf35c53e",
            "4246e23fbacb4b9ca1c7cd56f0f3a2e7",
            "08278d770c6c4819bba1c82bd489320c",
            "3d13e9ccb95247a7814cb2d0a91b952d",
            "a212ea772d264d82aa0dd9612e22c8fc",
            "0b919b6bbebf4f54800832512f7a6078",
            "518b42d765d24d438b3358a990b22b3c",
            "5b92dd49a1c04290b331e1e1ccad807c",
            "dc1ee508a9f04d73b0de565bd06c3d34",
            "b2fe09ef13394ea08c1001a8e1fc5847",
            "4c26f881ce254cc79a7d81e7d094e015",
            "1d0d2261cb094397aa1a9ff9fd437715",
            "a24130d65fd24ba5a81e527f993dfb02",
            "f5b7511c3ba443f682382e4f1c647e09",
            "85451f865eb5425a900b642f477121b1",
            "1cd7b9df410e43ec887145ec38b96e5b",
            "2d5eda27f73e4628a00a45ccd0446b27",
            "bea93769067e440b8e0a1c72eba57139",
            "fd41c1918d614a30a5368d4781eeeae3",
            "f46182ef7299489d8a39de7f6f884c18",
            "2e5cd154f1ba4769a3d170532b7b5c15",
            "3fe6b8b3be2343c68d96a20ee475cf51",
            "b7867cbb7a834a6e98f79852bd51d854",
            "21c093987c5049808a7159b89238096e",
            "f7f228a734eb45c2a3c1c4a6cd9be044",
            "47cbc525604e4e4b89b4baba08d90f38",
            "71c9baa97d6147ff9cf1e383f0c1976a",
            "55d069b1cf3d4273b2276bdb355f3d3a",
            "6f5499baa5f54ad2b90b9ddc7f2fe27e",
            "9657be7bfcf747febc4a15a63aff3418",
            "58e3dd3459a9448ebaa2c4b1bdf38ff0",
            "8f67416a2fbe4fa38fa76dfa38936c06",
            "cb249f7f06ae44e1856bda64741072c9",
            "26514dfac0504661a11107bded70169a",
            "9c2f441087ce4100b0465b0cc90f46ba",
            "1b5610808acf47b18528ecd3e8ea4b76",
            "3b35532ae0cd415e9b920e3c8089b885",
            "7b1006d329564b27a95916667006ca1a",
            "763c6a52af3d495d93f8f792ca194f38",
            "a83be69796ea4b7a8cbdb2a171bd9c0e",
            "bdd559bb1e0b48109eeeb6cce352f565",
            "e4f491070a7f4bb7bd95e03c5263b0b4",
            "a9d738105a92466b9147afa38b2f5a4c"
          ]
        },
        "outputId": "3f0cd020-be7d-40e7-f627-c5ae7bb76eb5"
      },
      "outputs": [
        {
          "output_type": "display_data",
          "data": {
            "text/plain": [
              "Downloading tokenizer_config.json:   0%|          | 0.00/24.0 [00:00<?, ?B/s]"
            ],
            "application/vnd.jupyter.widget-view+json": {
              "version_major": 2,
              "version_minor": 0,
              "model_id": "89d1f47d0ab14130b2c63d8c8a4e7674"
            }
          },
          "metadata": {}
        },
        {
          "output_type": "display_data",
          "data": {
            "text/plain": [
              "Downloading config.json:   0%|          | 0.00/642 [00:00<?, ?B/s]"
            ],
            "application/vnd.jupyter.widget-view+json": {
              "version_major": 2,
              "version_minor": 0,
              "model_id": "4c26f881ce254cc79a7d81e7d094e015"
            }
          },
          "metadata": {}
        },
        {
          "output_type": "display_data",
          "data": {
            "text/plain": [
              "Downloading vocab.txt:   0%|          | 0.00/1.57M [00:00<?, ?B/s]"
            ],
            "application/vnd.jupyter.widget-view+json": {
              "version_major": 2,
              "version_minor": 0,
              "model_id": "3fe6b8b3be2343c68d96a20ee475cf51"
            }
          },
          "metadata": {}
        },
        {
          "output_type": "display_data",
          "data": {
            "text/plain": [
              "Downloading special_tokens_map.json:   0%|          | 0.00/112 [00:00<?, ?B/s]"
            ],
            "application/vnd.jupyter.widget-view+json": {
              "version_major": 2,
              "version_minor": 0,
              "model_id": "cb249f7f06ae44e1856bda64741072c9"
            }
          },
          "metadata": {}
        }
      ],
      "source": [
        "tokenizer = AutoTokenizer.from_pretrained(model_name)"
      ]
    },
    {
      "cell_type": "code",
      "source": [
        "tokenizer"
      ],
      "metadata": {
        "id": "r_s1-LGNXeH1",
        "colab": {
          "base_uri": "https://localhost:8080/"
        },
        "outputId": "d3551cb2-a105-4e7a-848b-fab3457d3fea"
      },
      "execution_count": null,
      "outputs": [
        {
          "output_type": "execute_result",
          "data": {
            "text/plain": [
              "PreTrainedTokenizerFast(name_or_path='distilbert-base-cased', vocab_size=28996, model_max_len=512, is_fast=True, padding_side='right', truncation_side='right', special_tokens={'unk_token': '[UNK]', 'sep_token': '[SEP]', 'pad_token': '[PAD]', 'cls_token': '[CLS]', 'mask_token': '[MASK]'})"
            ]
          },
          "metadata": {},
          "execution_count": 63
        }
      ]
    },
    {
      "cell_type": "code",
      "execution_count": null,
      "metadata": {
        "id": "7EoNLDOOQEMB"
      },
      "outputs": [],
      "source": [
        "class TransformersDataset(torch.utils.data.Dataset):\n",
        "    \"\"\"\n",
        "    Transformers Dataset for NER.\n",
        "    \"\"\"\n",
        "\n",
        "    def __init__(\n",
        "        self,\n",
        "        token_seq: List[List[str]],\n",
        "        label_seq: List[List[str]],\n",
        "    ):\n",
        "        self.token_seq = token_seq\n",
        "        self.label_seq = [self.process_labels(labels, label2idx) for labels in label_seq]\n",
        "\n",
        "    def __len__(self):\n",
        "        return len(self.token_seq)\n",
        "\n",
        "    def __getitem__(\n",
        "        self,\n",
        "        idx: int,\n",
        "    ) -> Tuple[List[str], List[int]]:\n",
        "\n",
        "        return (self.token_seq[idx], self.label_seq[idx])\n",
        "    \n",
        "    @staticmethod\n",
        "    def process_labels(\n",
        "        labels: List[str],\n",
        "        label2idx: Dict[str, int],\n",
        "    ) -> List[int]:\n",
        "        \"\"\"\n",
        "        Transform list of labels into list of labels' indices.\n",
        "        \"\"\"\n",
        "\n",
        "        return [label2idx[label] for label in labels]"
      ]
    },
    {
      "cell_type": "code",
      "execution_count": null,
      "metadata": {
        "id": "gmwtS0B4zS8p"
      },
      "outputs": [],
      "source": [
        "class TransformersDataset_plus(torch.utils.data.Dataset):\n",
        "    \"\"\"\n",
        "    Transformers Dataset for NER.\n",
        "    \"\"\"\n",
        "\n",
        "    def __init__(\n",
        "        self,\n",
        "        token_seq: List[List[str]],\n",
        "        label_seq: List[List[str]],\n",
        "        persn_seq: List[List[int]],\n",
        "    ):\n",
        "        self.token_seq = token_seq\n",
        "        self.label_seq = [self.process_labels(labels, label2idx) for labels in label_seq]\n",
        "        self.persn_seq = persn_seq\n",
        "\n",
        "    def __len__(self):\n",
        "        return len(self.token_seq)\n",
        "\n",
        "    def __getitem__(\n",
        "        self,\n",
        "        idx: int,\n",
        "    ) -> Tuple[List[str], List[int]]:\n",
        "\n",
        "        return (self.token_seq[idx], self.label_seq[idx], self.persn_seq[idx])\n",
        "    \n",
        "    @staticmethod\n",
        "    def process_labels(\n",
        "        labels: List[str],\n",
        "        label2idx: Dict[str, int],\n",
        "    ) -> List[int]:\n",
        "        \"\"\"\n",
        "        Transform list of labels into list of labels' indices.\n",
        "        \"\"\"\n",
        "\n",
        "        return [label2idx[label] for label in labels]"
      ]
    },
    {
      "cell_type": "code",
      "source": [
        "train_dataset = TransformersDataset_plus(\n",
        "    token_seq=train_token_seq,\n",
        "    label_seq=train_label_seq,\n",
        "    persn_seq=train_person_seq\n",
        ")"
      ],
      "metadata": {
        "id": "faUn7kBOR7dq"
      },
      "execution_count": null,
      "outputs": []
    },
    {
      "cell_type": "code",
      "execution_count": null,
      "metadata": {
        "id": "vqg56Jf8QEMC"
      },
      "outputs": [],
      "source": [
        "train_dataset = TransformersDataset(\n",
        "    token_seq=train_token_seq,\n",
        "    label_seq=train_label_seq,\n",
        ")\n",
        "valid_dataset = TransformersDataset(\n",
        "    token_seq=valid_token_seq,\n",
        "    label_seq=valid_label_seq,\n",
        ")\n",
        "test_dataset = TransformersDataset(\n",
        "    token_seq=test_token_seq,\n",
        "    label_seq=test_label_seq,\n",
        ")"
      ]
    },
    {
      "cell_type": "code",
      "execution_count": null,
      "metadata": {
        "id": "IT00Pjy6QEMC",
        "colab": {
          "base_uri": "https://localhost:8080/"
        },
        "outputId": "093b5f72-cb2c-407e-9ebe-3b2bb669f9d8"
      },
      "outputs": [
        {
          "output_type": "execute_result",
          "data": {
            "text/plain": [
              "(['Один',\n",
              "  'экземпляр',\n",
              "  'я',\n",
              "  'послал',\n",
              "  'позже',\n",
              "  'И',\n",
              "  '.',\n",
              "  'В',\n",
              "  '.',\n",
              "  'Сталину',\n",
              "  ',',\n",
              "  'чтобы',\n",
              "  'он',\n",
              "  'понял',\n",
              "  ',',\n",
              "  'как',\n",
              "  'дерутся',\n",
              "  'бойцы',\n",
              "  '.'],\n",
              " [0, 0, 0, 0, 0, 3, 6, 6, 6, 6, 0, 0, 0, 0, 0, 0, 0, 0, 0],\n",
              " [0, 0, 0, 0, 0, 1, 1, 1, 1, 1, 0, 0, 0, 0, 0, 0, 0, 0, 0])"
            ]
          },
          "metadata": {},
          "execution_count": 47
        }
      ],
      "source": [
        "train_dataset[1]"
      ]
    },
    {
      "cell_type": "code",
      "execution_count": null,
      "metadata": {
        "id": "uYal2icQmuD-"
      },
      "outputs": [],
      "source": [
        "valid_dataset[0]"
      ]
    },
    {
      "cell_type": "code",
      "execution_count": null,
      "metadata": {
        "id": "FCXd3FWVmuKe"
      },
      "outputs": [],
      "source": [
        "test_dataset[0]"
      ]
    },
    {
      "cell_type": "code",
      "execution_count": null,
      "metadata": {
        "id": "BonAp65jQEMD"
      },
      "outputs": [],
      "source": [
        "from transformers import PreTrainedTokenizer\n",
        "from transformers.tokenization_utils_base import BatchEncoding\n",
        "\n",
        "\n",
        "class TransformersCollator:\n",
        "    \"\"\"\n",
        "    Transformers Collator that handles variable-size sentences.\n",
        "    \"\"\"\n",
        "\n",
        "    def __init__(\n",
        "        self,\n",
        "        tokenizer: PreTrainedTokenizer,\n",
        "        tokenizer_kwargs: Dict[str, Any],\n",
        "        label_padding_value: int,\n",
        "    ):\n",
        "        self.tokenizer = tokenizer\n",
        "        self.tokenizer_kwargs = tokenizer_kwargs\n",
        "        \n",
        "        self.label_padding_value = label_padding_value\n",
        "\n",
        "    def __call__(\n",
        "        self,\n",
        "        batch: List[Tuple[List[str], List[int]]],\n",
        "    ): #-> Tuple[torch.LongTensor, torch.LongTensor]:\n",
        "        tokens, labels = zip(*batch)\n",
        "\n",
        "        tokens = self.tokenizer(list(tokens), **self.tokenizer_kwargs)\n",
        "        labels = self.encode_labels(tokens, labels, self.label_padding_value)\n",
        "\n",
        "        tokens.pop(\"offset_mapping\")\n",
        "\n",
        "        return tokens, labels\n",
        "    \n",
        "    @staticmethod\n",
        "    def encode_labels(\n",
        "        tokens: BatchEncoding,\n",
        "        labels: List[List[int]],\n",
        "        label_padding_value: int,\n",
        "    ) -> torch.LongTensor:\n",
        "    \n",
        "    \n",
        "\n",
        "        encoded_labels = []\n",
        "        \n",
        "        for doc_labels, doc_offset in zip(labels, tokens.offset_mapping):\n",
        "\n",
        "            doc_enc_labels = np.ones(len(doc_offset), dtype=int) * label_padding_value\n",
        "            arr_offset = np.array(doc_offset)\n",
        "            try:\n",
        "              doc_enc_labels[(arr_offset[:,0] == 0) & (arr_offset[:,1] != 0)] = doc_labels\n",
        "              encoded_labels.append(doc_enc_labels.tolist())\n",
        "            except ValueError:\n",
        "              return 'Error'\n",
        "    \n",
        "        return torch.LongTensor(encoded_labels)"
      ]
    },
    {
      "cell_type": "code",
      "execution_count": null,
      "metadata": {
        "id": "sx0JMxErTNyp"
      },
      "outputs": [],
      "source": [
        "from transformers import PreTrainedTokenizer\n",
        "from transformers.tokenization_utils_base import BatchEncoding\n",
        "\n",
        "\n",
        "class TransformersCollator_plus:\n",
        "    \"\"\"\n",
        "    Transformers Collator that handles variable-size sentences.\n",
        "    \"\"\"\n",
        "\n",
        "    def __init__(\n",
        "        self,\n",
        "        tokenizer: PreTrainedTokenizer,\n",
        "        tokenizer_kwargs: Dict[str, Any],\n",
        "        label_padding_value: int,\n",
        "        id2person: Dict[int, List[List[str]]],\n",
        "    ):\n",
        "        self.tokenizer = tokenizer\n",
        "        self.tokenizer_kwargs = tokenizer_kwargs\n",
        "        self.label_padding_value = label_padding_value\n",
        "        self.id2person = id2person\n",
        "\n",
        "    def __call__(\n",
        "        self,\n",
        "        batch: List[Tuple[List[str], List[int], List[int]]],\n",
        "    ) -> Tuple[torch.LongTensor, torch.LongTensor, torch.LongTensor]:\n",
        "        tokens, labels, persons = zip(*batch)\n",
        "\n",
        " \n",
        "        tokens = list(tokens)\n",
        "        persons_list = [person for person_in_sentence in persons \n",
        "                        for person in person_in_sentence if person > 0]\n",
        "        pred_pers_label = 0\n",
        "        pers_count = 0\n",
        "        for person in persons_list:\n",
        "          if pred_pers_label != person:\n",
        "            pers_count += 1\n",
        "            pred_pers_label = person\n",
        "            tokens.append(self.positive_sample(person))\n",
        "            tokens.append(self.negative_sample(person))\n",
        "        tokens = self.tokenizer(list(tokens), **self.tokenizer_kwargs)\n",
        "        labels, persons = self.encode_labels(tokens.offset_mapping[:-pers_count*2], labels, persons, self.label_padding_value)\n",
        "\n",
        "        tokens.pop(\"offset_mapping\")\n",
        "\n",
        "        return tokens, labels, persons\n",
        "    \n",
        "    def positive_sample(self, person_id: int):\n",
        "      return random.choice(self.id2person[person_id])\n",
        "    \n",
        "    def negative_sample(self, person_id: int):\n",
        "      list_for_choice = [i+1 for i in range(len(self.id2person)) if i+1 != person_id]\n",
        "      return random.choice(self.id2person[random.choice(list_for_choice)])\n",
        "\n",
        "    @staticmethod\n",
        "    def encode_labels(\n",
        "        tokens_offset_mapping: BatchEncoding,\n",
        "        labels: List[List[int]],\n",
        "        persons: List[List[int]],\n",
        "        label_padding_value: int,\n",
        "    ) -> torch.LongTensor:\n",
        "\n",
        "        encoded_labels = []\n",
        "        encoded_persons = []\n",
        "\n",
        "        for doc_labels, doc_persons, doc_offset in zip(labels, persons, tokens_offset_mapping):\n",
        "\n",
        "            doc_enc_labels = np.ones(len(doc_offset), dtype=int) * label_padding_value\n",
        "            doc_enc_persons = np.ones(len(doc_offset), dtype=int) * label_padding_value\n",
        "            arr_offset = np.array(doc_offset)\n",
        "\n",
        "            doc_enc_labels[(arr_offset[:,0] == 0) & (arr_offset[:,1] != 0)] = doc_labels\n",
        "            doc_enc_persons[(arr_offset[:,0] == 0) & (arr_offset[:,1] != 0)] = doc_persons\n",
        "            encoded_labels.append(doc_enc_labels.tolist())\n",
        "            encoded_persons.append(doc_enc_persons.tolist())\n",
        "\n",
        "        return torch.LongTensor(encoded_labels), torch.LongTensor(encoded_persons)"
      ]
    },
    {
      "cell_type": "code",
      "execution_count": null,
      "metadata": {
        "id": "iC8JkUPnQEMD"
      },
      "outputs": [],
      "source": [
        "tokenizer_kwargs = {\n",
        "    \"is_split_into_words\":    True,\n",
        "    \"return_offsets_mapping\": True,\n",
        "    \"padding\":                True,\n",
        "    \"truncation\":             True,\n",
        "    \"max_length\":             512,\n",
        "    \"return_tensors\":         \"pt\",\n",
        "}"
      ]
    },
    {
      "cell_type": "code",
      "source": [
        "id2sent = {\n",
        "            1:[['Сталин'],['И','.','В','.','Сталин'], ['Коба'], ['Иосиф', 'Виссарионович'], ['Джугашвили']],\n",
        "            2: [['Жуков'],['Г','.','К','.','Жуков'],['Георгий','Константинович','Жуков']]\n",
        "          }"
      ],
      "metadata": {
        "id": "JmVX471LMULa"
      },
      "execution_count": null,
      "outputs": []
    },
    {
      "cell_type": "code",
      "execution_count": null,
      "metadata": {
        "id": "_EK_JJMCNEbY"
      },
      "outputs": [],
      "source": [
        "collator = TransformersCollator_plus(\n",
        "    tokenizer=tokenizer,\n",
        "    tokenizer_kwargs=tokenizer_kwargs,\n",
        "    label_padding_value=-1,\n",
        "    id2person=id2sent\n",
        ")"
      ]
    },
    {
      "cell_type": "code",
      "source": [
        "train_dataloader = torch.utils.data.DataLoader(\n",
        "    train_dataset,\n",
        "    batch_size=1,\n",
        "    shuffle=True,\n",
        "#    shuffle=False,\n",
        "    collate_fn=collator,\n",
        ")"
      ],
      "metadata": {
        "id": "ZSxvEGG4Nbl-"
      },
      "execution_count": null,
      "outputs": []
    },
    {
      "cell_type": "markdown",
      "source": [
        "Выше эксперименты"
      ],
      "metadata": {
        "id": "BM8Xg-PcNq8_"
      }
    },
    {
      "cell_type": "code",
      "execution_count": null,
      "metadata": {
        "id": "5sCDaxR6QEMD"
      },
      "outputs": [],
      "source": [
        "collator = TransformersCollator(\n",
        "    tokenizer=tokenizer,\n",
        "    tokenizer_kwargs=tokenizer_kwargs,\n",
        "    label_padding_value=-1,\n",
        ")"
      ]
    },
    {
      "cell_type": "code",
      "execution_count": null,
      "metadata": {
        "id": "9JDrLC6pQEME"
      },
      "outputs": [],
      "source": [
        "train_dataloader = torch.utils.data.DataLoader(\n",
        "    train_dataset,\n",
        "    batch_size=2,\n",
        "    shuffle=True,\n",
        "#    shuffle=False,\n",
        "    collate_fn=collator,\n",
        ")\n",
        "valid_dataloader = torch.utils.data.DataLoader(\n",
        "    valid_dataset,\n",
        "    batch_size=1,  \n",
        "    shuffle=False, \n",
        "    collate_fn=collator,\n",
        ")\n",
        "test_dataloader = torch.utils.data.DataLoader(\n",
        "    test_dataset,\n",
        "    batch_size=1,  \n",
        "    shuffle=False, \n",
        "    collate_fn=collator,\n",
        ")"
      ]
    },
    {
      "cell_type": "code",
      "execution_count": null,
      "metadata": {
        "id": "KSWcYEAWQEME"
      },
      "outputs": [],
      "source": [
        "tokens, labels = next(iter(train_dataloader))\n",
        "tokens = tokens.to(device)\n",
        "labels = labels.to(device)"
      ]
    },
    {
      "cell_type": "code",
      "execution_count": null,
      "metadata": {
        "id": "5xf_Um2hWa6O"
      },
      "outputs": [],
      "source": [
        "tokens, labels, persons = next(iter(train_dataloader))\n",
        "\n",
        "tokens = tokens.to(device)\n",
        "labels = labels.to(device)\n",
        "persons = persons.to(device)\n"
      ]
    },
    {
      "cell_type": "code",
      "execution_count": null,
      "metadata": {
        "id": "NTcdU1BlQEME",
        "colab": {
          "base_uri": "https://localhost:8080/"
        },
        "outputId": "02ed1d4f-1fac-4a50-9a2a-1a8359669800"
      },
      "outputs": [
        {
          "output_type": "execute_result",
          "data": {
            "text/plain": [
              "torch.Size([2, 64])"
            ]
          },
          "metadata": {},
          "execution_count": 55
        }
      ],
      "source": [
        "tokens['input_ids'].shape"
      ]
    },
    {
      "cell_type": "code",
      "source": [
        "labels.shape"
      ],
      "metadata": {
        "colab": {
          "base_uri": "https://localhost:8080/"
        },
        "id": "YkV1RTzJPPUM",
        "outputId": "a88e05b1-e456-4b55-a5af-180eec617db7"
      },
      "execution_count": null,
      "outputs": [
        {
          "output_type": "execute_result",
          "data": {
            "text/plain": [
              "torch.Size([2, 64])"
            ]
          },
          "metadata": {},
          "execution_count": 52
        }
      ]
    },
    {
      "cell_type": "code",
      "source": [
        "persons"
      ],
      "metadata": {
        "colab": {
          "base_uri": "https://localhost:8080/"
        },
        "id": "bbyCpgS1StUs",
        "outputId": "ec8a4320-2c8f-419c-f4b1-e22eeb5375fa"
      },
      "execution_count": null,
      "outputs": [
        {
          "output_type": "execute_result",
          "data": {
            "text/plain": [
              "tensor([[-1,  0,  0,  0,  0,  0,  0,  0,  0,  0, -1,  0,  0,  1,  0,  0,  0,  0,\n",
              "          0,  0,  0,  0,  0,  0,  0, -1,  0,  0, -1,  0,  0,  0,  0, -1]])"
            ]
          },
          "metadata": {},
          "execution_count": 35
        }
      ]
    },
    {
      "cell_type": "code",
      "source": [
        "[tokenizer.decode(i) for i in tokens['input_ids']]"
      ],
      "metadata": {
        "id": "zbDGbWN36jwz"
      },
      "execution_count": null,
      "outputs": []
    },
    {
      "cell_type": "code",
      "source": [
        "inputs = tokenizer(train_dataset[0][0], **tokenizer_kwargs)\n",
        "print(inputs.tokens())"
      ],
      "metadata": {
        "id": "McDBNoND7rlw",
        "colab": {
          "base_uri": "https://localhost:8080/"
        },
        "outputId": "6fb3e8ff-18a1-4b60-ac0f-a637eefcf13a"
      },
      "execution_count": null,
      "outputs": [
        {
          "output_type": "stream",
          "name": "stdout",
          "text": [
            "['[CLS]', 'Некоторое', 'время', 'назад', 'Антонова', 'выступила', 'с', 'идеей', 'возрождения', 'ликвидирован', '##ного', 'по', 'приказу', 'Сталина', 'Государственного', 'музея', 'нового', 'западного', 'искусства', ',', 'основу', 'коллекции', 'которого', 'составляли', 'национализирован', '##ные', 'собрания', 'меценат', '##ов', 'Щукина', 'и', 'Морозова', '.', '[SEP]']\n"
          ]
        }
      ]
    },
    {
      "cell_type": "code",
      "source": [
        "inputs"
      ],
      "metadata": {
        "id": "pCuk-9AF9kcS"
      },
      "execution_count": null,
      "outputs": []
    },
    {
      "cell_type": "code",
      "execution_count": null,
      "metadata": {
        "id": "p7ZTh97-QEME"
      },
      "outputs": [],
      "source": [
        "labels"
      ]
    },
    {
      "cell_type": "code",
      "execution_count": null,
      "metadata": {
        "id": "x6tq_i7JQEMF"
      },
      "outputs": [],
      "source": [
        "from transformers import AutoModelForTokenClassification"
      ]
    },
    {
      "cell_type": "code",
      "execution_count": null,
      "metadata": {
        "id": "Vma9yj0zQEMF",
        "colab": {
          "base_uri": "https://localhost:8080/",
          "height": 156,
          "referenced_widgets": [
            "355d41e4c306427896ae9f1a5b3fa874",
            "9c1ae480fef5475b91cde21d67478d26",
            "eacb4210534f4558a1885ee3d4366461",
            "61204e026bed4f769bfbe63388cb021a",
            "07109e5b081f43bfa77e63b0fb4c0d5d",
            "cdcfa89ad317484a8acc1546bc70f144",
            "2785c85a83b14181af37cf97d6c13354",
            "205822c4c7f1452ca4df3c2a0d6dda44",
            "1dee9d50779a47808d991e7194166587",
            "fada9f7071ca44e89048434b12440ef1",
            "797e824b8b424dc9b96ce6a5e3cb9640"
          ]
        },
        "outputId": "febaaa77-162d-4804-b4f4-cb610b15fa22"
      },
      "outputs": [
        {
          "output_type": "display_data",
          "data": {
            "text/plain": [
              "Downloading pytorch_model.bin:   0%|          | 0.00/681M [00:00<?, ?B/s]"
            ],
            "application/vnd.jupyter.widget-view+json": {
              "version_major": 2,
              "version_minor": 0,
              "model_id": "355d41e4c306427896ae9f1a5b3fa874"
            }
          },
          "metadata": {}
        },
        {
          "output_type": "stream",
          "name": "stderr",
          "text": [
            "Some weights of the model checkpoint at DeepPavlov/rubert-base-cased were not used when initializing BertForTokenClassification: ['cls.predictions.decoder.weight', 'cls.seq_relationship.bias', 'cls.predictions.transform.LayerNorm.weight', 'cls.predictions.transform.LayerNorm.bias', 'cls.predictions.decoder.bias', 'cls.predictions.transform.dense.weight', 'cls.seq_relationship.weight', 'cls.predictions.transform.dense.bias', 'cls.predictions.bias']\n",
            "- This IS expected if you are initializing BertForTokenClassification from the checkpoint of a model trained on another task or with another architecture (e.g. initializing a BertForSequenceClassification model from a BertForPreTraining model).\n",
            "- This IS NOT expected if you are initializing BertForTokenClassification from the checkpoint of a model that you expect to be exactly identical (initializing a BertForSequenceClassification model from a BertForSequenceClassification model).\n",
            "Some weights of BertForTokenClassification were not initialized from the model checkpoint at DeepPavlov/rubert-base-cased and are newly initialized: ['classifier.bias', 'classifier.weight']\n",
            "You should probably TRAIN this model on a down-stream task to be able to use it for predictions and inference.\n"
          ]
        }
      ],
      "source": [
        "model = AutoModelForTokenClassification.from_pretrained(\n",
        "    model_name,\n",
        "    num_labels=len(label2idx),\n",
        ").to(device)"
      ]
    },
    {
      "cell_type": "code",
      "execution_count": null,
      "metadata": {
        "colab": {
          "base_uri": "https://localhost:8080/",
          "height": 156,
          "referenced_widgets": [
            "c5c25f3db23b4454afd2b19c740081cf",
            "a8e879b5ac4b41528adafcfbf6b45565",
            "da65674e86c34b96ac4c6a257bedafbe",
            "a6955d1d5ae84a359b283a4293cf8a19",
            "07312783d59d44ef9ab216903849a160",
            "38e700103a2a4b41afaa556326f50877",
            "1706f8459d634e3ea8e5de0012eb9e2c",
            "06cd97f93dad4c7ba6d0056543c61db7",
            "be13417f505f4069b0e7da093174b8fb",
            "1fd3b936b8d44f1eb6ac1bcd62113bcc",
            "8f76d09f247d48ba9fed4718f5dadae1"
          ]
        },
        "id": "-UVGVuO5ankN",
        "outputId": "6d9ffef7-7894-428f-bfa4-cf9c8eb62cbe"
      },
      "outputs": [
        {
          "output_type": "display_data",
          "data": {
            "text/plain": [
              "Downloading pytorch_model.bin:   0%|          | 0.00/681M [00:00<?, ?B/s]"
            ],
            "application/vnd.jupyter.widget-view+json": {
              "version_major": 2,
              "version_minor": 0,
              "model_id": "c5c25f3db23b4454afd2b19c740081cf"
            }
          },
          "metadata": {}
        },
        {
          "output_type": "stream",
          "name": "stderr",
          "text": [
            "Some weights of the model checkpoint at DeepPavlov/rubert-base-cased were not used when initializing BertForTokenClassification: ['cls.predictions.transform.LayerNorm.weight', 'cls.predictions.bias', 'cls.predictions.decoder.bias', 'cls.predictions.transform.dense.weight', 'cls.seq_relationship.weight', 'cls.predictions.transform.LayerNorm.bias', 'cls.predictions.decoder.weight', 'cls.predictions.transform.dense.bias', 'cls.seq_relationship.bias']\n",
            "- This IS expected if you are initializing BertForTokenClassification from the checkpoint of a model trained on another task or with another architecture (e.g. initializing a BertForSequenceClassification model from a BertForPreTraining model).\n",
            "- This IS NOT expected if you are initializing BertForTokenClassification from the checkpoint of a model that you expect to be exactly identical (initializing a BertForSequenceClassification model from a BertForSequenceClassification model).\n",
            "Some weights of BertForTokenClassification were not initialized from the model checkpoint at DeepPavlov/rubert-base-cased and are newly initialized: ['classifier.weight', 'classifier.bias']\n",
            "You should probably TRAIN this model on a down-stream task to be able to use it for predictions and inference.\n"
          ]
        }
      ],
      "source": [
        "model = AutoModelForTokenClassification.from_pretrained(\n",
        "    model_name,\n",
        "    num_labels=len(label2idx),\n",
        "    output_hidden_states=True\n",
        ").to(device)"
      ]
    },
    {
      "cell_type": "markdown",
      "source": [
        "Загрузка весов трансформерв для экспериментов"
      ],
      "metadata": {
        "id": "ETnOibxxf_ph"
      }
    },
    {
      "cell_type": "code",
      "execution_count": null,
      "metadata": {
        "colab": {
          "base_uri": "https://localhost:8080/"
        },
        "id": "AhweL-wOfz9D",
        "outputId": "9f6aa1fd-afc2-40eb-d56d-bf9c71d08139"
      },
      "outputs": [
        {
          "output_type": "execute_result",
          "data": {
            "text/plain": [
              "<All keys matched successfully>"
            ]
          },
          "metadata": {},
          "execution_count": 27
        }
      ],
      "source": [
        "state_dict = torch.load('/content/drive/MyDrive/transformer_weights/RUBERT_weights.pt', map_location=torch.device('cpu'))\n",
        "model.load_state_dict(state_dict())"
      ]
    },
    {
      "cell_type": "code",
      "execution_count": null,
      "metadata": {
        "id": "Imv-6gAQQEMG"
      },
      "outputs": [],
      "source": [
        "optimizer = torch.optim.Adam(model.parameters(), lr=1e-5)"
      ]
    },
    {
      "cell_type": "code",
      "source": [
        "batch_size = 1"
      ],
      "metadata": {
        "id": "jDJjdEQjeUx5"
      },
      "execution_count": null,
      "outputs": []
    },
    {
      "cell_type": "code",
      "source": [
        "class TripletLoss:\n",
        "  def __init__(self, batch_size, indent):\n",
        "    self.batch_size = batch_size\n",
        "    self.indent = indent\n",
        "    self.cos = torch.nn.CosineSimilarity(dim=0)\n",
        "  def __call__(self, last_hidden_states, persons):\n",
        "    #отделяем голову - предложения из батча\n",
        "    hid_head = last_hidden_states[:self.batch_size]\n",
        "    #хвост - положительные и отрицательные примеры из словаря\n",
        "    hid_tail = last_hidden_states[self.batch_size:]\n",
        "    #отбрасываем вектора ненужных токенов\n",
        "    mask = persons > 0\n",
        "    person = persons[mask]\n",
        "    head = hid_head[mask]\n",
        "    #создаем список интов для разбиения головы\n",
        "    list_to_split = []\n",
        "    prev_pers = 0\n",
        "    cout = 1\n",
        "    for pers in person:\n",
        "      if pers != prev_pers:\n",
        "        prev_pers = pers\n",
        "        list_to_split.append(cout)\n",
        "        cout = 1\n",
        "      else:\n",
        "        cout += 1\n",
        "    list_to_split.append(cout)\n",
        "    list_to_split = list_to_split[1:]\n",
        "    #разбиваем голову в соответствии с сущностями\n",
        "    head_tuple = torch.split(head, list_to_split)\n",
        "    #усредняем для хвоста - одна сущность - один вектор\n",
        "    tail = hid_tail.mean(axis=1)\n",
        "    tail_tuple = torch.split(tail, 2)\n",
        "    ret = None\n",
        "    for hd, tl in zip(head_tuple, tail_tuple):\n",
        "      hd = hd.mean(axis=0)\n",
        "      sum = self.cos(hd, tl[1]) - self.cos(hd,tl[0]) + self.indent\n",
        "      if ret == None:\n",
        "        if sum > 0:\n",
        "          ret = sum\n",
        "      elif sum > 0:\n",
        "        ret += sum\n",
        "    if ret == None:\n",
        "      ret = 0\n",
        "  \n",
        "    return ret\n"
      ],
      "metadata": {
        "id": "uT5d7UN0UjeG"
      },
      "execution_count": null,
      "outputs": []
    },
    {
      "cell_type": "code",
      "execution_count": null,
      "metadata": {
        "id": "5Ana4qGKeHrN"
      },
      "outputs": [],
      "source": [
        "\n",
        "from torch.utils.tensorboard import SummaryWriter\n",
        "\n",
        "writer = SummaryWriter(log_dir=f\"logs/Transformer\")"
      ]
    },
    {
      "cell_type": "code",
      "execution_count": null,
      "metadata": {
        "id": "Iv92wK5P7pjl"
      },
      "outputs": [],
      "source": [
        "criterion = torch.nn.CrossEntropyLoss(ignore_index=-1)"
      ]
    },
    {
      "cell_type": "code",
      "execution_count": null,
      "metadata": {
        "id": "N8d-WlEe_9u2"
      },
      "outputs": [],
      "source": [
        "def train_epoch(\n",
        "    model: torch.nn.Module,\n",
        "    dataloader: torch.utils.data.DataLoader,\n",
        "    optimizer: torch.optim.Optimizer,\n",
        "    criterion: torch.nn.Module,\n",
        "    writer: SummaryWriter,\n",
        "    device: torch.device,\n",
        "    epoch: int,\n",
        ") -> None:\n",
        "    \"\"\"\n",
        "    One training cycle (loop).\n",
        "    \"\"\"\n",
        "\n",
        "    model.train()\n",
        "\n",
        "    epoch_loss = []\n",
        "    batch_metrics_list = defaultdict(list)\n",
        "\n",
        "    for i, (tokens, labels) in tqdm(\n",
        "        enumerate(dataloader),\n",
        "        total=len(dataloader),\n",
        "        desc=\"loop over train batches\",\n",
        "    ):\n",
        "        if labels == 'Error':\n",
        "          continue\n",
        "        tokens, labels = tokens.to(device), labels.to(device)\n",
        "\n",
        " \n",
        "\n",
        "        optimizer.zero_grad()\n",
        "        outputs = model(**tokens)\n",
        "        loss = criterion(outputs[\"logits\"].transpose(1, 2), labels)\n",
        "        loss.backward()\n",
        "        optimizer.step()\n",
        "\n",
        "        epoch_loss.append(loss.item())\n",
        "        writer.add_scalar(\n",
        "            \"batch loss / train\", loss.item(), epoch * len(dataloader) + i\n",
        "        )\n",
        "\n",
        "        with torch.no_grad():\n",
        "            model.eval()\n",
        "            outputs_inference = model(**tokens)\n",
        "            model.train()\n",
        "\n",
        "        batch_metrics = compute_metrics(\n",
        "            outputs=outputs_inference[\"logits\"].transpose(1, 2),\n",
        "            labels=labels,\n",
        "        )\n",
        "\n",
        "        for metric_name, metric_value in batch_metrics.items():\n",
        "            batch_metrics_list[metric_name].append(metric_value)\n",
        "            writer.add_scalar(\n",
        "                f\"batch {metric_name} / train\",\n",
        "                metric_value,\n",
        "                epoch * len(dataloader) + i,\n",
        "            )\n",
        "\n",
        "    avg_loss = np.mean(epoch_loss)\n",
        "    print(f\"Train loss: {avg_loss}\\n\")\n",
        "    writer.add_scalar(\"loss / train\", avg_loss, epoch)\n",
        "\n",
        "    for metric_name, metric_value_list in batch_metrics_list.items():\n",
        "        metric_value = np.mean(metric_value_list)\n",
        "        print(f\"Train {metric_name}: {metric_value}\\n\")\n",
        "        writer.add_scalar(f\"{metric_name} / train\", metric_value, epoch)"
      ]
    },
    {
      "cell_type": "code",
      "execution_count": null,
      "metadata": {
        "id": "w5RYceoB_9u7"
      },
      "outputs": [],
      "source": [
        "def evaluate_epoch(\n",
        "    model: torch.nn.Module,\n",
        "    dataloader: torch.utils.data.DataLoader,\n",
        "    criterion: torch.nn.Module,\n",
        "    writer: SummaryWriter,\n",
        "    device: torch.device,\n",
        "    epoch: int,\n",
        ") -> None:\n",
        "    \"\"\"\n",
        "    One evaluation cycle (loop).\n",
        "    \"\"\"\n",
        "\n",
        "    model.eval()\n",
        "\n",
        "    epoch_loss = []\n",
        "    batch_metrics_list = defaultdict(list)\n",
        "\n",
        "    with torch.no_grad():\n",
        "\n",
        "        for i, (tokens, labels) in tqdm(\n",
        "            enumerate(dataloader),\n",
        "            total=len(dataloader),\n",
        "            desc=\"loop over test batches\",\n",
        "        ):\n",
        "            if labels == 'Error':\n",
        "              continue\n",
        "\n",
        "            tokens, labels = tokens.to(device), labels.to(device)\n",
        "\n",
        "            outputs = model(**tokens)\n",
        "            loss = criterion(outputs[\"logits\"].transpose(1, 2), labels)\n",
        "            \n",
        "            epoch_loss.append(loss.item())\n",
        "            writer.add_scalar(\n",
        "                \"batch loss / test\", loss.item(), epoch * len(dataloader) + i\n",
        "            )\n",
        "\n",
        "            batch_metrics = compute_metrics(\n",
        "                outputs=outputs[\"logits\"].transpose(1, 2),\n",
        "                labels=labels,\n",
        "            )\n",
        "\n",
        "            for metric_name, metric_value in batch_metrics.items():\n",
        "                batch_metrics_list[metric_name].append(metric_value)\n",
        "                writer.add_scalar(\n",
        "                    f\"batch {metric_name} / test\",\n",
        "                    metric_value,\n",
        "                    epoch * len(dataloader) + i,\n",
        "                )\n",
        "\n",
        "        avg_loss = np.mean(epoch_loss)\n",
        "        print(f\"Test loss:  {avg_loss}\\n\")\n",
        "        writer.add_scalar(\"loss / test\", avg_loss, epoch)\n",
        "\n",
        "        for metric_name, metric_value_list in batch_metrics_list.items():\n",
        "            metric_value = np.mean(metric_value_list)\n",
        "            print(f\"Test {metric_name}: {metric_value}\\n\")\n",
        "            writer.add_scalar(f\"{metric_name} / test\", np.mean(metric_value), epoch)"
      ]
    },
    {
      "cell_type": "code",
      "execution_count": null,
      "metadata": {
        "id": "cfIPtmwa_9vB"
      },
      "outputs": [],
      "source": [
        "def train(\n",
        "    n_epochs: int,\n",
        "    model: torch.nn.Module,\n",
        "    train_dataloader: torch.utils.data.DataLoader,\n",
        "    test_dataloader: torch.utils.data.DataLoader,\n",
        "    optimizer: torch.optim.Optimizer,\n",
        "    criterion: torch.nn.Module,\n",
        "    writer: SummaryWriter,\n",
        "    device: torch.device,\n",
        ") -> None:\n",
        "    \"\"\"\n",
        "    Training loop.\n",
        "    \"\"\"\n",
        "\n",
        "    for epoch in range(n_epochs):\n",
        "\n",
        "        print(f\"Epoch [{epoch+1} / {n_epochs}]\\n\")\n",
        "\n",
        "        train_epoch(\n",
        "            model=model,\n",
        "            dataloader=train_dataloader,\n",
        "            optimizer=optimizer,\n",
        "            criterion=criterion,\n",
        "            writer=writer,\n",
        "            device=device,\n",
        "            epoch=epoch,\n",
        "        )\n",
        "        evaluate_epoch(\n",
        "            model=model,\n",
        "            dataloader=test_dataloader,\n",
        "            criterion=criterion,\n",
        "            writer=writer,\n",
        "            device=device,\n",
        "            epoch=epoch,\n",
        "        )"
      ]
    },
    {
      "cell_type": "code",
      "execution_count": null,
      "metadata": {
        "id": "4HhZZ-Ng_9vC",
        "colab": {
          "base_uri": "https://localhost:8080/"
        },
        "outputId": "1ecd1462-b199-4d06-c178-254e76a90e73"
      },
      "outputs": [
        {
          "metadata": {
            "tags": null
          },
          "name": "stdout",
          "output_type": "stream",
          "text": [
            "Epoch [1 / 8]\n",
            "\n"
          ]
        },
        {
          "metadata": {
            "tags": null
          },
          "name": "stderr",
          "output_type": "stream",
          "text": [
            "loop over train batches: 100%|██████████| 6612/6612 [13:50<00:00,  7.96it/s]\n"
          ]
        },
        {
          "metadata": {
            "tags": null
          },
          "name": "stdout",
          "output_type": "stream",
          "text": [
            "Train loss: 0.056066848826155605\n",
            "\n",
            "Train accuracy: 0.9888284104778672\n",
            "\n",
            "Train precision_micro: 0.9888284104778672\n",
            "\n",
            "Train precision_macro: 0.9552241822073263\n",
            "\n",
            "Train precision_weighted: 0.9925906946729647\n",
            "\n",
            "Train recall_micro: 0.9888284104778672\n",
            "\n",
            "Train recall_macro: 0.9534081542512496\n",
            "\n",
            "Train recall_weighted: 0.9888284104778672\n",
            "\n",
            "Train f1_micro: 0.9888284104778672\n",
            "\n",
            "Train f1_macro: 0.9523089873468832\n",
            "\n",
            "Train f1_weighted: 0.9898025068578065\n",
            "\n"
          ]
        },
        {
          "metadata": {
            "tags": null
          },
          "name": "stderr",
          "output_type": "stream",
          "text": [
            "loop over test batches: 100%|██████████| 2575/2575 [00:52<00:00, 49.29it/s]\n"
          ]
        },
        {
          "metadata": {
            "tags": null
          },
          "name": "stdout",
          "output_type": "stream",
          "text": [
            "Test loss:  0.024658386643333995\n",
            "\n",
            "Test accuracy: 0.9935605131184811\n",
            "\n",
            "Test precision_micro: 0.9935605131184811\n",
            "\n",
            "Test precision_macro: 0.981890647762415\n",
            "\n",
            "Test precision_weighted: 0.9938698491750418\n",
            "\n",
            "Test recall_micro: 0.9935605131184811\n",
            "\n",
            "Test recall_macro: 0.9803520591133272\n",
            "\n",
            "Test recall_weighted: 0.9935605131184811\n",
            "\n",
            "Test f1_micro: 0.9935605131184811\n",
            "\n",
            "Test f1_macro: 0.9802127450413017\n",
            "\n",
            "Test f1_weighted: 0.9931641149808017\n",
            "\n",
            "Epoch [2 / 8]\n",
            "\n"
          ]
        },
        {
          "output_type": "stream",
          "name": "stderr",
          "text": [
            "loop over train batches: 100%|██████████| 6612/6612 [13:43<00:00,  8.03it/s]\n"
          ]
        },
        {
          "output_type": "stream",
          "name": "stdout",
          "text": [
            "Train loss: 0.022317182376600277\n",
            "\n",
            "Train accuracy: 0.996342637085972\n",
            "\n",
            "Train precision_micro: 0.996342637085972\n",
            "\n",
            "Train precision_macro: 0.9857338300209456\n",
            "\n",
            "Train precision_weighted: 0.9967260551871542\n",
            "\n",
            "Train recall_micro: 0.996342637085972\n",
            "\n",
            "Train recall_macro: 0.9851684749934592\n",
            "\n",
            "Train recall_weighted: 0.996342637085972\n",
            "\n",
            "Train f1_micro: 0.996342637085972\n",
            "\n",
            "Train f1_macro: 0.9846255165281877\n",
            "\n",
            "Train f1_weighted: 0.9962403089393342\n",
            "\n"
          ]
        },
        {
          "output_type": "stream",
          "name": "stderr",
          "text": [
            "loop over test batches: 100%|██████████| 2575/2575 [00:52<00:00, 48.69it/s]\n"
          ]
        },
        {
          "output_type": "stream",
          "name": "stdout",
          "text": [
            "Test loss:  0.02218159767229153\n",
            "\n",
            "Test accuracy: 0.9944400507589755\n",
            "\n",
            "Test precision_micro: 0.9944400507589755\n",
            "\n",
            "Test precision_macro: 0.9845537419349689\n",
            "\n",
            "Test precision_weighted: 0.995715340394315\n",
            "\n",
            "Test recall_micro: 0.9944400507589755\n",
            "\n",
            "Test recall_macro: 0.9841887651459538\n",
            "\n",
            "Test recall_weighted: 0.9944400507589755\n",
            "\n",
            "Test f1_micro: 0.9944400507589755\n",
            "\n",
            "Test f1_macro: 0.9836979753585587\n",
            "\n",
            "Test f1_weighted: 0.9946100704797733\n",
            "\n",
            "Epoch [3 / 8]\n",
            "\n"
          ]
        },
        {
          "output_type": "stream",
          "name": "stderr",
          "text": [
            "loop over train batches: 100%|██████████| 6612/6612 [13:46<00:00,  8.00it/s]\n"
          ]
        },
        {
          "output_type": "stream",
          "name": "stdout",
          "text": [
            "Train loss: 0.014736567804603423\n",
            "\n",
            "Train accuracy: 0.9975956130688567\n",
            "\n",
            "Train precision_micro: 0.9975956130688567\n",
            "\n",
            "Train precision_macro: 0.9908526895929831\n",
            "\n",
            "Train precision_weighted: 0.9979900603207105\n",
            "\n",
            "Train recall_micro: 0.9975956130688567\n",
            "\n",
            "Train recall_macro: 0.9907140728735953\n",
            "\n",
            "Train recall_weighted: 0.9975956130688567\n",
            "\n",
            "Train f1_micro: 0.9975956130688567\n",
            "\n",
            "Train f1_macro: 0.9902121558410012\n",
            "\n",
            "Train f1_weighted: 0.997600183901945\n",
            "\n"
          ]
        },
        {
          "output_type": "stream",
          "name": "stderr",
          "text": [
            "loop over test batches: 100%|██████████| 2575/2575 [00:53<00:00, 47.87it/s]\n"
          ]
        },
        {
          "output_type": "stream",
          "name": "stdout",
          "text": [
            "Test loss:  0.022294635523228738\n",
            "\n",
            "Test accuracy: 0.9946381633496986\n",
            "\n",
            "Test precision_micro: 0.9946381633496986\n",
            "\n",
            "Test precision_macro: 0.9865352464798313\n",
            "\n",
            "Test precision_weighted: 0.9955775996973124\n",
            "\n",
            "Test recall_micro: 0.9946381633496986\n",
            "\n",
            "Test recall_macro: 0.9855785284010388\n",
            "\n",
            "Test recall_weighted: 0.9946381633496986\n",
            "\n",
            "Test f1_micro: 0.9946381633496986\n",
            "\n",
            "Test f1_macro: 0.9853509128088359\n",
            "\n",
            "Test f1_weighted: 0.9946716698258409\n",
            "\n",
            "Epoch [4 / 8]\n",
            "\n"
          ]
        },
        {
          "output_type": "stream",
          "name": "stderr",
          "text": [
            "loop over train batches: 100%|██████████| 6612/6612 [13:50<00:00,  7.96it/s]\n"
          ]
        },
        {
          "output_type": "stream",
          "name": "stdout",
          "text": [
            "Train loss: 0.011178229354397422\n",
            "\n",
            "Train accuracy: 0.9983697991996818\n",
            "\n",
            "Train precision_micro: 0.9983697991996818\n",
            "\n",
            "Train precision_macro: 0.9936674979481366\n",
            "\n",
            "Train precision_weighted: 0.9985972969952103\n",
            "\n",
            "Train recall_micro: 0.9983697991996818\n",
            "\n",
            "Train recall_macro: 0.9932795713987382\n",
            "\n",
            "Train recall_weighted: 0.9983697991996818\n",
            "\n",
            "Train f1_micro: 0.9983697991996818\n",
            "\n",
            "Train f1_macro: 0.9931101738218248\n",
            "\n",
            "Train f1_weighted: 0.9983577837396801\n",
            "\n"
          ]
        },
        {
          "output_type": "stream",
          "name": "stderr",
          "text": [
            "loop over test batches: 100%|██████████| 2575/2575 [00:54<00:00, 47.61it/s]\n"
          ]
        },
        {
          "output_type": "stream",
          "name": "stdout",
          "text": [
            "Test loss:  0.027590975546919756\n",
            "\n",
            "Test accuracy: 0.9918470627573923\n",
            "\n",
            "Test precision_micro: 0.9918470627573923\n",
            "\n",
            "Test precision_macro: 0.9784916933234582\n",
            "\n",
            "Test precision_weighted: 0.991868269466131\n",
            "\n",
            "Test recall_micro: 0.9918470627573923\n",
            "\n",
            "Test recall_macro: 0.9756920009030963\n",
            "\n",
            "Test recall_weighted: 0.9918470627573923\n",
            "\n",
            "Test f1_micro: 0.9918470627573923\n",
            "\n",
            "Test f1_macro: 0.9760583443236253\n",
            "\n",
            "Test f1_weighted: 0.9911516934980922\n",
            "\n",
            "Epoch [5 / 8]\n",
            "\n"
          ]
        },
        {
          "output_type": "stream",
          "name": "stderr",
          "text": [
            "loop over train batches: 100%|██████████| 6612/6612 [13:51<00:00,  7.95it/s]\n"
          ]
        },
        {
          "output_type": "stream",
          "name": "stdout",
          "text": [
            "Train loss: 0.007775318792909052\n",
            "\n",
            "Train accuracy: 0.9989441944170855\n",
            "\n",
            "Train precision_micro: 0.9989441944170855\n",
            "\n",
            "Train precision_macro: 0.9960596589199645\n",
            "\n",
            "Train precision_weighted: 0.999029113823293\n",
            "\n",
            "Train recall_micro: 0.9989441944170855\n",
            "\n",
            "Train recall_macro: 0.9958694509185141\n",
            "\n",
            "Train recall_weighted: 0.9989441944170855\n",
            "\n",
            "Train f1_micro: 0.9989441944170855\n",
            "\n",
            "Train f1_macro: 0.9957121804711955\n",
            "\n",
            "Train f1_weighted: 0.9989032050339739\n",
            "\n"
          ]
        },
        {
          "output_type": "stream",
          "name": "stderr",
          "text": [
            "loop over test batches: 100%|██████████| 2575/2575 [00:57<00:00, 44.99it/s]\n"
          ]
        },
        {
          "output_type": "stream",
          "name": "stdout",
          "text": [
            "Test loss:  0.0284211199206794\n",
            "\n",
            "Test accuracy: 0.9936026741846493\n",
            "\n",
            "Test precision_micro: 0.9936026741846493\n",
            "\n",
            "Test precision_macro: 0.9818879079475574\n",
            "\n",
            "Test precision_weighted: 0.9942993620432217\n",
            "\n",
            "Test recall_micro: 0.9936026741846493\n",
            "\n",
            "Test recall_macro: 0.9808476305243576\n",
            "\n",
            "Test recall_weighted: 0.9936026741846493\n",
            "\n",
            "Test f1_micro: 0.9936026741846493\n",
            "\n",
            "Test f1_macro: 0.9806271972827222\n",
            "\n",
            "Test f1_weighted: 0.9934604341199167\n",
            "\n",
            "Epoch [6 / 8]\n",
            "\n"
          ]
        },
        {
          "output_type": "stream",
          "name": "stderr",
          "text": [
            "loop over train batches: 100%|██████████| 6612/6612 [13:57<00:00,  7.90it/s]\n"
          ]
        },
        {
          "output_type": "stream",
          "name": "stdout",
          "text": [
            "Train loss: 0.006093465760784175\n",
            "\n",
            "Train accuracy: 0.9992778121976886\n",
            "\n",
            "Train precision_micro: 0.9992778121976886\n",
            "\n",
            "Train precision_macro: 0.9969225538315193\n",
            "\n",
            "Train precision_weighted: 0.9993305762031968\n",
            "\n",
            "Train recall_micro: 0.9992778121976886\n",
            "\n",
            "Train recall_macro: 0.9965248900222005\n",
            "\n",
            "Train recall_weighted: 0.9992778121976886\n",
            "\n",
            "Train f1_micro: 0.9992778121976886\n",
            "\n",
            "Train f1_macro: 0.9965442955809757\n",
            "\n",
            "Train f1_weighted: 0.9992431902746863\n",
            "\n"
          ]
        },
        {
          "output_type": "stream",
          "name": "stderr",
          "text": [
            "loop over test batches: 100%|██████████| 2575/2575 [00:55<00:00, 46.45it/s]\n"
          ]
        },
        {
          "output_type": "stream",
          "name": "stdout",
          "text": [
            "Test loss:  0.0316951150209496\n",
            "\n",
            "Test accuracy: 0.993273768007262\n",
            "\n",
            "Test precision_micro: 0.993273768007262\n",
            "\n",
            "Test precision_macro: 0.9803429236688195\n",
            "\n",
            "Test precision_weighted: 0.9936483026651564\n",
            "\n",
            "Test recall_micro: 0.993273768007262\n",
            "\n",
            "Test recall_macro: 0.9791066292144864\n",
            "\n",
            "Test recall_weighted: 0.993273768007262\n",
            "\n",
            "Test f1_micro: 0.993273768007262\n",
            "\n",
            "Test f1_macro: 0.978674155138193\n",
            "\n",
            "Test f1_weighted: 0.992888621224122\n",
            "\n",
            "Epoch [7 / 8]\n",
            "\n"
          ]
        },
        {
          "output_type": "stream",
          "name": "stderr",
          "text": [
            "loop over train batches: 100%|██████████| 6612/6612 [13:52<00:00,  7.94it/s]\n"
          ]
        },
        {
          "output_type": "stream",
          "name": "stdout",
          "text": [
            "Train loss: 0.004934873717426103\n",
            "\n",
            "Train accuracy: 0.9994532555194404\n",
            "\n",
            "Train precision_micro: 0.9994532555194404\n",
            "\n",
            "Train precision_macro: 0.9977974453734046\n",
            "\n",
            "Train precision_weighted: 0.99951053344778\n",
            "\n",
            "Train recall_micro: 0.9994532555194404\n",
            "\n",
            "Train recall_macro: 0.9976705902450517\n",
            "\n",
            "Train recall_weighted: 0.9994532555194404\n",
            "\n",
            "Train f1_micro: 0.9994532555194404\n",
            "\n",
            "Train f1_macro: 0.9976226329780622\n",
            "\n",
            "Train f1_weighted: 0.9994479992998163\n",
            "\n"
          ]
        },
        {
          "output_type": "stream",
          "name": "stderr",
          "text": [
            "loop over test batches: 100%|██████████| 2575/2575 [00:54<00:00, 47.08it/s]\n"
          ]
        },
        {
          "output_type": "stream",
          "name": "stdout",
          "text": [
            "Test loss:  0.035686228609673125\n",
            "\n",
            "Test accuracy: 0.9941410320682404\n",
            "\n",
            "Test precision_micro: 0.9941410320682404\n",
            "\n",
            "Test precision_macro: 0.9810833656970301\n",
            "\n",
            "Test precision_weighted: 0.9944841992323067\n",
            "\n",
            "Test recall_micro: 0.9941410320682404\n",
            "\n",
            "Test recall_macro: 0.9804891807415828\n",
            "\n",
            "Test recall_weighted: 0.9941410320682404\n",
            "\n",
            "Test f1_micro: 0.9941410320682404\n",
            "\n",
            "Test f1_macro: 0.9801152825895159\n",
            "\n",
            "Test f1_weighted: 0.9938795053681576\n",
            "\n",
            "Epoch [8 / 8]\n",
            "\n"
          ]
        },
        {
          "output_type": "stream",
          "name": "stderr",
          "text": [
            "loop over train batches: 100%|██████████| 6612/6612 [14:00<00:00,  7.87it/s]\n"
          ]
        },
        {
          "output_type": "stream",
          "name": "stdout",
          "text": [
            "Train loss: 0.004135170928074093\n",
            "\n",
            "Train accuracy: 0.9994581172851434\n",
            "\n",
            "Train precision_micro: 0.9994581172851434\n",
            "\n",
            "Train precision_macro: 0.9980904100256628\n",
            "\n",
            "Train precision_weighted: 0.9995247361894511\n",
            "\n",
            "Train recall_micro: 0.9994581172851434\n",
            "\n",
            "Train recall_macro: 0.9981080543027943\n",
            "\n",
            "Train recall_weighted: 0.9994581172851434\n",
            "\n",
            "Train f1_micro: 0.9994581172851434\n",
            "\n",
            "Train f1_macro: 0.9980047213266702\n",
            "\n",
            "Train f1_weighted: 0.9994534193446781\n",
            "\n"
          ]
        },
        {
          "output_type": "stream",
          "name": "stderr",
          "text": [
            "loop over test batches: 100%|██████████| 2575/2575 [00:54<00:00, 47.55it/s]\n"
          ]
        },
        {
          "output_type": "stream",
          "name": "stdout",
          "text": [
            "Test loss:  0.03549315295425313\n",
            "\n",
            "Test accuracy: 0.9942217882908919\n",
            "\n",
            "Test precision_micro: 0.9942217882908919\n",
            "\n",
            "Test precision_macro: 0.9829347293207684\n",
            "\n",
            "Test precision_weighted: 0.9945552448191197\n",
            "\n",
            "Test recall_micro: 0.9942217882908919\n",
            "\n",
            "Test recall_macro: 0.9824217725249851\n",
            "\n",
            "Test recall_weighted: 0.9942217882908919\n",
            "\n",
            "Test f1_micro: 0.9942217882908919\n",
            "\n",
            "Test f1_macro: 0.981914576660603\n",
            "\n",
            "Test f1_weighted: 0.9939018108943533\n",
            "\n"
          ]
        }
      ],
      "source": [
        "train(n_epochs=8,\n",
        "      model=model,\n",
        "      train_dataloader=train_dataloader,\n",
        "      test_dataloader=valid_dataloader,\n",
        "      optimizer=optimizer,\n",
        "      criterion=criterion,\n",
        "      writer=writer,\n",
        "      device=device)"
      ]
    },
    {
      "cell_type": "code",
      "execution_count": null,
      "metadata": {
        "id": "j2GmRVyRUe4a"
      },
      "outputs": [],
      "source": [
        "torch.save(model.state_dict, '/content/drive/MyDrive/transformer_weights/RUBERT_weights.pt')"
      ]
    },
    {
      "cell_type": "code",
      "execution_count": null,
      "metadata": {
        "id": "-qKZRgEBF8D_"
      },
      "outputs": [],
      "source": [
        "!cp -a /content/logs/Transformer /content/drive/MyDrive/Transformer"
      ]
    },
    {
      "cell_type": "code",
      "execution_count": null,
      "metadata": {
        "id": "4RQujWQWz5p-"
      },
      "outputs": [],
      "source": [
        "evaluate_epoch(\n",
        "  model=model,\n",
        "  dataloader=test_dataloader,\n",
        "  criterion=criterion,\n",
        "  writer=writer,\n",
        "  device=device,\n",
        "  epoch=8,\n",
        ")\n"
      ]
    },
    {
      "cell_type": "code",
      "execution_count": null,
      "metadata": {
        "id": "H0j0y5WFXEff"
      },
      "outputs": [],
      "source": [
        "class BiLSTMAttn(torch.nn.Module):\n",
        "    \"\"\"\n",
        "    Bidirectional LSTM architecture.\n",
        "    \"\"\"\n",
        "\n",
        "    def __init__(\n",
        "        self,\n",
        "        num_embeddings: int,\n",
        "        embedding_dim: int,\n",
        "        hidden_size: int,\n",
        "        num_layers: int,\n",
        "        dropout: float,\n",
        "        bidirectional: bool,\n",
        "        num_heads: int,\n",
        "        n_classes: int,\n",
        "    ):\n",
        "        super().__init__()\n",
        "\n",
        "\n",
        "        self.embedding = torch.nn.Embedding(num_embeddings=num_embeddings, \n",
        "                                            embedding_dim=embedding_dim)\n",
        "        self.rnn = torch.nn.LSTM(input_size=embedding_dim,\n",
        "                                 hidden_size=hidden_size,\n",
        "                                 num_layers=num_layers,\n",
        "                                 batch_first=True,\n",
        "                                 dropout=dropout,\n",
        "                                 bidirectional=bidirectional)\n",
        "        \n",
        "        self.self_attention = torch.nn.MultiheadAttention(embed_dim=2*hidden_size,\n",
        "                                                          num_heads=num_heads, \n",
        "                                                          dropout=dropout, \n",
        "                                                          batch_first=True, \n",
        "                                                          )\n",
        "        self.head = torch.nn.Linear(2*hidden_size, n_classes)\n",
        "\n",
        "    def forward(self, tokens: torch.LongTensor) -> torch.Tensor:\n",
        "        embed = self.embedding(tokens)\n",
        "        mask = tokens == 0\n",
        "        # используем специальную функцию pack_padded_sequence для того, чтобы получить структуру PackedSequence\n",
        "        # которая не учитывать паддинг при проходе rnn\n",
        "        length = (tokens != 0).sum(dim=1).detach().cpu()\n",
        "        packed_embed = torch.nn.utils.rnn.pack_padded_sequence(\n",
        "            embed, length, batch_first=True, enforce_sorted=False\n",
        "          )\n",
        "        \n",
        "        # используем специальную функцию pad_packed_sequence для того, чтобы получить тензор из PackedSequence\n",
        "        packed_rnn_output, _ = self.rnn(packed_embed)\n",
        "        rnn_output, _ = torch.nn.utils.rnn.pad_packed_sequence(\n",
        "            packed_rnn_output, batch_first=True)\n",
        "        attention_out, _ = self.self_attention(query=rnn_output, \n",
        "                                               key=rnn_output, \n",
        "                                               value=rnn_output, \n",
        "                                               key_padding_mask=mask, \n",
        "                                               need_weights=False)\n",
        "        \n",
        "        logits = self.head(attention_out)\n",
        "        return logits.transpose(1, 2)"
      ]
    },
    {
      "cell_type": "code",
      "execution_count": null,
      "metadata": {
        "id": "ALsDNTpwXEfg"
      },
      "outputs": [],
      "source": [
        "model = BiLSTMAttn(\n",
        "    num_embeddings=len(token2idx),\n",
        "    embedding_dim=100,\n",
        "    hidden_size=100,\n",
        "    num_layers=1,\n",
        "    dropout=0.0,\n",
        "    bidirectional=True,\n",
        "    num_heads = 10,\n",
        "    n_classes=len(label2idx),\n",
        ").to(device)"
      ]
    },
    {
      "cell_type": "code",
      "execution_count": null,
      "metadata": {
        "colab": {
          "base_uri": "https://localhost:8080/"
        },
        "id": "tD6ArYCJoWN9",
        "outputId": "44bac063-60a9-4719-9660-a19eac439fe5"
      },
      "outputs": [
        {
          "output_type": "execute_result",
          "data": {
            "text/plain": [
              "BiLSTMAttn(\n",
              "  (embedding): Embedding(10952, 100)\n",
              "  (rnn): LSTM(100, 100, batch_first=True, bidirectional=True)\n",
              "  (self_attention): MultiheadAttention(\n",
              "    (out_proj): NonDynamicallyQuantizableLinear(in_features=200, out_features=200, bias=True)\n",
              "  )\n",
              "  (head): Linear(in_features=200, out_features=9, bias=True)\n",
              ")"
            ]
          },
          "metadata": {},
          "execution_count": 48
        }
      ],
      "source": [
        "model"
      ]
    },
    {
      "cell_type": "code",
      "execution_count": null,
      "metadata": {
        "id": "Mh-r4tqXoWN-"
      },
      "outputs": [],
      "source": [
        "optimizer = torch.optim.Adam(model.parameters(), lr=1e-4)\n",
        "criterion = torch.nn.CrossEntropyLoss(ignore_index=-1)"
      ]
    },
    {
      "cell_type": "code",
      "source": [
        "torch.save(model.state_dict, '/content/drive/MyDrive/transformer_weights/BiLSTM_attn_weights.pt')"
      ],
      "metadata": {
        "id": "WTsz6rNYtDTo"
      },
      "execution_count": null,
      "outputs": []
    },
    {
      "cell_type": "code",
      "execution_count": null,
      "metadata": {
        "id": "f4LXiAx1uJp6"
      },
      "outputs": [],
      "source": [
        "from torch.utils.tensorboard import SummaryWriter\n",
        "\n",
        "writer = SummaryWriter(log_dir=f\"logs/BiLSTMAttn\")"
      ]
    },
    {
      "cell_type": "code",
      "execution_count": null,
      "metadata": {
        "id": "65xnM6Xpuw-f"
      },
      "outputs": [],
      "source": [
        "def train_epoch(\n",
        "    model: torch.nn.Module,\n",
        "    dataloader: torch.utils.data.DataLoader,\n",
        "    optimizer: torch.optim.Optimizer,\n",
        "    criterion: torch.nn.Module,\n",
        "    writer: SummaryWriter,\n",
        "    device: torch.device,\n",
        "    epoch: int,\n",
        ") -> None:\n",
        "    \"\"\"\n",
        "    One training cycle (loop).\n",
        "    \"\"\"\n",
        "\n",
        "    model.train()\n",
        "\n",
        "    epoch_loss = []\n",
        "    batch_metrics_list = defaultdict(list)\n",
        "\n",
        "    for i, (tokens, labels) in tqdm(\n",
        "        enumerate(dataloader),\n",
        "        total=len(dataloader),\n",
        "        desc=\"loop over train batches\",\n",
        "    ):\n",
        "\n",
        "        tokens, labels = tokens.to(device), labels.to(device)\n",
        "\n",
        "\n",
        "        optimizer.zero_grad()\n",
        "        outputs = model(tokens)\n",
        "        loss = criterion(outputs, labels)\n",
        "        loss.backward()\n",
        "        optimizer.step()\n",
        "\n",
        "        epoch_loss.append(loss.item())\n",
        "        writer.add_scalar(\n",
        "            \"batch loss / train\", loss.item(), epoch * len(dataloader) + i\n",
        "        )\n",
        "\n",
        "        with torch.no_grad():\n",
        "            model.eval()\n",
        "            outputs_inference = model(tokens)\n",
        "            model.train()\n",
        "\n",
        "        batch_metrics = compute_metrics(\n",
        "            outputs=outputs_inference,\n",
        "            labels=labels,\n",
        "        )\n",
        "\n",
        "        for metric_name, metric_value in batch_metrics.items():\n",
        "            batch_metrics_list[metric_name].append(metric_value)\n",
        "            writer.add_scalar(\n",
        "                f\"batch {metric_name} / train\",\n",
        "                metric_value,\n",
        "                epoch * len(dataloader) + i,\n",
        "            )\n",
        "\n",
        "    avg_loss = np.mean(epoch_loss)\n",
        "    print(f\"Train loss: {avg_loss}\\n\")\n",
        "    writer.add_scalar(\"loss / train\", avg_loss, epoch)\n",
        "\n",
        "    for metric_name, metric_value_list in batch_metrics_list.items():\n",
        "        metric_value = np.mean(metric_value_list)\n",
        "        print(f\"Train {metric_name}: {metric_value}\\n\")\n",
        "        writer.add_scalar(f\"{metric_name} / train\", metric_value, epoch)"
      ]
    },
    {
      "cell_type": "code",
      "execution_count": null,
      "metadata": {
        "id": "VkIu4jSmuw-g"
      },
      "outputs": [],
      "source": [
        "def evaluate_epoch(\n",
        "    model: torch.nn.Module,\n",
        "    dataloader: torch.utils.data.DataLoader,\n",
        "    criterion: torch.nn.Module,\n",
        "    writer: SummaryWriter,\n",
        "    device: torch.device,\n",
        "    epoch: int,\n",
        ") -> None:\n",
        "    \"\"\"\n",
        "    One evaluation cycle (loop).\n",
        "    \"\"\"\n",
        "\n",
        "    model.eval()\n",
        "\n",
        "    epoch_loss = []\n",
        "    batch_metrics_list = defaultdict(list)\n",
        "\n",
        "    with torch.no_grad():\n",
        "\n",
        "        for i, (tokens, labels) in tqdm(\n",
        "            enumerate(dataloader),\n",
        "            total=len(dataloader),\n",
        "            desc=\"loop over test batches\",\n",
        "        ):\n",
        "\n",
        "            tokens, labels = tokens.to(device), labels.to(device)\n",
        "\n",
        "            outputs = model(tokens)\n",
        "            loss = criterion(outputs, labels)\n",
        "            \n",
        "            epoch_loss.append(loss.item())\n",
        "            writer.add_scalar(\n",
        "                \"batch loss / test\", loss.item(), epoch * len(dataloader) + i\n",
        "            )\n",
        "\n",
        "            batch_metrics = compute_metrics(\n",
        "                outputs=outputs,\n",
        "                labels=labels,\n",
        "            )\n",
        "\n",
        "            for metric_name, metric_value in batch_metrics.items():\n",
        "                batch_metrics_list[metric_name].append(metric_value)\n",
        "                writer.add_scalar(\n",
        "                    f\"batch {metric_name} / test\",\n",
        "                    metric_value,\n",
        "                    epoch * len(dataloader) + i,\n",
        "                )\n",
        "\n",
        "        avg_loss = np.mean(epoch_loss)\n",
        "        print(f\"Test loss:  {avg_loss}\\n\")\n",
        "        writer.add_scalar(\"loss / test\", avg_loss, epoch)\n",
        "\n",
        "        for metric_name, metric_value_list in batch_metrics_list.items():\n",
        "            metric_value = np.mean(metric_value_list)\n",
        "            print(f\"Test {metric_name}: {metric_value}\\n\")\n",
        "            writer.add_scalar(f\"{metric_name} / test\", np.mean(metric_value), epoch)"
      ]
    },
    {
      "cell_type": "code",
      "execution_count": null,
      "metadata": {
        "id": "O3TcAcPIuw-h"
      },
      "outputs": [],
      "source": [
        "def train(\n",
        "    n_epochs: int,\n",
        "    model: torch.nn.Module,\n",
        "    train_dataloader: torch.utils.data.DataLoader,\n",
        "    test_dataloader: torch.utils.data.DataLoader,\n",
        "    optimizer: torch.optim.Optimizer,\n",
        "    criterion: torch.nn.Module,\n",
        "    writer: SummaryWriter,\n",
        "    device: torch.device,\n",
        ") -> None:\n",
        "    \"\"\"\n",
        "    Training loop.\n",
        "    \"\"\"\n",
        "\n",
        "    for epoch in range(n_epochs):\n",
        "\n",
        "        print(f\"Epoch [{epoch+1} / {n_epochs}]\\n\")\n",
        "\n",
        "        train_epoch(\n",
        "            model=model,\n",
        "            dataloader=train_dataloader,\n",
        "            optimizer=optimizer,\n",
        "            criterion=criterion,\n",
        "            writer=writer,\n",
        "            device=device,\n",
        "            epoch=epoch,\n",
        "        )\n",
        "        evaluate_epoch(\n",
        "            model=model,\n",
        "            dataloader=test_dataloader,\n",
        "            criterion=criterion,\n",
        "            writer=writer,\n",
        "            device=device,\n",
        "            epoch=epoch,\n",
        "        )"
      ]
    },
    {
      "cell_type": "code",
      "execution_count": null,
      "metadata": {
        "id": "G_kTTm-nuw-i"
      },
      "outputs": [],
      "source": [
        "train(n_epochs=16,\n",
        "      model=model,\n",
        "      train_dataloader=train_dataloader,\n",
        "      test_dataloader=valid_dataloader,\n",
        "      optimizer=optimizer,\n",
        "      criterion=criterion,\n",
        "      writer=writer,\n",
        "      device=device)"
      ]
    },
    {
      "cell_type": "code",
      "execution_count": null,
      "metadata": {
        "id": "miww9stpxD2o"
      },
      "outputs": [],
      "source": [
        "!cp -a /content/logs/BiLSTMAttn /content/drive/MyDrive/BiLSTMlAttn"
      ]
    },
    {
      "cell_type": "code",
      "execution_count": null,
      "metadata": {
        "id": "_i_G9KYd0l9L"
      },
      "outputs": [],
      "source": [
        "evaluate_epoch(\n",
        "  model=model,\n",
        "  dataloader=test_dataloader,\n",
        "  criterion=criterion,\n",
        "  writer=writer,\n",
        "  device=device,\n",
        "  epoch=16,\n",
        ")\n"
      ]
    },
    {
      "cell_type": "markdown",
      "metadata": {
        "id": "21yxb9ywDMEY"
      },
      "source": [
        "#Distil\n"
      ]
    },
    {
      "cell_type": "code",
      "source": [
        "tokenizer"
      ],
      "metadata": {
        "id": "KMoIOUV1YqYE",
        "colab": {
          "base_uri": "https://localhost:8080/"
        },
        "outputId": "68ee761d-9273-44b8-f788-451cb3eacc98"
      },
      "execution_count": null,
      "outputs": [
        {
          "output_type": "execute_result",
          "data": {
            "text/plain": [
              "PreTrainedTokenizerFast(name_or_path='distilbert-base-cased', vocab_size=28996, model_max_len=512, is_fast=True, padding_side='right', truncation_side='right', special_tokens={'unk_token': '[UNK]', 'sep_token': '[SEP]', 'pad_token': '[PAD]', 'cls_token': '[CLS]', 'mask_token': '[MASK]'})"
            ]
          },
          "metadata": {},
          "execution_count": 172
        }
      ]
    },
    {
      "cell_type": "code",
      "execution_count": null,
      "metadata": {
        "id": "sdmUvYAjXJY-"
      },
      "outputs": [],
      "source": [
        "model = BiLSTM(\n",
        "    num_embeddings=28996,\n",
        "    embedding_dim=100,\n",
        "    hidden_size=100,\n",
        "    num_layers=1,\n",
        "    dropout=0.0,\n",
        "    bidirectional=True,\n",
        "    n_classes=len(label2idx),\n",
        ").to(device)"
      ]
    },
    {
      "cell_type": "code",
      "execution_count": null,
      "metadata": {
        "id": "xnpX7tFNY1OC"
      },
      "outputs": [],
      "source": [
        "optimizer = torch.optim.Adam(model.parameters(), lr=1e-4)\n",
        "criterion = torch.nn.CrossEntropyLoss(ignore_index=-1)"
      ]
    },
    {
      "cell_type": "code",
      "execution_count": null,
      "metadata": {
        "id": "frZcEyR6b2yb"
      },
      "outputs": [],
      "source": [
        "model"
      ]
    },
    {
      "cell_type": "code",
      "execution_count": null,
      "metadata": {
        "id": "ckVbdxyWoRRU"
      },
      "outputs": [],
      "source": [
        "model = BiLSTMAttn(\n",
        "    num_embeddings=28996,\n",
        "    embedding_dim=100,\n",
        "    hidden_size=100,\n",
        "    num_layers=1,\n",
        "    dropout=0.0,\n",
        "    bidirectional=True,\n",
        "    num_heads = 10,\n",
        "    n_classes=len(label2idx),\n",
        ").to(device)"
      ]
    },
    {
      "cell_type": "code",
      "execution_count": null,
      "metadata": {
        "id": "sO1UzCHuoRRV"
      },
      "outputs": [],
      "source": [
        "model"
      ]
    },
    {
      "cell_type": "code",
      "execution_count": null,
      "metadata": {
        "id": "wi2j5_rwoRRW"
      },
      "outputs": [],
      "source": [
        "optimizer = torch.optim.Adam(model.parameters(), lr=1e-4)\n",
        "criterion = torch.nn.CrossEntropyLoss(ignore_index=-1)"
      ]
    },
    {
      "cell_type": "code",
      "execution_count": null,
      "metadata": {
        "id": "VbSLzvS9XuwN"
      },
      "outputs": [],
      "source": [
        "model_name = \"distilbert-base-cased\""
      ]
    },
    {
      "cell_type": "code",
      "execution_count": null,
      "metadata": {
        "id": "RbXNZU0EZYeM"
      },
      "outputs": [],
      "source": [
        "from transformers import AutoModelForTokenClassification"
      ]
    },
    {
      "cell_type": "code",
      "execution_count": null,
      "metadata": {
        "id": "4GCTUmRvXcRa"
      },
      "outputs": [],
      "source": [
        "model_bert = AutoModelForTokenClassification.from_pretrained(\n",
        "    model_name,\n",
        "    num_labels=len(label2idx),\n",
        ").to(device)"
      ]
    },
    {
      "cell_type": "code",
      "execution_count": null,
      "metadata": {
        "id": "3PxVhS-PYNx9"
      },
      "outputs": [],
      "source": [
        "state_dict = torch.load('/content/drive/MyDrive/transformer_weights/transformer_weights.pt', map_location=torch.device('cpu'))\n",
        "model_bert.load_state_dict(state_dict())"
      ]
    },
    {
      "cell_type": "code",
      "execution_count": null,
      "metadata": {
        "id": "cYY5Yp2lWQE5"
      },
      "outputs": [],
      "source": [
        "train_dataset_bert = TransformersDataset(\n",
        "    token_seq=train_token_seq,\n",
        "    label_seq=train_label_seq,\n",
        ")\n",
        "valid_dataset_bert = TransformersDataset(\n",
        "    token_seq=valid_token_seq,\n",
        "    label_seq=valid_label_seq,\n",
        ")\n",
        "test_dataset_bert = TransformersDataset(\n",
        "    token_seq=test_token_seq,\n",
        "    label_seq=test_label_seq,\n",
        ")"
      ]
    },
    {
      "cell_type": "code",
      "execution_count": null,
      "metadata": {
        "id": "LA0ucctGa066"
      },
      "outputs": [],
      "source": [
        "collator_bert = TransformersCollator(\n",
        "    tokenizer=tokenizer,\n",
        "    tokenizer_kwargs=tokenizer_kwargs,\n",
        "    label_padding_value=-1,\n",
        ")"
      ]
    },
    {
      "cell_type": "code",
      "execution_count": null,
      "metadata": {
        "id": "6CEtpaSpa067"
      },
      "outputs": [],
      "source": [
        "train_dataloader_bert = torch.utils.data.DataLoader(\n",
        "    train_dataset_bert,\n",
        "    batch_size=2,\n",
        "    shuffle=True, # для корректных замеров метрик оставить shuffle=False\n",
        "    collate_fn=collator_bert,\n",
        ")\n",
        "valid_dataloader_bert = torch.utils.data.DataLoader(\n",
        "    valid_dataset_bert,\n",
        "    batch_size=1,  # для корректных замеров метрик оставить batch_size=1\n",
        "    shuffle=False, # для корректных замеров метрик оставить shuffle=False\n",
        "    collate_fn=collator_bert,\n",
        ")\n",
        "test_dataloader_bert = torch.utils.data.DataLoader(\n",
        "    test_dataset_bert,\n",
        "    batch_size=1,  # для корректных замеров метрик оставить batch_size=1\n",
        "    shuffle=False, # для корректных замеров метрик оставить shuffle=False\n",
        "    collate_fn=collator_bert,\n",
        ")"
      ]
    },
    {
      "cell_type": "code",
      "source": [
        "tokens, labels = next(iter(train_dataloader_bert))"
      ],
      "metadata": {
        "id": "EYlPqKsWJOt_"
      },
      "execution_count": null,
      "outputs": []
    },
    {
      "cell_type": "code",
      "source": [
        "out = model_bert(**tokens.to(device))"
      ],
      "metadata": {
        "id": "72bmbUNUJc_-"
      },
      "execution_count": null,
      "outputs": []
    },
    {
      "cell_type": "code",
      "execution_count": null,
      "metadata": {
        "id": "cv2tdTsVDCNp"
      },
      "outputs": [],
      "source": [
        "# создадим SummaryWriter для эксперимента с BiLSTMModel + Transformer\n",
        "\n",
        "from torch.utils.tensorboard import SummaryWriter\n",
        "\n",
        "writer = SummaryWriter(log_dir=f\"logs/BiLSTM_Transformer_label\")"
      ]
    },
    {
      "cell_type": "code",
      "execution_count": null,
      "metadata": {
        "id": "Xs7G3n7bDCNs"
      },
      "outputs": [],
      "source": [
        "def train_epoch(\n",
        "    model: torch.nn.Module,\n",
        "    model_bert: torch.nn.Module,\n",
        "    dataloader: torch.utils.data.DataLoader,\n",
        "#    dataloader_bert: torch.utils.data.DataLoader,\n",
        "    optimizer: torch.optim.Optimizer,\n",
        "    criterion: torch.nn.Module,\n",
        "    writer: SummaryWriter,\n",
        "    device: torch.device,\n",
        "    epoch: int,\n",
        ") -> None:\n",
        "    \"\"\"\n",
        "    One training cycle (loop).\n",
        "    \"\"\"\n",
        "    a = 0.5\n",
        "    criterion_mse = torch.nn.MSELoss()\n",
        "    criterion_ce = torch.nn.CrossEntropyLoss(ignore_index=-1)\n",
        "\n",
        "    model.train()\n",
        "    model_bert.eval()\n",
        "    epoch_loss = []\n",
        "    batch_metrics_list = defaultdict(list)\n",
        "\n",
        "    for i, (tokens, labels) in tqdm(\n",
        "        enumerate(dataloader),\n",
        "        total=len(dataloader),\n",
        "        desc=\"loop over train batches\",\n",
        "    ):\n",
        "\n",
        "        tokens, labels = tokens.to(device), labels.to(device)\n",
        "\n",
        "        optimizer.zero_grad()\n",
        "        outputs = model(tokens['input_ids'])\n",
        "        outputs_bert = model_bert(**tokens)\n",
        "\n",
        "        #loss = a*criterion_ce(outputs, labels) + (1-a)*criterion_mse(outputs, outputs_bert[\"logits\"].transpose(1, 2))\n",
        "        loss = criterion(outputs, outputs_bert['logits'].argmax(dim=-1))\n",
        "        loss.backward()\n",
        "        optimizer.step()\n",
        "\n",
        "        epoch_loss.append(loss.item())\n",
        "        writer.add_scalar(\n",
        "            \"batch loss / train\", loss.item(), epoch * len(dataloader) + i\n",
        "        )\n",
        "\n",
        "        with torch.no_grad():\n",
        "            model.eval()\n",
        "            outputs_inference = model(tokens['input_ids'])\n",
        "            model.train()\n",
        "\n",
        "        batch_metrics = compute_metrics(\n",
        "            outputs=outputs_inference,\n",
        "            labels=labels,\n",
        "        )\n",
        "\n",
        "        for metric_name, metric_value in batch_metrics.items():\n",
        "            batch_metrics_list[metric_name].append(metric_value)\n",
        "            writer.add_scalar(\n",
        "                f\"batch {metric_name} / train\",\n",
        "                metric_value,\n",
        "                epoch * len(dataloader) + i,\n",
        "            )\n",
        "\n",
        "    avg_loss = np.mean(epoch_loss)\n",
        "    print(f\"Train loss: {avg_loss}\\n\")\n",
        "    writer.add_scalar(\"loss / train\", avg_loss, epoch)\n",
        "\n",
        "    for metric_name, metric_value_list in batch_metrics_list.items():\n",
        "        metric_value = np.mean(metric_value_list)\n",
        "        print(f\"Train {metric_name}: {metric_value}\\n\")\n",
        "        writer.add_scalar(f\"{metric_name} / train\", metric_value, epoch)"
      ]
    },
    {
      "cell_type": "code",
      "execution_count": null,
      "metadata": {
        "id": "PS4etf6YDCNt"
      },
      "outputs": [],
      "source": [
        "def evaluate_epoch(\n",
        "    model: torch.nn.Module,\n",
        "    dataloader: torch.utils.data.DataLoader,\n",
        "    criterion: torch.nn.Module,\n",
        "    writer: SummaryWriter,\n",
        "    device: torch.device,\n",
        "    epoch: int,\n",
        ") -> None:\n",
        "    \"\"\"\n",
        "    One evaluation cycle (loop).\n",
        "    \"\"\"\n",
        "\n",
        "    model.eval()\n",
        "\n",
        "    epoch_loss = []\n",
        "    batch_metrics_list = defaultdict(list)\n",
        "\n",
        "    with torch.no_grad():\n",
        "\n",
        "        for i, (tokens, labels) in tqdm(\n",
        "            enumerate(dataloader),\n",
        "            total=len(dataloader),\n",
        "            desc=\"loop over test batches\",\n",
        "        ):\n",
        "\n",
        "            tokens, labels = tokens.to(device), labels.to(device)\n",
        "\n",
        "            outputs = model(tokens['input_ids'])\n",
        "            loss = criterion(outputs, labels)\n",
        "            \n",
        "            epoch_loss.append(loss.item())\n",
        "            writer.add_scalar(\n",
        "                \"batch loss / test\", loss.item(), epoch * len(dataloader) + i\n",
        "            )\n",
        "\n",
        "            batch_metrics = compute_metrics(\n",
        "                outputs=outputs,\n",
        "                labels=labels,\n",
        "            )\n",
        "\n",
        "            for metric_name, metric_value in batch_metrics.items():\n",
        "                batch_metrics_list[metric_name].append(metric_value)\n",
        "                writer.add_scalar(\n",
        "                    f\"batch {metric_name} / test\",\n",
        "                    metric_value,\n",
        "                    epoch * len(dataloader) + i,\n",
        "                )\n",
        "\n",
        "        avg_loss = np.mean(epoch_loss)\n",
        "        print(f\"Test loss:  {avg_loss}\\n\")\n",
        "        writer.add_scalar(\"loss / test\", avg_loss, epoch)\n",
        "\n",
        "        for metric_name, metric_value_list in batch_metrics_list.items():\n",
        "            metric_value = np.mean(metric_value_list)\n",
        "            print(f\"Test {metric_name}: {metric_value}\\n\")\n",
        "            writer.add_scalar(f\"{metric_name} / test\", np.mean(metric_value), epoch)"
      ]
    },
    {
      "cell_type": "code",
      "execution_count": null,
      "metadata": {
        "id": "FG4sZmEPDCNu"
      },
      "outputs": [],
      "source": [
        "def train(\n",
        "    n_epochs: int,\n",
        "    model: torch.nn.Module,\n",
        "    model_bert: torch.nn.Module,\n",
        "    train_dataloader: torch.utils.data.DataLoader,\n",
        "    #train_dataloader_bert: torch.utils.data.DataLoader,\n",
        "    test_dataloader: torch.utils.data.DataLoader,\n",
        "    optimizer: torch.optim.Optimizer,\n",
        "    criterion: torch.nn.Module,\n",
        "    writer: SummaryWriter,\n",
        "    device: torch.device,\n",
        ") -> None:\n",
        "    \"\"\"\n",
        "    Training loop.\n",
        "    \"\"\"\n",
        "\n",
        "    for epoch in range(n_epochs):\n",
        "\n",
        "        print(f\"Epoch [{epoch+1} / {n_epochs}]\\n\")\n",
        "\n",
        "        train_epoch(\n",
        "            model=model,\n",
        "            model_bert=model_bert,\n",
        "            dataloader=train_dataloader,\n",
        "            #dataloader_bert=train_dataloader_bert,\n",
        "            optimizer=optimizer,\n",
        "            criterion=criterion,\n",
        "            writer=writer,\n",
        "            device=device,\n",
        "            epoch=epoch,\n",
        "        )\n",
        "        evaluate_epoch(\n",
        "            model=model,\n",
        "            dataloader=test_dataloader,\n",
        "            criterion=criterion,\n",
        "            writer=writer,\n",
        "            device=device,\n",
        "            epoch=epoch,\n",
        "        )"
      ]
    },
    {
      "cell_type": "markdown",
      "source": [
        "Простая BiLSTM с коэффициентом 'a' в лоссе равным 0.5 - учитывается порвону норма разности между логитами модели учителя и ученика и кроссэнтропия"
      ],
      "metadata": {
        "id": "hazjOhCSohOt"
      }
    },
    {
      "cell_type": "code",
      "execution_count": null,
      "metadata": {
        "id": "zBkwRV8iDCNv"
      },
      "outputs": [],
      "source": [
        "\n",
        "train(n_epochs=12,\n",
        "      model=model,\n",
        "      model_bert=model_bert,\n",
        "      train_dataloader=train_dataloader_bert,\n",
        "      #train_dataloader_bert=train_dataloader_bert,\n",
        "      test_dataloader=valid_dataloader_bert,\n",
        "      optimizer=optimizer,\n",
        "      criterion=criterion,\n",
        "      writer=writer,\n",
        "      device=device)"
      ]
    },
    {
      "cell_type": "markdown",
      "source": [
        "Простая BiLSTM"
      ],
      "metadata": {
        "id": "aXKFCpEBnT4h"
      }
    },
    {
      "cell_type": "code",
      "execution_count": null,
      "metadata": {
        "id": "FZEs2IJXb_Xi"
      },
      "outputs": [],
      "source": [
        "evaluate_epoch(\n",
        "  model=model,\n",
        "  dataloader=test_dataloader_bert,\n",
        "  criterion=criterion,\n",
        "  writer=writer,\n",
        "  device=device,\n",
        "  epoch=8,\n",
        ")\n"
      ]
    },
    {
      "cell_type": "markdown",
      "source": [
        "BiLSTM по меткам учителя"
      ],
      "metadata": {
        "id": "P-EFjxOH18j8"
      }
    },
    {
      "cell_type": "code",
      "execution_count": null,
      "metadata": {
        "id": "JJshbmtj3bN8"
      },
      "outputs": [],
      "source": [
        "\n",
        "train(n_epochs=12,\n",
        "      model=model,\n",
        "      model_bert=model_bert,\n",
        "      train_dataloader=train_dataloader_bert,\n",
        "      #train_dataloader_bert=train_dataloader_bert,\n",
        "      test_dataloader=valid_dataloader_bert,\n",
        "      optimizer=optimizer,\n",
        "      criterion=criterion,\n",
        "      writer=writer,\n",
        "      device=device)"
      ]
    },
    {
      "cell_type": "code",
      "execution_count": null,
      "metadata": {
        "id": "oI2QbW_i1yar"
      },
      "outputs": [],
      "source": [
        "evaluate_epoch(\n",
        "  model=model,\n",
        "  dataloader=test_dataloader_bert,\n",
        "  criterion=criterion,\n",
        "  writer=writer,\n",
        "  device=device,\n",
        "  epoch=8,\n",
        ")\n"
      ]
    },
    {
      "cell_type": "code",
      "source": [
        "!cp -a ./logs/BiLSTM_Transformer/* /content/drive/MyDrive/BiLSTM_Trans"
      ],
      "metadata": {
        "id": "6mkxWL8RmjB-"
      },
      "execution_count": null,
      "outputs": []
    },
    {
      "cell_type": "code",
      "source": [
        "!cp -a ./logs/BiLSTM_Transformer_label/* /content/drive/MyDrive/BiLSTM_Trans_label"
      ],
      "metadata": {
        "id": "rPBLXB95HdAw"
      },
      "execution_count": null,
      "outputs": []
    },
    {
      "cell_type": "markdown",
      "source": [
        "Сеть с вниманием"
      ],
      "metadata": {
        "id": "VCaECMkgx9dO"
      }
    },
    {
      "cell_type": "code",
      "source": [
        "\n",
        "train(n_epochs=12,\n",
        "      model=model,\n",
        "      model_bert=model_bert,\n",
        "      train_dataloader=train_dataloader_bert,\n",
        "      #train_dataloader_bert=train_dataloader_bert,\n",
        "      test_dataloader=valid_dataloader_bert,\n",
        "      optimizer=optimizer,\n",
        "      criterion=criterion,\n",
        "      writer=writer,\n",
        "      device=device)"
      ],
      "metadata": {
        "id": "g9FOci1RopKw"
      },
      "execution_count": null,
      "outputs": []
    },
    {
      "cell_type": "code",
      "execution_count": null,
      "metadata": {
        "id": "DbtmNzFYzevX"
      },
      "outputs": [],
      "source": [
        "evaluate_epoch(\n",
        "  model=model,\n",
        "  dataloader=test_dataloader_bert,\n",
        "  criterion=criterion,\n",
        "  writer=writer,\n",
        "  device=device,\n",
        "  epoch=8,\n",
        ")\n"
      ]
    },
    {
      "cell_type": "markdown",
      "source": [
        "Простая BiLSTM с коэффициентом 'a' в лоссе равным нулю - учитывается только норма разности между логитами модели учителя и ученика"
      ],
      "metadata": {
        "id": "5ffcdsNb2rYZ"
      }
    },
    {
      "cell_type": "code",
      "source": [
        "\n",
        "train(n_epochs=12,\n",
        "      model=model,\n",
        "      model_bert=model_bert,\n",
        "      train_dataloader=train_dataloader_bert,\n",
        "      #train_dataloader_bert=train_dataloader_bert,\n",
        "      test_dataloader=valid_dataloader_bert,\n",
        "      optimizer=optimizer,\n",
        "      criterion=criterion,\n",
        "      writer=writer,\n",
        "      device=device)"
      ],
      "metadata": {
        "id": "_JReOdV72UrW"
      },
      "execution_count": null,
      "outputs": []
    },
    {
      "cell_type": "code",
      "execution_count": null,
      "metadata": {
        "id": "Uu4VShml2UrY"
      },
      "outputs": [],
      "source": [
        "evaluate_epoch(\n",
        "  model=model,\n",
        "  dataloader=test_dataloader_bert,\n",
        "  criterion=criterion,\n",
        "  writer=writer,\n",
        "  device=device,\n",
        "  epoch=8,\n",
        ")\n"
      ]
    },
    {
      "cell_type": "markdown",
      "source": [
        "# Тренировка на векторную близость\n"
      ],
      "metadata": {
        "id": "-oUkFIZB264a"
      }
    },
    {
      "cell_type": "code",
      "source": [
        "indent = 1\n",
        "triplet_loss = TripletLoss(batch_size, indent)"
      ],
      "metadata": {
        "id": "ga8NZFwQZzBQ"
      },
      "execution_count": null,
      "outputs": []
    },
    {
      "cell_type": "code",
      "execution_count": null,
      "metadata": {
        "id": "f6Al9Q6I3NLk"
      },
      "outputs": [],
      "source": [
        "def train_epoch_plus(\n",
        "    model: torch.nn.Module,\n",
        "    dataloader: torch.utils.data.DataLoader,\n",
        "    optimizer: torch.optim.Optimizer,\n",
        "    criterion: torch.nn.Module,\n",
        "    #writer: SummaryWriter,\n",
        "    device: torch.device,\n",
        "    epoch: int,\n",
        ") -> None:\n",
        "    \"\"\"\n",
        "    One training cycle (loop).\n",
        "    \"\"\"\n",
        "\n",
        "    model.train()\n",
        "\n",
        "    epoch_loss = []\n",
        "    \n",
        "    \n",
        "    for i, (tokens, labels, persons) in tqdm(\n",
        "        enumerate(dataloader),\n",
        "        total=len(dataloader),\n",
        "        desc=\"loop over train batches\",\n",
        "    ):\n",
        "        mask = persons > 0\n",
        "        if len(persons[mask]) == 0:\n",
        "          continue\n",
        "        tokens, labels, persons = tokens.to(device), labels.to(device), persons.to(device)\n",
        "\n",
        "  \n",
        "        optimizer.zero_grad()\n",
        "        outputs = model(**tokens)\n",
        "        #loss = criterion(outputs[\"logits\"].transpose(1, 2), labels)\n",
        "        loss = criterion(outputs[\"logits\"][:batch_size].transpose(1, 2), labels) + triplet_loss(outputs['hidden_states'][-1], persons)\n",
        "        if loss == 0:\n",
        "          continue\n",
        "        loss.backward()\n",
        "        optimizer.step()\n",
        "\n",
        "        epoch_loss.append(loss.item())\n",
        "        #writer.add_scalar(\n",
        "         #   \"batch loss / train\", loss.item(), epoch * len(dataloader) + i\n",
        "        #)\n",
        "\n",
        "    avg_loss = np.mean(epoch_loss)\n",
        "    print(f\"Train loss: {avg_loss}\\n\")\n",
        "#    writer.add_scalar(\"loss / train\", avg_loss, epoch)\n"
      ]
    },
    {
      "cell_type": "code",
      "execution_count": null,
      "metadata": {
        "id": "zK2764YH3NLl"
      },
      "outputs": [],
      "source": [
        "def evaluate_epoch_plus(\n",
        "    model: torch.nn.Module,\n",
        "    dataloader: torch.utils.data.DataLoader,\n",
        "    criterion: torch.nn.Module,\n",
        "    #writer: SummaryWriter,\n",
        "    device: torch.device,\n",
        "    epoch: int,\n",
        ") -> None:\n",
        "    \"\"\"\n",
        "    One evaluation cycle (loop).\n",
        "    \"\"\"\n",
        "\n",
        "    model.eval()\n",
        "\n",
        "    epoch_loss = []\n",
        "\n",
        "    with torch.no_grad():\n",
        "\n",
        "        for i, (tokens, labels, persons) in tqdm(\n",
        "            enumerate(dataloader),\n",
        "            total=len(dataloader),\n",
        "            desc=\"loop over test batches\",\n",
        "        ):\n",
        "            mask = persons > 0\n",
        "            if len(list(persons[mask])) == 0:\n",
        "              continue\n",
        "            tokens, labels, persons = tokens.to(device), labels.to(device), persons.to(device)\n",
        "\n",
        "\n",
        "            outputs = model(**tokens)\n",
        "            loss = criterion(outputs[\"logits\"][:batch_size].transpose(1, 2), labels) + triplet_loss(outputs['hidden_states'][-1], persons)\n",
        "            if loss == 0:\n",
        "              continue           \n",
        "            epoch_loss.append(loss.item())\n",
        "            #writer.add_scalar(\n",
        "                #\"batch loss / test\", loss.item(), epoch * len(dataloader) + i\n",
        "            #)\n",
        "\n",
        "        avg_loss = np.mean(epoch_loss)\n",
        "        print(f\"Test loss:  {avg_loss}\\n\")\n",
        "       # writer.add_scalar(\"loss / test\", avg_loss, epoch)\n"
      ]
    },
    {
      "cell_type": "code",
      "execution_count": null,
      "metadata": {
        "id": "_4ZB5B_M3NLl"
      },
      "outputs": [],
      "source": [
        "def train_plus(\n",
        "    n_epochs: int,\n",
        "    model: torch.nn.Module,\n",
        "    train_dataloader: torch.utils.data.DataLoader,\n",
        "    test_dataloader: torch.utils.data.DataLoader,\n",
        "    optimizer: torch.optim.Optimizer,\n",
        "    criterion: torch.nn.Module,\n",
        "    #writer: SummaryWriter,\n",
        "    device: torch.device,\n",
        ") -> None:\n",
        "    \"\"\"\n",
        "    Training loop.\n",
        "    \"\"\"\n",
        "\n",
        "    for epoch in range(n_epochs):\n",
        "\n",
        "        print(f\"Epoch [{epoch+1} / {n_epochs}]\\n\")\n",
        "\n",
        "        train_epoch_plus(\n",
        "            model=model,\n",
        "            dataloader=train_dataloader,\n",
        "            optimizer=optimizer,\n",
        "            criterion=criterion,\n",
        "            #writer=writer,\n",
        "            device=device,\n",
        "            epoch=epoch,\n",
        "        )\n",
        "        evaluate_epoch_plus(\n",
        "            model=model,\n",
        "            dataloader=test_dataloader,\n",
        "            criterion=criterion,\n",
        "            #writer=writer,\n",
        "            device=device,\n",
        "            epoch=epoch,\n",
        "        )"
      ]
    },
    {
      "cell_type": "code",
      "source": [
        "criterion = torch.nn.CrossEntropyLoss(ignore_index=-1)"
      ],
      "metadata": {
        "id": "5XC6WFQqdqII"
      },
      "execution_count": null,
      "outputs": []
    },
    {
      "cell_type": "code",
      "source": [
        "train_plus(n_epochs=1,\n",
        "      model=model,\n",
        "      train_dataloader=train_dataloader,\n",
        "      test_dataloader=train_dataloader,\n",
        "      optimizer=optimizer,\n",
        "      criterion=criterion,\n",
        "      #writer=writer,\n",
        "      device=device)"
      ],
      "metadata": {
        "id": "BAdy_9ny_7Yi",
        "colab": {
          "base_uri": "https://localhost:8080/"
        },
        "outputId": "3e88c924-6ff4-4f3d-964d-9d4045b47ca4"
      },
      "execution_count": null,
      "outputs": [
        {
          "output_type": "stream",
          "name": "stdout",
          "text": [
            "Epoch [1 / 1]\n",
            "\n"
          ]
        },
        {
          "output_type": "stream",
          "name": "stderr",
          "text": [
            "loop over train batches: 100%|██████████| 158/158 [09:31<00:00,  3.62s/it]\n"
          ]
        },
        {
          "output_type": "stream",
          "name": "stdout",
          "text": [
            "Train loss: 0.48222977928770394\n",
            "\n"
          ]
        },
        {
          "output_type": "stream",
          "name": "stderr",
          "text": [
            "loop over test batches: 100%|██████████| 158/158 [01:28<00:00,  1.79it/s]"
          ]
        },
        {
          "output_type": "stream",
          "name": "stdout",
          "text": [
            "Test loss:  0.04150095114003142\n",
            "\n"
          ]
        },
        {
          "output_type": "stream",
          "name": "stderr",
          "text": [
            "\n"
          ]
        }
      ]
    },
    {
      "cell_type": "code",
      "execution_count": null,
      "metadata": {
        "id": "1VcRwiATw7Sk"
      },
      "outputs": [],
      "source": [
        "torch.save(model.state_dict, '/content/drive/MyDrive/transformer_weights/RUBERT_weights_plus.pt')"
      ]
    },
    {
      "cell_type": "markdown",
      "source": [
        "# 2D Визуализация"
      ],
      "metadata": {
        "id": "rnrB76_MOJF9"
      }
    },
    {
      "cell_type": "code",
      "execution_count": null,
      "metadata": {
        "id": "6f0ff830"
      },
      "outputs": [],
      "source": [
        "#from sklearn.linear_model import Ridge\n",
        "#from sklearn.preprocessing import PolynomialFeatures\n",
        "import numpy as np\n",
        "import matplotlib.pyplot as plt\n",
        "\n",
        "from ipywidgets import interactive, fixed, interact_manual, IntSlider, FloatLogSlider, FloatSlider\n",
        "from sklearn.datasets import make_classification, make_moons, make_blobs\n",
        "from sklearn.preprocessing import StandardScaler, MinMaxScaler, FunctionTransformer\n",
        "from sklearn.manifold import TSNE, Isomap"
      ]
    },
    {
      "cell_type": "code",
      "execution_count": null,
      "metadata": {
        "id": "7746cacb"
      },
      "outputs": [],
      "source": [
        "def plot_2d_data(data, labels, title='Исходные данные', cmap='tab20', ax=None):\n",
        "    '''\n",
        "    Отрисовка 2d scatter plot. \n",
        "    :param np.ndarray data: 2d массив точек\n",
        "    :param Union[list, np.ndarray] labels: список меток для каждой точки выборки\n",
        "    :param str title: Заголовок графика\n",
        "    :param str cmap: Цветовая палитра\n",
        "    :param ax Optional[matplotlib.axes.Axes]: Оси для отрисовки графика.\n",
        "        Если оси не заданы, то создаётся новая фигура и сразу же происходит её отрисовка\n",
        "        Иначе, график добавляется на существуюущие оси. Отрисовки фигуры не происходит\n",
        "    '''\n",
        "    n_clusters = len(np.unique(labels))\n",
        "    \n",
        "    if ax is None:\n",
        "        fig, ax = plt.subplots(1, 1, figsize=(10, 5))\n",
        "    else:\n",
        "        fig = None\n",
        "        \n",
        "    scatter = ax.scatter(\n",
        "        data[:, 0], data[:, 1], c=labels, \n",
        "        cmap=plt.get_cmap(cmap, n_clusters)\n",
        "    )\n",
        "\n",
        "    cbar = plt.colorbar(scatter, label='Номер кластера', ax=ax)\n",
        "    cbar.set_ticks(np.min(labels) + (np.arange(n_clusters) + 0.5) * (n_clusters - 1) / n_clusters)\n",
        "    cbar.set_ticklabels(np.unique(labels))\n",
        "\n",
        "    ax.set_title(title)\n",
        "    ax.grid(True)\n",
        "    \n",
        "    if fig is not None:\n",
        "        fig.tight_layout()\n",
        "        plt.show()"
      ]
    },
    {
      "cell_type": "code",
      "execution_count": null,
      "metadata": {
        "id": "2dfe0d6c"
      },
      "outputs": [],
      "source": [
        "data, labels = make_classification(\n",
        "    n_samples=1000, n_features=200, n_informative=100,\n",
        "    n_repeated=0, n_classes=5, n_clusters_per_class=2, weights=None, \n",
        "    flip_y=0.01, class_sep=2.5, hypercube=True, shift=0.0, scale=1.0, \n",
        "    shuffle=True, random_state=None\n",
        ")"
      ]
    },
    {
      "cell_type": "code",
      "source": [
        "def get_entyti_list(last_hidden_states, persons):\n",
        "  hid_head = last_hidden_states[:batch_size]\n",
        "  #отбрасываем вектора ненужных токенов\n",
        "  mask = persons > 0\n",
        "  person = persons[mask]\n",
        "  head = hid_head[mask]\n",
        "  #создаем список интов для разбиения головы\n",
        "  list_to_split = []\n",
        "  entity_list = []\n",
        "  prev_pers = 0\n",
        "  cout = 1\n",
        "  for pers in person:\n",
        "    if pers != prev_pers:      \n",
        "      list_to_split.append(cout)\n",
        "      entity_list.append(prev_pers)\n",
        "      prev_pers = pers\n",
        "      cout = 1\n",
        "    else:\n",
        "      cout += 1\n",
        "  list_to_split.append(cout)\n",
        "  entity_list.append(prev_pers)\n",
        "  list_to_split = list_to_split[1:]\n",
        "  entity_list = entity_list[1:]\n",
        "  #разбиваем голову в соответствии с сущностями\n",
        "  head_tuple = torch.split(head, list_to_split)\n",
        "  entity_vec = [hd.mean(axis=0) for hd in head_tuple]\n",
        "    \n",
        "  return entity_vec, entity_list\n"
      ],
      "metadata": {
        "id": "-ZlWzxMjpdzO"
      },
      "execution_count": null,
      "outputs": []
    },
    {
      "cell_type": "code",
      "source": [
        "model.eval()\n",
        "ent_vec, ent_list = [], []\n",
        "with torch.no_grad():\n",
        "  for tokens, labels, persons in train_dataloader:\n",
        "    mask = persons > 0\n",
        "    if len(persons[mask]) == 0:\n",
        "      continue\n",
        "    outputs = model(**tokens)\n",
        "    tmp_ent_vec, tmp_ent_lis = get_entyti_list(outputs['hidden_states'][-1], persons)\n",
        "    ent_vec = ent_vec + tmp_ent_vec\n",
        "    ent_list = ent_list + tmp_ent_lis"
      ],
      "metadata": {
        "id": "h9_0GSofuTSn"
      },
      "execution_count": null,
      "outputs": []
    },
    {
      "cell_type": "code",
      "source": [
        "entus = torch.stack(ent_vec)"
      ],
      "metadata": {
        "id": "LYmC3l_4z3S3"
      },
      "execution_count": null,
      "outputs": []
    },
    {
      "cell_type": "code",
      "source": [
        "labus = torch.stack(ent_list)"
      ],
      "metadata": {
        "id": "Tq35MmGg2jqd"
      },
      "execution_count": null,
      "outputs": []
    },
    {
      "cell_type": "code",
      "source": [
        "import gc\n",
        "del ent_vec\n",
        "del ent_list\n",
        "gc.collect()\n"
      ],
      "metadata": {
        "colab": {
          "base_uri": "https://localhost:8080/"
        },
        "id": "kAtTpdGy2BK5",
        "outputId": "bddbed30-cca7-4b92-c891-3c1dace1fd3c"
      },
      "execution_count": null,
      "outputs": [
        {
          "output_type": "execute_result",
          "data": {
            "text/plain": [
              "120"
            ]
          },
          "metadata": {},
          "execution_count": 33
        }
      ]
    },
    {
      "cell_type": "code",
      "source": [
        "data, labels = entus.detach().numpy(), labus.detach().numpy()"
      ],
      "metadata": {
        "id": "pEbqLbgwyopg"
      },
      "execution_count": null,
      "outputs": []
    },
    {
      "cell_type": "code",
      "execution_count": null,
      "metadata": {
        "id": "ba704f92"
      },
      "outputs": [],
      "source": [
        "scaler = MinMaxScaler()\n",
        "scaled_data = scaler.fit_transform(data)"
      ]
    },
    {
      "cell_type": "code",
      "execution_count": null,
      "metadata": {
        "colab": {
          "referenced_widgets": [
            "d8ad83cae62d4e61ac0d934e98d44d05",
            "34bc4b1ead6e4477a055a479e73c2512",
            "e643396b24144b778b365191e1815c0f",
            "8f8945651adb4c5785539cdcafba8247",
            "e7a443c19d8a4a1f8b3061e69b7c8cba",
            "0f2445a7a97447aa81329fcab2a559da",
            "828862ad4cc64a46ac1ffee814c599c2",
            "b24631f280a042deb26bf2ca557f902d",
            "cca5cc1446f34126ba6d6a4a5517d170",
            "d7511ef5490e400da81d42de4dc4b767"
          ],
          "base_uri": "https://localhost:8080/",
          "height": 623
        },
        "id": "2d479f6c",
        "outputId": "7b52917d-956e-4362-a765-04233c6db546"
      },
      "outputs": [
        {
          "output_type": "display_data",
          "data": {
            "text/plain": [
              "interactive(children=(IntSlider(value=30, description='perplexity', min=1), FloatLogSlider(value=200.0, descri…"
            ],
            "application/vnd.jupyter.widget-view+json": {
              "version_major": 2,
              "version_minor": 0,
              "model_id": "d8ad83cae62d4e61ac0d934e98d44d05"
            }
          },
          "metadata": {}
        }
      ],
      "source": [
        "def get_tnse_model(data, labels, perplexity, learning_rate, title):\n",
        "    model = TSNE(perplexity=perplexity, learning_rate=learning_rate, random_state=0, init=\"pca\")\n",
        "    transformed_data = model.fit_transform(data)\n",
        "    plot_2d_data(transformed_data, labels, title=title)\n",
        "    \n",
        "interactive_plot = interactive(\n",
        "    get_tnse_model,\n",
        "    data=fixed(scaled_data),\n",
        "    labels=fixed(labels),\n",
        "    perplexity=IntSlider(min=1, max=100, step=1, value=30, description=r'perplexity'),\n",
        "    learning_rate=FloatLogSlider(value=200, min=1, max=3, step=0.1, description=r'learning_rate'),\n",
        "    title=fixed(TSNE)\n",
        "    )\n",
        "interactive_plot"
      ]
    },
    {
      "cell_type": "code",
      "execution_count": null,
      "metadata": {
        "colab": {
          "referenced_widgets": [
            "086e7d7ed2544de6ba25097a8fa40b27",
            "7c7f90ce5a2e4e4c9ac73751075ed3c3",
            "291c4e5f76a342b2b64b444b7d06e8ea",
            "3c8aa8f0b52f4f8597f967718897e65d",
            "3fff0331ed82461994f70e00f3bec0ca",
            "8c205a417d5246e2963a6719e0e7744a",
            "bbdcf323d442437c99fe72871af0ceeb",
            "d3884e1e81f64afeae2e1136af93e41e",
            "4f578d62cb1641588a4ce5351b2406d3",
            "d926bd7dc4ba4097a30253f4b1aa66b7"
          ],
          "base_uri": "https://localhost:8080/",
          "height": 623
        },
        "outputId": "1299060a-a624-486d-9387-0e0545fe621f",
        "id": "r7S481GHWBfm"
      },
      "outputs": [
        {
          "output_type": "display_data",
          "data": {
            "text/plain": [
              "interactive(children=(IntSlider(value=30, description='perplexity', min=1), FloatLogSlider(value=200.0, descri…"
            ],
            "application/vnd.jupyter.widget-view+json": {
              "version_major": 2,
              "version_minor": 0,
              "model_id": "086e7d7ed2544de6ba25097a8fa40b27"
            }
          },
          "metadata": {}
        }
      ],
      "source": [
        "def get_tnse_model(data, labels, perplexity, learning_rate, title):\n",
        "    model = TSNE(perplexity=perplexity, learning_rate=learning_rate, random_state=0, init=\"pca\")\n",
        "    transformed_data = model.fit_transform(data)\n",
        "    plot_2d_data(transformed_data, labels, title=title)\n",
        "    \n",
        "interactive_plot = interactive(\n",
        "    get_tnse_model,\n",
        "    data=fixed(scaled_data),\n",
        "    labels=fixed(labels),\n",
        "    perplexity=IntSlider(min=1, max=100, step=1, value=30, description=r'perplexity'),\n",
        "    learning_rate=FloatLogSlider(value=200, min=1, max=3, step=0.1, description=r'learning_rate'),\n",
        "    title=fixed(TSNE)\n",
        "    )\n",
        "interactive_plot"
      ]
    },
    {
      "cell_type": "markdown",
      "source": [
        "# Обработка ввода обученной моделью\n"
      ],
      "metadata": {
        "id": "itRqiYSMP86l"
      }
    },
    {
      "cell_type": "code",
      "source": [
        "def sentences_dict_to_tensor(model, dictonary, tokenizer, tokenizer_kwargs, label_padding_value):\n",
        "  model.eval\n",
        "  all_entitys = []\n",
        "  for key in sorted(dictonary.keys()):\n",
        "    one_entity = []\n",
        "    for sent in dictonary[key]:\n",
        "      tokens = tokenizer(list(sent), **tokenizer_kwargs)\n",
        "      #получаем маску для токенов\n",
        "      doc_offset = tokens.offset_mapping.squeeze(0)\n",
        "      token_mask = np.ones(len(doc_offset), dtype=int) * label_padding_value\n",
        "      arr_offset = np.array(doc_offset)\n",
        "      token_mask[(arr_offset[:,0] == 0) & (arr_offset[:,1] != 0)] = 1\n",
        "      mask = token_mask != label_padding_value\n",
        "      #вывод модели\n",
        "      tokens.pop(\"offset_mapping\")\n",
        "      outputs = model(**tokens)\n",
        "      last_hidden_layer = outputs['hidden_states'][-1].squeeze(0)[mask].cpu()\n",
        "      \n",
        "      one_entity.append(last_hidden_layer.mean(0))\n",
        "    all_entitys.append(torch.stack(one_entity).mean(0))\n",
        "  return torch.stack(all_entitys)\n",
        "\n"
      ],
      "metadata": {
        "id": "_kSxKO_n1gh3"
      },
      "execution_count": null,
      "outputs": []
    },
    {
      "cell_type": "code",
      "source": [
        "entity_centr = sentences_dict_to_tensor(model, id2sent, tokenizer, tokenizer_kwargs, label_padding_value=-1)"
      ],
      "metadata": {
        "id": "0MvAvAZCbKFX"
      },
      "execution_count": null,
      "outputs": []
    },
    {
      "cell_type": "code",
      "source": [
        "entity_centr.shape"
      ],
      "metadata": {
        "colab": {
          "base_uri": "https://localhost:8080/"
        },
        "id": "erX-GUAoggKL",
        "outputId": "3e879e08-4852-4a86-8a77-8e5dcae3c2c0"
      },
      "execution_count": null,
      "outputs": [
        {
          "output_type": "execute_result",
          "data": {
            "text/plain": [
              "torch.Size([2, 768])"
            ]
          },
          "metadata": {},
          "execution_count": 78
        }
      ]
    },
    {
      "cell_type": "code",
      "source": [
        "ent_id = 0"
      ],
      "metadata": {
        "id": "m07z5JAk5pHR"
      },
      "execution_count": null,
      "outputs": []
    },
    {
      "cell_type": "code",
      "source": [
        "cos = torch.nn.CosineSimilarity(dim=1, eps=1e-6)\n",
        "cos_list = []\n",
        "\n",
        "for vector in ent_vec:\n",
        "  cos_list.append(cos(vector, entity_centr)[ent_id])\n",
        "min_cos = torch.min(torch.stack(cos_list))"
      ],
      "metadata": {
        "id": "kztjlVR925Mr"
      },
      "execution_count": null,
      "outputs": []
    },
    {
      "cell_type": "code",
      "source": [
        "min_cos"
      ],
      "metadata": {
        "colab": {
          "base_uri": "https://localhost:8080/"
        },
        "id": "pRQ7k5OA7JuS",
        "outputId": "6adf8e7c-9fec-47ec-8862-68c4a452ec23"
      },
      "execution_count": null,
      "outputs": [
        {
          "output_type": "execute_result",
          "data": {
            "text/plain": [
              "tensor(-0.3941, grad_fn=<MinBackward1>)"
            ]
          },
          "metadata": {},
          "execution_count": 97
        }
      ]
    },
    {
      "cell_type": "code",
      "source": [
        "ent_id = 1"
      ],
      "metadata": {
        "id": "erUbNgQf8MB9"
      },
      "execution_count": null,
      "outputs": []
    },
    {
      "cell_type": "code",
      "source": [
        "cos = torch.nn.CosineSimilarity(dim=1, eps=1e-6)\n",
        "cos_list = []\n",
        "\n",
        "for vector in ent_vec:\n",
        "  cos_list.append(cos(vector, entity_centr)[ent_id])\n",
        "min_cos_2 = torch.min(torch.stack(cos_list))"
      ],
      "metadata": {
        "id": "-wvzL-hB8MB-"
      },
      "execution_count": null,
      "outputs": []
    },
    {
      "cell_type": "code",
      "source": [
        "min_cos_2"
      ],
      "metadata": {
        "colab": {
          "base_uri": "https://localhost:8080/"
        },
        "outputId": "7516fb2a-2538-4b53-e738-234fe349ee06",
        "id": "-qBPDzh68MB_"
      },
      "execution_count": null,
      "outputs": [
        {
          "output_type": "execute_result",
          "data": {
            "text/plain": [
              "tensor(0.5027, grad_fn=<MinBackward1>)"
            ]
          },
          "metadata": {},
          "execution_count": 107
        }
      ]
    },
    {
      "cell_type": "code",
      "source": [
        "person_id = []\n",
        "for vector in ent_vec:\n",
        "  person_id.append(torch.argmax(cos(vector, entity_centr)) + 1)"
      ],
      "metadata": {
        "id": "DyUPsgHt8_zt"
      },
      "execution_count": null,
      "outputs": []
    },
    {
      "cell_type": "code",
      "source": [
        "person_id"
      ],
      "metadata": {
        "id": "_juNFMvg9YJ8"
      },
      "execution_count": null,
      "outputs": []
    },
    {
      "cell_type": "code",
      "source": [
        "cos_list = []\n",
        "\n",
        "for vector in ent_vec:\n",
        "  cos_list.append(cos(vector, entity_centr)[ent_id])\n",
        "max_cos_1_2 = torch.max(torch.stack(cos_list))"
      ],
      "metadata": {
        "id": "npM_rFQ0AUrB"
      },
      "execution_count": null,
      "outputs": []
    },
    {
      "cell_type": "code",
      "source": [
        "max_cos_1_2"
      ],
      "metadata": {
        "colab": {
          "base_uri": "https://localhost:8080/"
        },
        "id": "-9_NYbCWAmat",
        "outputId": "a9854245-9993-48ec-8f2e-42cc0c0f86d4"
      },
      "execution_count": null,
      "outputs": [
        {
          "output_type": "execute_result",
          "data": {
            "text/plain": [
              "tensor(0.9100, grad_fn=<MaxBackward1>)"
            ]
          },
          "metadata": {},
          "execution_count": 123
        }
      ]
    },
    {
      "cell_type": "code",
      "source": [
        "wrong_person = []\n",
        "for vector in ent_vec:\n",
        "  cosin = cos(vector, entity_centr)\n",
        "  if torch.argmax(cosin) == 1:\n",
        "    wrong_person.append(cosin[1])\n",
        "wrong_person_min = torch.max(torch.stack(wrong_person))"
      ],
      "metadata": {
        "id": "DhWVWNy5DBBh"
      },
      "execution_count": null,
      "outputs": []
    },
    {
      "cell_type": "code",
      "source": [
        "wrong_person_min"
      ],
      "metadata": {
        "colab": {
          "base_uri": "https://localhost:8080/"
        },
        "id": "26eGMjPkD4HK",
        "outputId": "efd8aa92-44cb-4722-fcfc-94b0bc34d0e1"
      },
      "execution_count": null,
      "outputs": [
        {
          "output_type": "execute_result",
          "data": {
            "text/plain": [
              "tensor(0.9100, grad_fn=<MaxBackward1>)"
            ]
          },
          "metadata": {},
          "execution_count": 134
        }
      ]
    },
    {
      "cell_type": "code",
      "source": [
        "right_person = []\n",
        "for vector in ent_vec:\n",
        "  cosin = cos(vector, entity_centr)\n",
        "  if torch.argmax(cosin) == 0:\n",
        "    right_person.append(cosin[0])\n",
        "right_person_max = torch.min(torch.stack(right_person))"
      ],
      "metadata": {
        "id": "Hh5E9qg-EJdd"
      },
      "execution_count": null,
      "outputs": []
    },
    {
      "cell_type": "code",
      "source": [
        "right_person_max"
      ],
      "metadata": {
        "colab": {
          "base_uri": "https://localhost:8080/"
        },
        "id": "jw4ujasbEmCH",
        "outputId": "4b103542-6883-47bb-afee-19017e22b14d"
      },
      "execution_count": null,
      "outputs": [
        {
          "output_type": "execute_result",
          "data": {
            "text/plain": [
              "tensor(0.3414, grad_fn=<MinBackward1>)"
            ]
          },
          "metadata": {},
          "execution_count": 140
        }
      ]
    },
    {
      "cell_type": "markdown",
      "source": [
        "итак отступ для неопределяемой сущности:"
      ],
      "metadata": {
        "id": "YYOLctBACG8d"
      }
    },
    {
      "cell_type": "code",
      "source": [
        "ident_not_id = 30/42 * right_person_max + 12/42 * wrong_person_min"
      ],
      "metadata": {
        "id": "xpQViRppCOJo"
      },
      "execution_count": null,
      "outputs": []
    },
    {
      "cell_type": "markdown",
      "source": [
        "Если косинусное сходство для сущности меньше этого порога, то ставим ей метку 0:"
      ],
      "metadata": {
        "id": "rKKsk9ZcF3G5"
      }
    },
    {
      "cell_type": "code",
      "source": [
        "ident_not_id"
      ],
      "metadata": {
        "colab": {
          "base_uri": "https://localhost:8080/"
        },
        "id": "mFiYicgACF2z",
        "outputId": "33b6f728-1524-4bd6-a8b7-200c69f8a288"
      },
      "execution_count": null,
      "outputs": [
        {
          "output_type": "execute_result",
          "data": {
            "text/plain": [
              "tensor(0.5039, grad_fn=<AddBackward0>)"
            ]
          },
          "metadata": {},
          "execution_count": 142
        }
      ]
    },
    {
      "cell_type": "code",
      "execution_count": null,
      "metadata": {
        "id": "WJYib3LbanYd"
      },
      "outputs": [],
      "source": [
        "!pip install natasha"
      ]
    },
    {
      "cell_type": "code",
      "source": [
        "text_name = '1909-02.txt'"
      ],
      "metadata": {
        "id": "dxuf44zvqxl5"
      },
      "execution_count": null,
      "outputs": []
    },
    {
      "cell_type": "code",
      "execution_count": null,
      "metadata": {
        "id": "Cg8CkHnabZBC"
      },
      "outputs": [],
      "source": [
        "import re\n",
        "from natasha import (\n",
        "    Segmenter,\n",
        "    Doc\n",
        ")\n",
        "\n",
        "def text_to_list(text_name):\n",
        "\n",
        "  segmenter = Segmenter()\n",
        "\n",
        "  with open(text_name, 'r') as f:\n",
        "    text = f.read()\n",
        "  doc = Doc(text)\n",
        "  doc.segment(segmenter)\n",
        "  text_list = []\n",
        "  for sent in doc.sents:\n",
        "    text_list.append(re.findall(r\"[\\w]+|[.,!?;'\\\":-]\", sent.text))\n",
        "  return text_list"
      ]
    },
    {
      "cell_type": "code",
      "source": [
        "inp = text_to_list(text_name)"
      ],
      "metadata": {
        "id": "uCQt38c5rbJA"
      },
      "execution_count": null,
      "outputs": []
    },
    {
      "cell_type": "code",
      "source": [
        "def sent_ent_vec(model: torch.nn.Module,\n",
        "                seq: List[List[str]],\n",
        "                tokenizer: PreTrainedTokenizer,\n",
        "                tokenizer_kwargs: Dict[str, Any],\n",
        "                label_padding_value: int\n",
        "                ):\n",
        "   return_list = []\n",
        "   for sent in seq:\n",
        "     tokens = tokenizer(list(sent), **tokenizer_kwargs)\n",
        "     #получаем маску для токенов\n",
        "     doc_offset = tokens.offset_mapping.squeeze(0)\n",
        "     token_mask = np.ones(len(doc_offset), dtype=int) * label_padding_value\n",
        "     arr_offset = np.array(doc_offset)\n",
        "     token_mask[(arr_offset[:,0] == 0) & (arr_offset[:,1] != 0)] = 1\n",
        "     #вывод модели\n",
        "     tokens.pop(\"offset_mapping\")\n",
        "     model.eval()\n",
        "     outputs = model(**tokens)\n",
        "     #предсказния классов\n",
        "     mask = token_mask != label_padding_value\n",
        "     y_true = torch.argmax(outputs['logits'].squeeze(0), dim = 1)[mask].cpu()\n",
        "     #последний скрытый слой\n",
        "     last_hidden_layer = outputs['hidden_states'][-1].squeeze(0)[mask].cpu()\n",
        "     #отфильтровывание сущностей и векторов скрытого слоя для них\n",
        "     mask_for_entity = (y_true == label2idx['B-PER']) + (y_true == label2idx['I-PER'])\n",
        "     entity_vector = last_hidden_layer[mask_for_entity]\n",
        "     persons = y_true[mask_for_entity]\n",
        "     #составление вектора каждой сущности\n",
        "     list_to_split = []\n",
        "     cout = 0\n",
        "     for pers in persons:\n",
        "       if pers == label2idx['B-PER']:\n",
        "         list_to_split.append(cout)\n",
        "         cout = 1\n",
        "       else:\n",
        "         cout += 1\n",
        "     \n",
        "     list_to_split.append(cout)\n",
        "     list_to_split = list_to_split[1:]\n",
        "     entitys = torch.split(entity_vector, list_to_split)\n",
        "     entitys = [x.mean(axis=0) for x in entitys]\n",
        "     \n",
        "     ret = [sent, y_true, entitys]\n",
        "     return_list.append(ret)\n",
        "  \n",
        "   return return_list"
      ],
      "metadata": {
        "id": "Nu_9uFXb1Jap"
      },
      "execution_count": null,
      "outputs": []
    },
    {
      "cell_type": "code",
      "source": [
        "test_seq = inp[:10]"
      ],
      "metadata": {
        "id": "ylKiGlC0NO9p"
      },
      "execution_count": null,
      "outputs": []
    },
    {
      "cell_type": "code",
      "source": [
        "test_run = sent_ent_vec(model, test_seq, tokenizer, tokenizer_kwargs, label_padding_value = -1)"
      ],
      "metadata": {
        "id": "HKERCbW81Jaq"
      },
      "execution_count": null,
      "outputs": []
    },
    {
      "cell_type": "code",
      "source": [
        "test_run[7][1]"
      ],
      "metadata": {
        "colab": {
          "base_uri": "https://localhost:8080/"
        },
        "id": "L7CjkgAQPZV4",
        "outputId": "7ab49732-ba1b-4cb7-ef00-99972b8e78c9"
      },
      "execution_count": null,
      "outputs": [
        {
          "output_type": "execute_result",
          "data": {
            "text/plain": [
              "tensor([0, 0, 0, 0, 3, 0, 0, 0, 0, 0, 0, 0, 0])"
            ]
          },
          "metadata": {},
          "execution_count": 39
        }
      ]
    }
  ],
  "metadata": {
    "colab": {
      "collapsed_sections": [
        "4k3Nhd3IQELY",
        "2j1EBvuW3hAD",
        "4MIrbmNoQEMA",
        "Y2f0bEyX6kRg",
        "5XlI3cb1QEL2",
        "rJHlx_Ky9kwz",
        "21yxb9ywDMEY"
      ],
      "provenance": [],
      "include_colab_link": true
    },
    "gpuClass": "standard",
    "kernelspec": {
      "display_name": "Python 3",
      "language": "python",
      "name": "python3"
    },
    "language_info": {
      "codemirror_mode": {
        "name": "ipython",
        "version": 3
      },
      "file_extension": ".py",
      "mimetype": "text/x-python",
      "name": "python",
      "nbconvert_exporter": "python",
      "pygments_lexer": "ipython3",
      "version": "3.8.5"
    },
    "vscode": {
      "interpreter": {
        "hash": "8d4ce941904148077feb793883e611d25d231ca995d9164b22ee99fd0facd8d1"
      }
    },
    "widgets": {
      "application/vnd.jupyter.widget-state+json": {
        "355d41e4c306427896ae9f1a5b3fa874": {
          "model_module": "@jupyter-widgets/controls",
          "model_name": "HBoxModel",
          "model_module_version": "1.5.0",
          "state": {
            "_dom_classes": [],
            "_model_module": "@jupyter-widgets/controls",
            "_model_module_version": "1.5.0",
            "_model_name": "HBoxModel",
            "_view_count": null,
            "_view_module": "@jupyter-widgets/controls",
            "_view_module_version": "1.5.0",
            "_view_name": "HBoxView",
            "box_style": "",
            "children": [
              "IPY_MODEL_9c1ae480fef5475b91cde21d67478d26",
              "IPY_MODEL_eacb4210534f4558a1885ee3d4366461",
              "IPY_MODEL_61204e026bed4f769bfbe63388cb021a"
            ],
            "layout": "IPY_MODEL_07109e5b081f43bfa77e63b0fb4c0d5d"
          }
        },
        "9c1ae480fef5475b91cde21d67478d26": {
          "model_module": "@jupyter-widgets/controls",
          "model_name": "HTMLModel",
          "model_module_version": "1.5.0",
          "state": {
            "_dom_classes": [],
            "_model_module": "@jupyter-widgets/controls",
            "_model_module_version": "1.5.0",
            "_model_name": "HTMLModel",
            "_view_count": null,
            "_view_module": "@jupyter-widgets/controls",
            "_view_module_version": "1.5.0",
            "_view_name": "HTMLView",
            "description": "",
            "description_tooltip": null,
            "layout": "IPY_MODEL_cdcfa89ad317484a8acc1546bc70f144",
            "placeholder": "​",
            "style": "IPY_MODEL_2785c85a83b14181af37cf97d6c13354",
            "value": "Downloading pytorch_model.bin: 100%"
          }
        },
        "eacb4210534f4558a1885ee3d4366461": {
          "model_module": "@jupyter-widgets/controls",
          "model_name": "FloatProgressModel",
          "model_module_version": "1.5.0",
          "state": {
            "_dom_classes": [],
            "_model_module": "@jupyter-widgets/controls",
            "_model_module_version": "1.5.0",
            "_model_name": "FloatProgressModel",
            "_view_count": null,
            "_view_module": "@jupyter-widgets/controls",
            "_view_module_version": "1.5.0",
            "_view_name": "ProgressView",
            "bar_style": "success",
            "description": "",
            "description_tooltip": null,
            "layout": "IPY_MODEL_205822c4c7f1452ca4df3c2a0d6dda44",
            "max": 714355318,
            "min": 0,
            "orientation": "horizontal",
            "style": "IPY_MODEL_1dee9d50779a47808d991e7194166587",
            "value": 714355318
          }
        },
        "61204e026bed4f769bfbe63388cb021a": {
          "model_module": "@jupyter-widgets/controls",
          "model_name": "HTMLModel",
          "model_module_version": "1.5.0",
          "state": {
            "_dom_classes": [],
            "_model_module": "@jupyter-widgets/controls",
            "_model_module_version": "1.5.0",
            "_model_name": "HTMLModel",
            "_view_count": null,
            "_view_module": "@jupyter-widgets/controls",
            "_view_module_version": "1.5.0",
            "_view_name": "HTMLView",
            "description": "",
            "description_tooltip": null,
            "layout": "IPY_MODEL_fada9f7071ca44e89048434b12440ef1",
            "placeholder": "​",
            "style": "IPY_MODEL_797e824b8b424dc9b96ce6a5e3cb9640",
            "value": " 681M/681M [00:11&lt;00:00, 48.5MB/s]"
          }
        },
        "07109e5b081f43bfa77e63b0fb4c0d5d": {
          "model_module": "@jupyter-widgets/base",
          "model_name": "LayoutModel",
          "model_module_version": "1.2.0",
          "state": {
            "_model_module": "@jupyter-widgets/base",
            "_model_module_version": "1.2.0",
            "_model_name": "LayoutModel",
            "_view_count": null,
            "_view_module": "@jupyter-widgets/base",
            "_view_module_version": "1.2.0",
            "_view_name": "LayoutView",
            "align_content": null,
            "align_items": null,
            "align_self": null,
            "border": null,
            "bottom": null,
            "display": null,
            "flex": null,
            "flex_flow": null,
            "grid_area": null,
            "grid_auto_columns": null,
            "grid_auto_flow": null,
            "grid_auto_rows": null,
            "grid_column": null,
            "grid_gap": null,
            "grid_row": null,
            "grid_template_areas": null,
            "grid_template_columns": null,
            "grid_template_rows": null,
            "height": null,
            "justify_content": null,
            "justify_items": null,
            "left": null,
            "margin": null,
            "max_height": null,
            "max_width": null,
            "min_height": null,
            "min_width": null,
            "object_fit": null,
            "object_position": null,
            "order": null,
            "overflow": null,
            "overflow_x": null,
            "overflow_y": null,
            "padding": null,
            "right": null,
            "top": null,
            "visibility": null,
            "width": null
          }
        },
        "cdcfa89ad317484a8acc1546bc70f144": {
          "model_module": "@jupyter-widgets/base",
          "model_name": "LayoutModel",
          "model_module_version": "1.2.0",
          "state": {
            "_model_module": "@jupyter-widgets/base",
            "_model_module_version": "1.2.0",
            "_model_name": "LayoutModel",
            "_view_count": null,
            "_view_module": "@jupyter-widgets/base",
            "_view_module_version": "1.2.0",
            "_view_name": "LayoutView",
            "align_content": null,
            "align_items": null,
            "align_self": null,
            "border": null,
            "bottom": null,
            "display": null,
            "flex": null,
            "flex_flow": null,
            "grid_area": null,
            "grid_auto_columns": null,
            "grid_auto_flow": null,
            "grid_auto_rows": null,
            "grid_column": null,
            "grid_gap": null,
            "grid_row": null,
            "grid_template_areas": null,
            "grid_template_columns": null,
            "grid_template_rows": null,
            "height": null,
            "justify_content": null,
            "justify_items": null,
            "left": null,
            "margin": null,
            "max_height": null,
            "max_width": null,
            "min_height": null,
            "min_width": null,
            "object_fit": null,
            "object_position": null,
            "order": null,
            "overflow": null,
            "overflow_x": null,
            "overflow_y": null,
            "padding": null,
            "right": null,
            "top": null,
            "visibility": null,
            "width": null
          }
        },
        "2785c85a83b14181af37cf97d6c13354": {
          "model_module": "@jupyter-widgets/controls",
          "model_name": "DescriptionStyleModel",
          "model_module_version": "1.5.0",
          "state": {
            "_model_module": "@jupyter-widgets/controls",
            "_model_module_version": "1.5.0",
            "_model_name": "DescriptionStyleModel",
            "_view_count": null,
            "_view_module": "@jupyter-widgets/base",
            "_view_module_version": "1.2.0",
            "_view_name": "StyleView",
            "description_width": ""
          }
        },
        "205822c4c7f1452ca4df3c2a0d6dda44": {
          "model_module": "@jupyter-widgets/base",
          "model_name": "LayoutModel",
          "model_module_version": "1.2.0",
          "state": {
            "_model_module": "@jupyter-widgets/base",
            "_model_module_version": "1.2.0",
            "_model_name": "LayoutModel",
            "_view_count": null,
            "_view_module": "@jupyter-widgets/base",
            "_view_module_version": "1.2.0",
            "_view_name": "LayoutView",
            "align_content": null,
            "align_items": null,
            "align_self": null,
            "border": null,
            "bottom": null,
            "display": null,
            "flex": null,
            "flex_flow": null,
            "grid_area": null,
            "grid_auto_columns": null,
            "grid_auto_flow": null,
            "grid_auto_rows": null,
            "grid_column": null,
            "grid_gap": null,
            "grid_row": null,
            "grid_template_areas": null,
            "grid_template_columns": null,
            "grid_template_rows": null,
            "height": null,
            "justify_content": null,
            "justify_items": null,
            "left": null,
            "margin": null,
            "max_height": null,
            "max_width": null,
            "min_height": null,
            "min_width": null,
            "object_fit": null,
            "object_position": null,
            "order": null,
            "overflow": null,
            "overflow_x": null,
            "overflow_y": null,
            "padding": null,
            "right": null,
            "top": null,
            "visibility": null,
            "width": null
          }
        },
        "1dee9d50779a47808d991e7194166587": {
          "model_module": "@jupyter-widgets/controls",
          "model_name": "ProgressStyleModel",
          "model_module_version": "1.5.0",
          "state": {
            "_model_module": "@jupyter-widgets/controls",
            "_model_module_version": "1.5.0",
            "_model_name": "ProgressStyleModel",
            "_view_count": null,
            "_view_module": "@jupyter-widgets/base",
            "_view_module_version": "1.2.0",
            "_view_name": "StyleView",
            "bar_color": null,
            "description_width": ""
          }
        },
        "fada9f7071ca44e89048434b12440ef1": {
          "model_module": "@jupyter-widgets/base",
          "model_name": "LayoutModel",
          "model_module_version": "1.2.0",
          "state": {
            "_model_module": "@jupyter-widgets/base",
            "_model_module_version": "1.2.0",
            "_model_name": "LayoutModel",
            "_view_count": null,
            "_view_module": "@jupyter-widgets/base",
            "_view_module_version": "1.2.0",
            "_view_name": "LayoutView",
            "align_content": null,
            "align_items": null,
            "align_self": null,
            "border": null,
            "bottom": null,
            "display": null,
            "flex": null,
            "flex_flow": null,
            "grid_area": null,
            "grid_auto_columns": null,
            "grid_auto_flow": null,
            "grid_auto_rows": null,
            "grid_column": null,
            "grid_gap": null,
            "grid_row": null,
            "grid_template_areas": null,
            "grid_template_columns": null,
            "grid_template_rows": null,
            "height": null,
            "justify_content": null,
            "justify_items": null,
            "left": null,
            "margin": null,
            "max_height": null,
            "max_width": null,
            "min_height": null,
            "min_width": null,
            "object_fit": null,
            "object_position": null,
            "order": null,
            "overflow": null,
            "overflow_x": null,
            "overflow_y": null,
            "padding": null,
            "right": null,
            "top": null,
            "visibility": null,
            "width": null
          }
        },
        "797e824b8b424dc9b96ce6a5e3cb9640": {
          "model_module": "@jupyter-widgets/controls",
          "model_name": "DescriptionStyleModel",
          "model_module_version": "1.5.0",
          "state": {
            "_model_module": "@jupyter-widgets/controls",
            "_model_module_version": "1.5.0",
            "_model_name": "DescriptionStyleModel",
            "_view_count": null,
            "_view_module": "@jupyter-widgets/base",
            "_view_module_version": "1.2.0",
            "_view_name": "StyleView",
            "description_width": ""
          }
        },
        "d8ad83cae62d4e61ac0d934e98d44d05": {
          "model_module": "@jupyter-widgets/controls",
          "model_name": "VBoxModel",
          "model_module_version": "1.5.0",
          "state": {
            "_dom_classes": [
              "widget-interact"
            ],
            "_model_module": "@jupyter-widgets/controls",
            "_model_module_version": "1.5.0",
            "_model_name": "VBoxModel",
            "_view_count": null,
            "_view_module": "@jupyter-widgets/controls",
            "_view_module_version": "1.5.0",
            "_view_name": "VBoxView",
            "box_style": "",
            "children": [
              "IPY_MODEL_34bc4b1ead6e4477a055a479e73c2512",
              "IPY_MODEL_e643396b24144b778b365191e1815c0f",
              "IPY_MODEL_8f8945651adb4c5785539cdcafba8247"
            ],
            "layout": "IPY_MODEL_e7a443c19d8a4a1f8b3061e69b7c8cba"
          }
        },
        "34bc4b1ead6e4477a055a479e73c2512": {
          "model_module": "@jupyter-widgets/controls",
          "model_name": "IntSliderModel",
          "model_module_version": "1.5.0",
          "state": {
            "_dom_classes": [],
            "_model_module": "@jupyter-widgets/controls",
            "_model_module_version": "1.5.0",
            "_model_name": "IntSliderModel",
            "_view_count": null,
            "_view_module": "@jupyter-widgets/controls",
            "_view_module_version": "1.5.0",
            "_view_name": "IntSliderView",
            "continuous_update": true,
            "description": "perplexity",
            "description_tooltip": null,
            "disabled": false,
            "layout": "IPY_MODEL_0f2445a7a97447aa81329fcab2a559da",
            "max": 100,
            "min": 1,
            "orientation": "horizontal",
            "readout": true,
            "readout_format": "d",
            "step": 1,
            "style": "IPY_MODEL_828862ad4cc64a46ac1ffee814c599c2",
            "value": 30
          }
        },
        "e643396b24144b778b365191e1815c0f": {
          "model_module": "@jupyter-widgets/controls",
          "model_name": "FloatLogSliderModel",
          "model_module_version": "1.5.0",
          "state": {
            "_dom_classes": [],
            "_model_module": "@jupyter-widgets/controls",
            "_model_module_version": "1.5.0",
            "_model_name": "FloatLogSliderModel",
            "_view_count": null,
            "_view_module": "@jupyter-widgets/controls",
            "_view_module_version": "1.5.0",
            "_view_name": "FloatLogSliderView",
            "base": 10,
            "continuous_update": true,
            "description": "learning_rate",
            "description_tooltip": null,
            "disabled": false,
            "layout": "IPY_MODEL_b24631f280a042deb26bf2ca557f902d",
            "max": 3,
            "min": 1,
            "orientation": "horizontal",
            "readout": true,
            "readout_format": ".3g",
            "step": 0.1,
            "style": "IPY_MODEL_cca5cc1446f34126ba6d6a4a5517d170",
            "value": 200
          }
        },
        "8f8945651adb4c5785539cdcafba8247": {
          "model_module": "@jupyter-widgets/output",
          "model_name": "OutputModel",
          "model_module_version": "1.0.0",
          "state": {
            "_dom_classes": [],
            "_model_module": "@jupyter-widgets/output",
            "_model_module_version": "1.0.0",
            "_model_name": "OutputModel",
            "_view_count": null,
            "_view_module": "@jupyter-widgets/output",
            "_view_module_version": "1.0.0",
            "_view_name": "OutputView",
            "layout": "IPY_MODEL_d7511ef5490e400da81d42de4dc4b767",
            "msg_id": "",
            "outputs": [
              {
                "output_type": "stream",
                "name": "stderr",
                "text": [
                  "/usr/local/lib/python3.9/dist-packages/sklearn/manifold/_t_sne.py:982: FutureWarning: The PCA initialization in TSNE will change to have the standard deviation of PC1 equal to 1e-4 in 1.2. This will ensure better convergence.\n",
                  "  warnings.warn(\n"
                ]
              },
              {
                "output_type": "display_data",
                "data": {
                  "text/plain": "<Figure size 1000x500 with 2 Axes>",
                  "image/png": "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\n"
                },
                "metadata": {}
              }
            ]
          }
        },
        "e7a443c19d8a4a1f8b3061e69b7c8cba": {
          "model_module": "@jupyter-widgets/base",
          "model_name": "LayoutModel",
          "model_module_version": "1.2.0",
          "state": {
            "_model_module": "@jupyter-widgets/base",
            "_model_module_version": "1.2.0",
            "_model_name": "LayoutModel",
            "_view_count": null,
            "_view_module": "@jupyter-widgets/base",
            "_view_module_version": "1.2.0",
            "_view_name": "LayoutView",
            "align_content": null,
            "align_items": null,
            "align_self": null,
            "border": null,
            "bottom": null,
            "display": null,
            "flex": null,
            "flex_flow": null,
            "grid_area": null,
            "grid_auto_columns": null,
            "grid_auto_flow": null,
            "grid_auto_rows": null,
            "grid_column": null,
            "grid_gap": null,
            "grid_row": null,
            "grid_template_areas": null,
            "grid_template_columns": null,
            "grid_template_rows": null,
            "height": null,
            "justify_content": null,
            "justify_items": null,
            "left": null,
            "margin": null,
            "max_height": null,
            "max_width": null,
            "min_height": null,
            "min_width": null,
            "object_fit": null,
            "object_position": null,
            "order": null,
            "overflow": null,
            "overflow_x": null,
            "overflow_y": null,
            "padding": null,
            "right": null,
            "top": null,
            "visibility": null,
            "width": null
          }
        },
        "0f2445a7a97447aa81329fcab2a559da": {
          "model_module": "@jupyter-widgets/base",
          "model_name": "LayoutModel",
          "model_module_version": "1.2.0",
          "state": {
            "_model_module": "@jupyter-widgets/base",
            "_model_module_version": "1.2.0",
            "_model_name": "LayoutModel",
            "_view_count": null,
            "_view_module": "@jupyter-widgets/base",
            "_view_module_version": "1.2.0",
            "_view_name": "LayoutView",
            "align_content": null,
            "align_items": null,
            "align_self": null,
            "border": null,
            "bottom": null,
            "display": null,
            "flex": null,
            "flex_flow": null,
            "grid_area": null,
            "grid_auto_columns": null,
            "grid_auto_flow": null,
            "grid_auto_rows": null,
            "grid_column": null,
            "grid_gap": null,
            "grid_row": null,
            "grid_template_areas": null,
            "grid_template_columns": null,
            "grid_template_rows": null,
            "height": null,
            "justify_content": null,
            "justify_items": null,
            "left": null,
            "margin": null,
            "max_height": null,
            "max_width": null,
            "min_height": null,
            "min_width": null,
            "object_fit": null,
            "object_position": null,
            "order": null,
            "overflow": null,
            "overflow_x": null,
            "overflow_y": null,
            "padding": null,
            "right": null,
            "top": null,
            "visibility": null,
            "width": null
          }
        },
        "828862ad4cc64a46ac1ffee814c599c2": {
          "model_module": "@jupyter-widgets/controls",
          "model_name": "SliderStyleModel",
          "model_module_version": "1.5.0",
          "state": {
            "_model_module": "@jupyter-widgets/controls",
            "_model_module_version": "1.5.0",
            "_model_name": "SliderStyleModel",
            "_view_count": null,
            "_view_module": "@jupyter-widgets/base",
            "_view_module_version": "1.2.0",
            "_view_name": "StyleView",
            "description_width": "",
            "handle_color": null
          }
        },
        "b24631f280a042deb26bf2ca557f902d": {
          "model_module": "@jupyter-widgets/base",
          "model_name": "LayoutModel",
          "model_module_version": "1.2.0",
          "state": {
            "_model_module": "@jupyter-widgets/base",
            "_model_module_version": "1.2.0",
            "_model_name": "LayoutModel",
            "_view_count": null,
            "_view_module": "@jupyter-widgets/base",
            "_view_module_version": "1.2.0",
            "_view_name": "LayoutView",
            "align_content": null,
            "align_items": null,
            "align_self": null,
            "border": null,
            "bottom": null,
            "display": null,
            "flex": null,
            "flex_flow": null,
            "grid_area": null,
            "grid_auto_columns": null,
            "grid_auto_flow": null,
            "grid_auto_rows": null,
            "grid_column": null,
            "grid_gap": null,
            "grid_row": null,
            "grid_template_areas": null,
            "grid_template_columns": null,
            "grid_template_rows": null,
            "height": null,
            "justify_content": null,
            "justify_items": null,
            "left": null,
            "margin": null,
            "max_height": null,
            "max_width": null,
            "min_height": null,
            "min_width": null,
            "object_fit": null,
            "object_position": null,
            "order": null,
            "overflow": null,
            "overflow_x": null,
            "overflow_y": null,
            "padding": null,
            "right": null,
            "top": null,
            "visibility": null,
            "width": null
          }
        },
        "cca5cc1446f34126ba6d6a4a5517d170": {
          "model_module": "@jupyter-widgets/controls",
          "model_name": "SliderStyleModel",
          "model_module_version": "1.5.0",
          "state": {
            "_model_module": "@jupyter-widgets/controls",
            "_model_module_version": "1.5.0",
            "_model_name": "SliderStyleModel",
            "_view_count": null,
            "_view_module": "@jupyter-widgets/base",
            "_view_module_version": "1.2.0",
            "_view_name": "StyleView",
            "description_width": "",
            "handle_color": null
          }
        },
        "d7511ef5490e400da81d42de4dc4b767": {
          "model_module": "@jupyter-widgets/base",
          "model_name": "LayoutModel",
          "model_module_version": "1.2.0",
          "state": {
            "_model_module": "@jupyter-widgets/base",
            "_model_module_version": "1.2.0",
            "_model_name": "LayoutModel",
            "_view_count": null,
            "_view_module": "@jupyter-widgets/base",
            "_view_module_version": "1.2.0",
            "_view_name": "LayoutView",
            "align_content": null,
            "align_items": null,
            "align_self": null,
            "border": null,
            "bottom": null,
            "display": null,
            "flex": null,
            "flex_flow": null,
            "grid_area": null,
            "grid_auto_columns": null,
            "grid_auto_flow": null,
            "grid_auto_rows": null,
            "grid_column": null,
            "grid_gap": null,
            "grid_row": null,
            "grid_template_areas": null,
            "grid_template_columns": null,
            "grid_template_rows": null,
            "height": null,
            "justify_content": null,
            "justify_items": null,
            "left": null,
            "margin": null,
            "max_height": null,
            "max_width": null,
            "min_height": null,
            "min_width": null,
            "object_fit": null,
            "object_position": null,
            "order": null,
            "overflow": null,
            "overflow_x": null,
            "overflow_y": null,
            "padding": null,
            "right": null,
            "top": null,
            "visibility": null,
            "width": null
          }
        },
        "086e7d7ed2544de6ba25097a8fa40b27": {
          "model_module": "@jupyter-widgets/controls",
          "model_name": "VBoxModel",
          "model_module_version": "1.5.0",
          "state": {
            "_dom_classes": [
              "widget-interact"
            ],
            "_model_module": "@jupyter-widgets/controls",
            "_model_module_version": "1.5.0",
            "_model_name": "VBoxModel",
            "_view_count": null,
            "_view_module": "@jupyter-widgets/controls",
            "_view_module_version": "1.5.0",
            "_view_name": "VBoxView",
            "box_style": "",
            "children": [
              "IPY_MODEL_7c7f90ce5a2e4e4c9ac73751075ed3c3",
              "IPY_MODEL_291c4e5f76a342b2b64b444b7d06e8ea",
              "IPY_MODEL_3c8aa8f0b52f4f8597f967718897e65d"
            ],
            "layout": "IPY_MODEL_3fff0331ed82461994f70e00f3bec0ca"
          }
        },
        "7c7f90ce5a2e4e4c9ac73751075ed3c3": {
          "model_module": "@jupyter-widgets/controls",
          "model_name": "IntSliderModel",
          "model_module_version": "1.5.0",
          "state": {
            "_dom_classes": [],
            "_model_module": "@jupyter-widgets/controls",
            "_model_module_version": "1.5.0",
            "_model_name": "IntSliderModel",
            "_view_count": null,
            "_view_module": "@jupyter-widgets/controls",
            "_view_module_version": "1.5.0",
            "_view_name": "IntSliderView",
            "continuous_update": true,
            "description": "perplexity",
            "description_tooltip": null,
            "disabled": false,
            "layout": "IPY_MODEL_8c205a417d5246e2963a6719e0e7744a",
            "max": 100,
            "min": 1,
            "orientation": "horizontal",
            "readout": true,
            "readout_format": "d",
            "step": 1,
            "style": "IPY_MODEL_bbdcf323d442437c99fe72871af0ceeb",
            "value": 30
          }
        },
        "291c4e5f76a342b2b64b444b7d06e8ea": {
          "model_module": "@jupyter-widgets/controls",
          "model_name": "FloatLogSliderModel",
          "model_module_version": "1.5.0",
          "state": {
            "_dom_classes": [],
            "_model_module": "@jupyter-widgets/controls",
            "_model_module_version": "1.5.0",
            "_model_name": "FloatLogSliderModel",
            "_view_count": null,
            "_view_module": "@jupyter-widgets/controls",
            "_view_module_version": "1.5.0",
            "_view_name": "FloatLogSliderView",
            "base": 10,
            "continuous_update": true,
            "description": "learning_rate",
            "description_tooltip": null,
            "disabled": false,
            "layout": "IPY_MODEL_d3884e1e81f64afeae2e1136af93e41e",
            "max": 3,
            "min": 1,
            "orientation": "horizontal",
            "readout": true,
            "readout_format": ".3g",
            "step": 0.1,
            "style": "IPY_MODEL_4f578d62cb1641588a4ce5351b2406d3",
            "value": 200
          }
        },
        "3c8aa8f0b52f4f8597f967718897e65d": {
          "model_module": "@jupyter-widgets/output",
          "model_name": "OutputModel",
          "model_module_version": "1.0.0",
          "state": {
            "_dom_classes": [],
            "_model_module": "@jupyter-widgets/output",
            "_model_module_version": "1.0.0",
            "_model_name": "OutputModel",
            "_view_count": null,
            "_view_module": "@jupyter-widgets/output",
            "_view_module_version": "1.0.0",
            "_view_name": "OutputView",
            "layout": "IPY_MODEL_d926bd7dc4ba4097a30253f4b1aa66b7",
            "msg_id": "",
            "outputs": [
              {
                "output_type": "stream",
                "name": "stderr",
                "text": [
                  "/usr/local/lib/python3.9/dist-packages/sklearn/manifold/_t_sne.py:982: FutureWarning: The PCA initialization in TSNE will change to have the standard deviation of PC1 equal to 1e-4 in 1.2. This will ensure better convergence.\n",
                  "  warnings.warn(\n"
                ]
              },
              {
                "output_type": "display_data",
                "data": {
                  "text/plain": "<Figure size 1000x500 with 2 Axes>",
                  "image/png": "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\n"
                },
                "metadata": {}
              }
            ]
          }
        },
        "3fff0331ed82461994f70e00f3bec0ca": {
          "model_module": "@jupyter-widgets/base",
          "model_name": "LayoutModel",
          "model_module_version": "1.2.0",
          "state": {
            "_model_module": "@jupyter-widgets/base",
            "_model_module_version": "1.2.0",
            "_model_name": "LayoutModel",
            "_view_count": null,
            "_view_module": "@jupyter-widgets/base",
            "_view_module_version": "1.2.0",
            "_view_name": "LayoutView",
            "align_content": null,
            "align_items": null,
            "align_self": null,
            "border": null,
            "bottom": null,
            "display": null,
            "flex": null,
            "flex_flow": null,
            "grid_area": null,
            "grid_auto_columns": null,
            "grid_auto_flow": null,
            "grid_auto_rows": null,
            "grid_column": null,
            "grid_gap": null,
            "grid_row": null,
            "grid_template_areas": null,
            "grid_template_columns": null,
            "grid_template_rows": null,
            "height": null,
            "justify_content": null,
            "justify_items": null,
            "left": null,
            "margin": null,
            "max_height": null,
            "max_width": null,
            "min_height": null,
            "min_width": null,
            "object_fit": null,
            "object_position": null,
            "order": null,
            "overflow": null,
            "overflow_x": null,
            "overflow_y": null,
            "padding": null,
            "right": null,
            "top": null,
            "visibility": null,
            "width": null
          }
        },
        "8c205a417d5246e2963a6719e0e7744a": {
          "model_module": "@jupyter-widgets/base",
          "model_name": "LayoutModel",
          "model_module_version": "1.2.0",
          "state": {
            "_model_module": "@jupyter-widgets/base",
            "_model_module_version": "1.2.0",
            "_model_name": "LayoutModel",
            "_view_count": null,
            "_view_module": "@jupyter-widgets/base",
            "_view_module_version": "1.2.0",
            "_view_name": "LayoutView",
            "align_content": null,
            "align_items": null,
            "align_self": null,
            "border": null,
            "bottom": null,
            "display": null,
            "flex": null,
            "flex_flow": null,
            "grid_area": null,
            "grid_auto_columns": null,
            "grid_auto_flow": null,
            "grid_auto_rows": null,
            "grid_column": null,
            "grid_gap": null,
            "grid_row": null,
            "grid_template_areas": null,
            "grid_template_columns": null,
            "grid_template_rows": null,
            "height": null,
            "justify_content": null,
            "justify_items": null,
            "left": null,
            "margin": null,
            "max_height": null,
            "max_width": null,
            "min_height": null,
            "min_width": null,
            "object_fit": null,
            "object_position": null,
            "order": null,
            "overflow": null,
            "overflow_x": null,
            "overflow_y": null,
            "padding": null,
            "right": null,
            "top": null,
            "visibility": null,
            "width": null
          }
        },
        "bbdcf323d442437c99fe72871af0ceeb": {
          "model_module": "@jupyter-widgets/controls",
          "model_name": "SliderStyleModel",
          "model_module_version": "1.5.0",
          "state": {
            "_model_module": "@jupyter-widgets/controls",
            "_model_module_version": "1.5.0",
            "_model_name": "SliderStyleModel",
            "_view_count": null,
            "_view_module": "@jupyter-widgets/base",
            "_view_module_version": "1.2.0",
            "_view_name": "StyleView",
            "description_width": "",
            "handle_color": null
          }
        },
        "d3884e1e81f64afeae2e1136af93e41e": {
          "model_module": "@jupyter-widgets/base",
          "model_name": "LayoutModel",
          "model_module_version": "1.2.0",
          "state": {
            "_model_module": "@jupyter-widgets/base",
            "_model_module_version": "1.2.0",
            "_model_name": "LayoutModel",
            "_view_count": null,
            "_view_module": "@jupyter-widgets/base",
            "_view_module_version": "1.2.0",
            "_view_name": "LayoutView",
            "align_content": null,
            "align_items": null,
            "align_self": null,
            "border": null,
            "bottom": null,
            "display": null,
            "flex": null,
            "flex_flow": null,
            "grid_area": null,
            "grid_auto_columns": null,
            "grid_auto_flow": null,
            "grid_auto_rows": null,
            "grid_column": null,
            "grid_gap": null,
            "grid_row": null,
            "grid_template_areas": null,
            "grid_template_columns": null,
            "grid_template_rows": null,
            "height": null,
            "justify_content": null,
            "justify_items": null,
            "left": null,
            "margin": null,
            "max_height": null,
            "max_width": null,
            "min_height": null,
            "min_width": null,
            "object_fit": null,
            "object_position": null,
            "order": null,
            "overflow": null,
            "overflow_x": null,
            "overflow_y": null,
            "padding": null,
            "right": null,
            "top": null,
            "visibility": null,
            "width": null
          }
        },
        "4f578d62cb1641588a4ce5351b2406d3": {
          "model_module": "@jupyter-widgets/controls",
          "model_name": "SliderStyleModel",
          "model_module_version": "1.5.0",
          "state": {
            "_model_module": "@jupyter-widgets/controls",
            "_model_module_version": "1.5.0",
            "_model_name": "SliderStyleModel",
            "_view_count": null,
            "_view_module": "@jupyter-widgets/base",
            "_view_module_version": "1.2.0",
            "_view_name": "StyleView",
            "description_width": "",
            "handle_color": null
          }
        },
        "d926bd7dc4ba4097a30253f4b1aa66b7": {
          "model_module": "@jupyter-widgets/base",
          "model_name": "LayoutModel",
          "model_module_version": "1.2.0",
          "state": {
            "_model_module": "@jupyter-widgets/base",
            "_model_module_version": "1.2.0",
            "_model_name": "LayoutModel",
            "_view_count": null,
            "_view_module": "@jupyter-widgets/base",
            "_view_module_version": "1.2.0",
            "_view_name": "LayoutView",
            "align_content": null,
            "align_items": null,
            "align_self": null,
            "border": null,
            "bottom": null,
            "display": null,
            "flex": null,
            "flex_flow": null,
            "grid_area": null,
            "grid_auto_columns": null,
            "grid_auto_flow": null,
            "grid_auto_rows": null,
            "grid_column": null,
            "grid_gap": null,
            "grid_row": null,
            "grid_template_areas": null,
            "grid_template_columns": null,
            "grid_template_rows": null,
            "height": null,
            "justify_content": null,
            "justify_items": null,
            "left": null,
            "margin": null,
            "max_height": null,
            "max_width": null,
            "min_height": null,
            "min_width": null,
            "object_fit": null,
            "object_position": null,
            "order": null,
            "overflow": null,
            "overflow_x": null,
            "overflow_y": null,
            "padding": null,
            "right": null,
            "top": null,
            "visibility": null,
            "width": null
          }
        },
        "89d1f47d0ab14130b2c63d8c8a4e7674": {
          "model_module": "@jupyter-widgets/controls",
          "model_name": "HBoxModel",
          "model_module_version": "1.5.0",
          "state": {
            "_dom_classes": [],
            "_model_module": "@jupyter-widgets/controls",
            "_model_module_version": "1.5.0",
            "_model_name": "HBoxModel",
            "_view_count": null,
            "_view_module": "@jupyter-widgets/controls",
            "_view_module_version": "1.5.0",
            "_view_name": "HBoxView",
            "box_style": "",
            "children": [
              "IPY_MODEL_f90fa12e390f441a832bf24adf35c53e",
              "IPY_MODEL_4246e23fbacb4b9ca1c7cd56f0f3a2e7",
              "IPY_MODEL_08278d770c6c4819bba1c82bd489320c"
            ],
            "layout": "IPY_MODEL_3d13e9ccb95247a7814cb2d0a91b952d"
          }
        },
        "f90fa12e390f441a832bf24adf35c53e": {
          "model_module": "@jupyter-widgets/controls",
          "model_name": "HTMLModel",
          "model_module_version": "1.5.0",
          "state": {
            "_dom_classes": [],
            "_model_module": "@jupyter-widgets/controls",
            "_model_module_version": "1.5.0",
            "_model_name": "HTMLModel",
            "_view_count": null,
            "_view_module": "@jupyter-widgets/controls",
            "_view_module_version": "1.5.0",
            "_view_name": "HTMLView",
            "description": "",
            "description_tooltip": null,
            "layout": "IPY_MODEL_a212ea772d264d82aa0dd9612e22c8fc",
            "placeholder": "​",
            "style": "IPY_MODEL_0b919b6bbebf4f54800832512f7a6078",
            "value": "Downloading tokenizer_config.json: 100%"
          }
        },
        "4246e23fbacb4b9ca1c7cd56f0f3a2e7": {
          "model_module": "@jupyter-widgets/controls",
          "model_name": "FloatProgressModel",
          "model_module_version": "1.5.0",
          "state": {
            "_dom_classes": [],
            "_model_module": "@jupyter-widgets/controls",
            "_model_module_version": "1.5.0",
            "_model_name": "FloatProgressModel",
            "_view_count": null,
            "_view_module": "@jupyter-widgets/controls",
            "_view_module_version": "1.5.0",
            "_view_name": "ProgressView",
            "bar_style": "success",
            "description": "",
            "description_tooltip": null,
            "layout": "IPY_MODEL_518b42d765d24d438b3358a990b22b3c",
            "max": 24,
            "min": 0,
            "orientation": "horizontal",
            "style": "IPY_MODEL_5b92dd49a1c04290b331e1e1ccad807c",
            "value": 24
          }
        },
        "08278d770c6c4819bba1c82bd489320c": {
          "model_module": "@jupyter-widgets/controls",
          "model_name": "HTMLModel",
          "model_module_version": "1.5.0",
          "state": {
            "_dom_classes": [],
            "_model_module": "@jupyter-widgets/controls",
            "_model_module_version": "1.5.0",
            "_model_name": "HTMLModel",
            "_view_count": null,
            "_view_module": "@jupyter-widgets/controls",
            "_view_module_version": "1.5.0",
            "_view_name": "HTMLView",
            "description": "",
            "description_tooltip": null,
            "layout": "IPY_MODEL_dc1ee508a9f04d73b0de565bd06c3d34",
            "placeholder": "​",
            "style": "IPY_MODEL_b2fe09ef13394ea08c1001a8e1fc5847",
            "value": " 24.0/24.0 [00:00&lt;00:00, 781B/s]"
          }
        },
        "3d13e9ccb95247a7814cb2d0a91b952d": {
          "model_module": "@jupyter-widgets/base",
          "model_name": "LayoutModel",
          "model_module_version": "1.2.0",
          "state": {
            "_model_module": "@jupyter-widgets/base",
            "_model_module_version": "1.2.0",
            "_model_name": "LayoutModel",
            "_view_count": null,
            "_view_module": "@jupyter-widgets/base",
            "_view_module_version": "1.2.0",
            "_view_name": "LayoutView",
            "align_content": null,
            "align_items": null,
            "align_self": null,
            "border": null,
            "bottom": null,
            "display": null,
            "flex": null,
            "flex_flow": null,
            "grid_area": null,
            "grid_auto_columns": null,
            "grid_auto_flow": null,
            "grid_auto_rows": null,
            "grid_column": null,
            "grid_gap": null,
            "grid_row": null,
            "grid_template_areas": null,
            "grid_template_columns": null,
            "grid_template_rows": null,
            "height": null,
            "justify_content": null,
            "justify_items": null,
            "left": null,
            "margin": null,
            "max_height": null,
            "max_width": null,
            "min_height": null,
            "min_width": null,
            "object_fit": null,
            "object_position": null,
            "order": null,
            "overflow": null,
            "overflow_x": null,
            "overflow_y": null,
            "padding": null,
            "right": null,
            "top": null,
            "visibility": null,
            "width": null
          }
        },
        "a212ea772d264d82aa0dd9612e22c8fc": {
          "model_module": "@jupyter-widgets/base",
          "model_name": "LayoutModel",
          "model_module_version": "1.2.0",
          "state": {
            "_model_module": "@jupyter-widgets/base",
            "_model_module_version": "1.2.0",
            "_model_name": "LayoutModel",
            "_view_count": null,
            "_view_module": "@jupyter-widgets/base",
            "_view_module_version": "1.2.0",
            "_view_name": "LayoutView",
            "align_content": null,
            "align_items": null,
            "align_self": null,
            "border": null,
            "bottom": null,
            "display": null,
            "flex": null,
            "flex_flow": null,
            "grid_area": null,
            "grid_auto_columns": null,
            "grid_auto_flow": null,
            "grid_auto_rows": null,
            "grid_column": null,
            "grid_gap": null,
            "grid_row": null,
            "grid_template_areas": null,
            "grid_template_columns": null,
            "grid_template_rows": null,
            "height": null,
            "justify_content": null,
            "justify_items": null,
            "left": null,
            "margin": null,
            "max_height": null,
            "max_width": null,
            "min_height": null,
            "min_width": null,
            "object_fit": null,
            "object_position": null,
            "order": null,
            "overflow": null,
            "overflow_x": null,
            "overflow_y": null,
            "padding": null,
            "right": null,
            "top": null,
            "visibility": null,
            "width": null
          }
        },
        "0b919b6bbebf4f54800832512f7a6078": {
          "model_module": "@jupyter-widgets/controls",
          "model_name": "DescriptionStyleModel",
          "model_module_version": "1.5.0",
          "state": {
            "_model_module": "@jupyter-widgets/controls",
            "_model_module_version": "1.5.0",
            "_model_name": "DescriptionStyleModel",
            "_view_count": null,
            "_view_module": "@jupyter-widgets/base",
            "_view_module_version": "1.2.0",
            "_view_name": "StyleView",
            "description_width": ""
          }
        },
        "518b42d765d24d438b3358a990b22b3c": {
          "model_module": "@jupyter-widgets/base",
          "model_name": "LayoutModel",
          "model_module_version": "1.2.0",
          "state": {
            "_model_module": "@jupyter-widgets/base",
            "_model_module_version": "1.2.0",
            "_model_name": "LayoutModel",
            "_view_count": null,
            "_view_module": "@jupyter-widgets/base",
            "_view_module_version": "1.2.0",
            "_view_name": "LayoutView",
            "align_content": null,
            "align_items": null,
            "align_self": null,
            "border": null,
            "bottom": null,
            "display": null,
            "flex": null,
            "flex_flow": null,
            "grid_area": null,
            "grid_auto_columns": null,
            "grid_auto_flow": null,
            "grid_auto_rows": null,
            "grid_column": null,
            "grid_gap": null,
            "grid_row": null,
            "grid_template_areas": null,
            "grid_template_columns": null,
            "grid_template_rows": null,
            "height": null,
            "justify_content": null,
            "justify_items": null,
            "left": null,
            "margin": null,
            "max_height": null,
            "max_width": null,
            "min_height": null,
            "min_width": null,
            "object_fit": null,
            "object_position": null,
            "order": null,
            "overflow": null,
            "overflow_x": null,
            "overflow_y": null,
            "padding": null,
            "right": null,
            "top": null,
            "visibility": null,
            "width": null
          }
        },
        "5b92dd49a1c04290b331e1e1ccad807c": {
          "model_module": "@jupyter-widgets/controls",
          "model_name": "ProgressStyleModel",
          "model_module_version": "1.5.0",
          "state": {
            "_model_module": "@jupyter-widgets/controls",
            "_model_module_version": "1.5.0",
            "_model_name": "ProgressStyleModel",
            "_view_count": null,
            "_view_module": "@jupyter-widgets/base",
            "_view_module_version": "1.2.0",
            "_view_name": "StyleView",
            "bar_color": null,
            "description_width": ""
          }
        },
        "dc1ee508a9f04d73b0de565bd06c3d34": {
          "model_module": "@jupyter-widgets/base",
          "model_name": "LayoutModel",
          "model_module_version": "1.2.0",
          "state": {
            "_model_module": "@jupyter-widgets/base",
            "_model_module_version": "1.2.0",
            "_model_name": "LayoutModel",
            "_view_count": null,
            "_view_module": "@jupyter-widgets/base",
            "_view_module_version": "1.2.0",
            "_view_name": "LayoutView",
            "align_content": null,
            "align_items": null,
            "align_self": null,
            "border": null,
            "bottom": null,
            "display": null,
            "flex": null,
            "flex_flow": null,
            "grid_area": null,
            "grid_auto_columns": null,
            "grid_auto_flow": null,
            "grid_auto_rows": null,
            "grid_column": null,
            "grid_gap": null,
            "grid_row": null,
            "grid_template_areas": null,
            "grid_template_columns": null,
            "grid_template_rows": null,
            "height": null,
            "justify_content": null,
            "justify_items": null,
            "left": null,
            "margin": null,
            "max_height": null,
            "max_width": null,
            "min_height": null,
            "min_width": null,
            "object_fit": null,
            "object_position": null,
            "order": null,
            "overflow": null,
            "overflow_x": null,
            "overflow_y": null,
            "padding": null,
            "right": null,
            "top": null,
            "visibility": null,
            "width": null
          }
        },
        "b2fe09ef13394ea08c1001a8e1fc5847": {
          "model_module": "@jupyter-widgets/controls",
          "model_name": "DescriptionStyleModel",
          "model_module_version": "1.5.0",
          "state": {
            "_model_module": "@jupyter-widgets/controls",
            "_model_module_version": "1.5.0",
            "_model_name": "DescriptionStyleModel",
            "_view_count": null,
            "_view_module": "@jupyter-widgets/base",
            "_view_module_version": "1.2.0",
            "_view_name": "StyleView",
            "description_width": ""
          }
        },
        "4c26f881ce254cc79a7d81e7d094e015": {
          "model_module": "@jupyter-widgets/controls",
          "model_name": "HBoxModel",
          "model_module_version": "1.5.0",
          "state": {
            "_dom_classes": [],
            "_model_module": "@jupyter-widgets/controls",
            "_model_module_version": "1.5.0",
            "_model_name": "HBoxModel",
            "_view_count": null,
            "_view_module": "@jupyter-widgets/controls",
            "_view_module_version": "1.5.0",
            "_view_name": "HBoxView",
            "box_style": "",
            "children": [
              "IPY_MODEL_1d0d2261cb094397aa1a9ff9fd437715",
              "IPY_MODEL_a24130d65fd24ba5a81e527f993dfb02",
              "IPY_MODEL_f5b7511c3ba443f682382e4f1c647e09"
            ],
            "layout": "IPY_MODEL_85451f865eb5425a900b642f477121b1"
          }
        },
        "1d0d2261cb094397aa1a9ff9fd437715": {
          "model_module": "@jupyter-widgets/controls",
          "model_name": "HTMLModel",
          "model_module_version": "1.5.0",
          "state": {
            "_dom_classes": [],
            "_model_module": "@jupyter-widgets/controls",
            "_model_module_version": "1.5.0",
            "_model_name": "HTMLModel",
            "_view_count": null,
            "_view_module": "@jupyter-widgets/controls",
            "_view_module_version": "1.5.0",
            "_view_name": "HTMLView",
            "description": "",
            "description_tooltip": null,
            "layout": "IPY_MODEL_1cd7b9df410e43ec887145ec38b96e5b",
            "placeholder": "​",
            "style": "IPY_MODEL_2d5eda27f73e4628a00a45ccd0446b27",
            "value": "Downloading config.json: 100%"
          }
        },
        "a24130d65fd24ba5a81e527f993dfb02": {
          "model_module": "@jupyter-widgets/controls",
          "model_name": "FloatProgressModel",
          "model_module_version": "1.5.0",
          "state": {
            "_dom_classes": [],
            "_model_module": "@jupyter-widgets/controls",
            "_model_module_version": "1.5.0",
            "_model_name": "FloatProgressModel",
            "_view_count": null,
            "_view_module": "@jupyter-widgets/controls",
            "_view_module_version": "1.5.0",
            "_view_name": "ProgressView",
            "bar_style": "success",
            "description": "",
            "description_tooltip": null,
            "layout": "IPY_MODEL_bea93769067e440b8e0a1c72eba57139",
            "max": 642,
            "min": 0,
            "orientation": "horizontal",
            "style": "IPY_MODEL_fd41c1918d614a30a5368d4781eeeae3",
            "value": 642
          }
        },
        "f5b7511c3ba443f682382e4f1c647e09": {
          "model_module": "@jupyter-widgets/controls",
          "model_name": "HTMLModel",
          "model_module_version": "1.5.0",
          "state": {
            "_dom_classes": [],
            "_model_module": "@jupyter-widgets/controls",
            "_model_module_version": "1.5.0",
            "_model_name": "HTMLModel",
            "_view_count": null,
            "_view_module": "@jupyter-widgets/controls",
            "_view_module_version": "1.5.0",
            "_view_name": "HTMLView",
            "description": "",
            "description_tooltip": null,
            "layout": "IPY_MODEL_f46182ef7299489d8a39de7f6f884c18",
            "placeholder": "​",
            "style": "IPY_MODEL_2e5cd154f1ba4769a3d170532b7b5c15",
            "value": " 642/642 [00:00&lt;00:00, 28.5kB/s]"
          }
        },
        "85451f865eb5425a900b642f477121b1": {
          "model_module": "@jupyter-widgets/base",
          "model_name": "LayoutModel",
          "model_module_version": "1.2.0",
          "state": {
            "_model_module": "@jupyter-widgets/base",
            "_model_module_version": "1.2.0",
            "_model_name": "LayoutModel",
            "_view_count": null,
            "_view_module": "@jupyter-widgets/base",
            "_view_module_version": "1.2.0",
            "_view_name": "LayoutView",
            "align_content": null,
            "align_items": null,
            "align_self": null,
            "border": null,
            "bottom": null,
            "display": null,
            "flex": null,
            "flex_flow": null,
            "grid_area": null,
            "grid_auto_columns": null,
            "grid_auto_flow": null,
            "grid_auto_rows": null,
            "grid_column": null,
            "grid_gap": null,
            "grid_row": null,
            "grid_template_areas": null,
            "grid_template_columns": null,
            "grid_template_rows": null,
            "height": null,
            "justify_content": null,
            "justify_items": null,
            "left": null,
            "margin": null,
            "max_height": null,
            "max_width": null,
            "min_height": null,
            "min_width": null,
            "object_fit": null,
            "object_position": null,
            "order": null,
            "overflow": null,
            "overflow_x": null,
            "overflow_y": null,
            "padding": null,
            "right": null,
            "top": null,
            "visibility": null,
            "width": null
          }
        },
        "1cd7b9df410e43ec887145ec38b96e5b": {
          "model_module": "@jupyter-widgets/base",
          "model_name": "LayoutModel",
          "model_module_version": "1.2.0",
          "state": {
            "_model_module": "@jupyter-widgets/base",
            "_model_module_version": "1.2.0",
            "_model_name": "LayoutModel",
            "_view_count": null,
            "_view_module": "@jupyter-widgets/base",
            "_view_module_version": "1.2.0",
            "_view_name": "LayoutView",
            "align_content": null,
            "align_items": null,
            "align_self": null,
            "border": null,
            "bottom": null,
            "display": null,
            "flex": null,
            "flex_flow": null,
            "grid_area": null,
            "grid_auto_columns": null,
            "grid_auto_flow": null,
            "grid_auto_rows": null,
            "grid_column": null,
            "grid_gap": null,
            "grid_row": null,
            "grid_template_areas": null,
            "grid_template_columns": null,
            "grid_template_rows": null,
            "height": null,
            "justify_content": null,
            "justify_items": null,
            "left": null,
            "margin": null,
            "max_height": null,
            "max_width": null,
            "min_height": null,
            "min_width": null,
            "object_fit": null,
            "object_position": null,
            "order": null,
            "overflow": null,
            "overflow_x": null,
            "overflow_y": null,
            "padding": null,
            "right": null,
            "top": null,
            "visibility": null,
            "width": null
          }
        },
        "2d5eda27f73e4628a00a45ccd0446b27": {
          "model_module": "@jupyter-widgets/controls",
          "model_name": "DescriptionStyleModel",
          "model_module_version": "1.5.0",
          "state": {
            "_model_module": "@jupyter-widgets/controls",
            "_model_module_version": "1.5.0",
            "_model_name": "DescriptionStyleModel",
            "_view_count": null,
            "_view_module": "@jupyter-widgets/base",
            "_view_module_version": "1.2.0",
            "_view_name": "StyleView",
            "description_width": ""
          }
        },
        "bea93769067e440b8e0a1c72eba57139": {
          "model_module": "@jupyter-widgets/base",
          "model_name": "LayoutModel",
          "model_module_version": "1.2.0",
          "state": {
            "_model_module": "@jupyter-widgets/base",
            "_model_module_version": "1.2.0",
            "_model_name": "LayoutModel",
            "_view_count": null,
            "_view_module": "@jupyter-widgets/base",
            "_view_module_version": "1.2.0",
            "_view_name": "LayoutView",
            "align_content": null,
            "align_items": null,
            "align_self": null,
            "border": null,
            "bottom": null,
            "display": null,
            "flex": null,
            "flex_flow": null,
            "grid_area": null,
            "grid_auto_columns": null,
            "grid_auto_flow": null,
            "grid_auto_rows": null,
            "grid_column": null,
            "grid_gap": null,
            "grid_row": null,
            "grid_template_areas": null,
            "grid_template_columns": null,
            "grid_template_rows": null,
            "height": null,
            "justify_content": null,
            "justify_items": null,
            "left": null,
            "margin": null,
            "max_height": null,
            "max_width": null,
            "min_height": null,
            "min_width": null,
            "object_fit": null,
            "object_position": null,
            "order": null,
            "overflow": null,
            "overflow_x": null,
            "overflow_y": null,
            "padding": null,
            "right": null,
            "top": null,
            "visibility": null,
            "width": null
          }
        },
        "fd41c1918d614a30a5368d4781eeeae3": {
          "model_module": "@jupyter-widgets/controls",
          "model_name": "ProgressStyleModel",
          "model_module_version": "1.5.0",
          "state": {
            "_model_module": "@jupyter-widgets/controls",
            "_model_module_version": "1.5.0",
            "_model_name": "ProgressStyleModel",
            "_view_count": null,
            "_view_module": "@jupyter-widgets/base",
            "_view_module_version": "1.2.0",
            "_view_name": "StyleView",
            "bar_color": null,
            "description_width": ""
          }
        },
        "f46182ef7299489d8a39de7f6f884c18": {
          "model_module": "@jupyter-widgets/base",
          "model_name": "LayoutModel",
          "model_module_version": "1.2.0",
          "state": {
            "_model_module": "@jupyter-widgets/base",
            "_model_module_version": "1.2.0",
            "_model_name": "LayoutModel",
            "_view_count": null,
            "_view_module": "@jupyter-widgets/base",
            "_view_module_version": "1.2.0",
            "_view_name": "LayoutView",
            "align_content": null,
            "align_items": null,
            "align_self": null,
            "border": null,
            "bottom": null,
            "display": null,
            "flex": null,
            "flex_flow": null,
            "grid_area": null,
            "grid_auto_columns": null,
            "grid_auto_flow": null,
            "grid_auto_rows": null,
            "grid_column": null,
            "grid_gap": null,
            "grid_row": null,
            "grid_template_areas": null,
            "grid_template_columns": null,
            "grid_template_rows": null,
            "height": null,
            "justify_content": null,
            "justify_items": null,
            "left": null,
            "margin": null,
            "max_height": null,
            "max_width": null,
            "min_height": null,
            "min_width": null,
            "object_fit": null,
            "object_position": null,
            "order": null,
            "overflow": null,
            "overflow_x": null,
            "overflow_y": null,
            "padding": null,
            "right": null,
            "top": null,
            "visibility": null,
            "width": null
          }
        },
        "2e5cd154f1ba4769a3d170532b7b5c15": {
          "model_module": "@jupyter-widgets/controls",
          "model_name": "DescriptionStyleModel",
          "model_module_version": "1.5.0",
          "state": {
            "_model_module": "@jupyter-widgets/controls",
            "_model_module_version": "1.5.0",
            "_model_name": "DescriptionStyleModel",
            "_view_count": null,
            "_view_module": "@jupyter-widgets/base",
            "_view_module_version": "1.2.0",
            "_view_name": "StyleView",
            "description_width": ""
          }
        },
        "3fe6b8b3be2343c68d96a20ee475cf51": {
          "model_module": "@jupyter-widgets/controls",
          "model_name": "HBoxModel",
          "model_module_version": "1.5.0",
          "state": {
            "_dom_classes": [],
            "_model_module": "@jupyter-widgets/controls",
            "_model_module_version": "1.5.0",
            "_model_name": "HBoxModel",
            "_view_count": null,
            "_view_module": "@jupyter-widgets/controls",
            "_view_module_version": "1.5.0",
            "_view_name": "HBoxView",
            "box_style": "",
            "children": [
              "IPY_MODEL_b7867cbb7a834a6e98f79852bd51d854",
              "IPY_MODEL_21c093987c5049808a7159b89238096e",
              "IPY_MODEL_f7f228a734eb45c2a3c1c4a6cd9be044"
            ],
            "layout": "IPY_MODEL_47cbc525604e4e4b89b4baba08d90f38"
          }
        },
        "b7867cbb7a834a6e98f79852bd51d854": {
          "model_module": "@jupyter-widgets/controls",
          "model_name": "HTMLModel",
          "model_module_version": "1.5.0",
          "state": {
            "_dom_classes": [],
            "_model_module": "@jupyter-widgets/controls",
            "_model_module_version": "1.5.0",
            "_model_name": "HTMLModel",
            "_view_count": null,
            "_view_module": "@jupyter-widgets/controls",
            "_view_module_version": "1.5.0",
            "_view_name": "HTMLView",
            "description": "",
            "description_tooltip": null,
            "layout": "IPY_MODEL_71c9baa97d6147ff9cf1e383f0c1976a",
            "placeholder": "​",
            "style": "IPY_MODEL_55d069b1cf3d4273b2276bdb355f3d3a",
            "value": "Downloading vocab.txt: 100%"
          }
        },
        "21c093987c5049808a7159b89238096e": {
          "model_module": "@jupyter-widgets/controls",
          "model_name": "FloatProgressModel",
          "model_module_version": "1.5.0",
          "state": {
            "_dom_classes": [],
            "_model_module": "@jupyter-widgets/controls",
            "_model_module_version": "1.5.0",
            "_model_name": "FloatProgressModel",
            "_view_count": null,
            "_view_module": "@jupyter-widgets/controls",
            "_view_module_version": "1.5.0",
            "_view_name": "ProgressView",
            "bar_style": "success",
            "description": "",
            "description_tooltip": null,
            "layout": "IPY_MODEL_6f5499baa5f54ad2b90b9ddc7f2fe27e",
            "max": 1649718,
            "min": 0,
            "orientation": "horizontal",
            "style": "IPY_MODEL_9657be7bfcf747febc4a15a63aff3418",
            "value": 1649718
          }
        },
        "f7f228a734eb45c2a3c1c4a6cd9be044": {
          "model_module": "@jupyter-widgets/controls",
          "model_name": "HTMLModel",
          "model_module_version": "1.5.0",
          "state": {
            "_dom_classes": [],
            "_model_module": "@jupyter-widgets/controls",
            "_model_module_version": "1.5.0",
            "_model_name": "HTMLModel",
            "_view_count": null,
            "_view_module": "@jupyter-widgets/controls",
            "_view_module_version": "1.5.0",
            "_view_name": "HTMLView",
            "description": "",
            "description_tooltip": null,
            "layout": "IPY_MODEL_58e3dd3459a9448ebaa2c4b1bdf38ff0",
            "placeholder": "​",
            "style": "IPY_MODEL_8f67416a2fbe4fa38fa76dfa38936c06",
            "value": " 1.57M/1.57M [00:00&lt;00:00, 4.98MB/s]"
          }
        },
        "47cbc525604e4e4b89b4baba08d90f38": {
          "model_module": "@jupyter-widgets/base",
          "model_name": "LayoutModel",
          "model_module_version": "1.2.0",
          "state": {
            "_model_module": "@jupyter-widgets/base",
            "_model_module_version": "1.2.0",
            "_model_name": "LayoutModel",
            "_view_count": null,
            "_view_module": "@jupyter-widgets/base",
            "_view_module_version": "1.2.0",
            "_view_name": "LayoutView",
            "align_content": null,
            "align_items": null,
            "align_self": null,
            "border": null,
            "bottom": null,
            "display": null,
            "flex": null,
            "flex_flow": null,
            "grid_area": null,
            "grid_auto_columns": null,
            "grid_auto_flow": null,
            "grid_auto_rows": null,
            "grid_column": null,
            "grid_gap": null,
            "grid_row": null,
            "grid_template_areas": null,
            "grid_template_columns": null,
            "grid_template_rows": null,
            "height": null,
            "justify_content": null,
            "justify_items": null,
            "left": null,
            "margin": null,
            "max_height": null,
            "max_width": null,
            "min_height": null,
            "min_width": null,
            "object_fit": null,
            "object_position": null,
            "order": null,
            "overflow": null,
            "overflow_x": null,
            "overflow_y": null,
            "padding": null,
            "right": null,
            "top": null,
            "visibility": null,
            "width": null
          }
        },
        "71c9baa97d6147ff9cf1e383f0c1976a": {
          "model_module": "@jupyter-widgets/base",
          "model_name": "LayoutModel",
          "model_module_version": "1.2.0",
          "state": {
            "_model_module": "@jupyter-widgets/base",
            "_model_module_version": "1.2.0",
            "_model_name": "LayoutModel",
            "_view_count": null,
            "_view_module": "@jupyter-widgets/base",
            "_view_module_version": "1.2.0",
            "_view_name": "LayoutView",
            "align_content": null,
            "align_items": null,
            "align_self": null,
            "border": null,
            "bottom": null,
            "display": null,
            "flex": null,
            "flex_flow": null,
            "grid_area": null,
            "grid_auto_columns": null,
            "grid_auto_flow": null,
            "grid_auto_rows": null,
            "grid_column": null,
            "grid_gap": null,
            "grid_row": null,
            "grid_template_areas": null,
            "grid_template_columns": null,
            "grid_template_rows": null,
            "height": null,
            "justify_content": null,
            "justify_items": null,
            "left": null,
            "margin": null,
            "max_height": null,
            "max_width": null,
            "min_height": null,
            "min_width": null,
            "object_fit": null,
            "object_position": null,
            "order": null,
            "overflow": null,
            "overflow_x": null,
            "overflow_y": null,
            "padding": null,
            "right": null,
            "top": null,
            "visibility": null,
            "width": null
          }
        },
        "55d069b1cf3d4273b2276bdb355f3d3a": {
          "model_module": "@jupyter-widgets/controls",
          "model_name": "DescriptionStyleModel",
          "model_module_version": "1.5.0",
          "state": {
            "_model_module": "@jupyter-widgets/controls",
            "_model_module_version": "1.5.0",
            "_model_name": "DescriptionStyleModel",
            "_view_count": null,
            "_view_module": "@jupyter-widgets/base",
            "_view_module_version": "1.2.0",
            "_view_name": "StyleView",
            "description_width": ""
          }
        },
        "6f5499baa5f54ad2b90b9ddc7f2fe27e": {
          "model_module": "@jupyter-widgets/base",
          "model_name": "LayoutModel",
          "model_module_version": "1.2.0",
          "state": {
            "_model_module": "@jupyter-widgets/base",
            "_model_module_version": "1.2.0",
            "_model_name": "LayoutModel",
            "_view_count": null,
            "_view_module": "@jupyter-widgets/base",
            "_view_module_version": "1.2.0",
            "_view_name": "LayoutView",
            "align_content": null,
            "align_items": null,
            "align_self": null,
            "border": null,
            "bottom": null,
            "display": null,
            "flex": null,
            "flex_flow": null,
            "grid_area": null,
            "grid_auto_columns": null,
            "grid_auto_flow": null,
            "grid_auto_rows": null,
            "grid_column": null,
            "grid_gap": null,
            "grid_row": null,
            "grid_template_areas": null,
            "grid_template_columns": null,
            "grid_template_rows": null,
            "height": null,
            "justify_content": null,
            "justify_items": null,
            "left": null,
            "margin": null,
            "max_height": null,
            "max_width": null,
            "min_height": null,
            "min_width": null,
            "object_fit": null,
            "object_position": null,
            "order": null,
            "overflow": null,
            "overflow_x": null,
            "overflow_y": null,
            "padding": null,
            "right": null,
            "top": null,
            "visibility": null,
            "width": null
          }
        },
        "9657be7bfcf747febc4a15a63aff3418": {
          "model_module": "@jupyter-widgets/controls",
          "model_name": "ProgressStyleModel",
          "model_module_version": "1.5.0",
          "state": {
            "_model_module": "@jupyter-widgets/controls",
            "_model_module_version": "1.5.0",
            "_model_name": "ProgressStyleModel",
            "_view_count": null,
            "_view_module": "@jupyter-widgets/base",
            "_view_module_version": "1.2.0",
            "_view_name": "StyleView",
            "bar_color": null,
            "description_width": ""
          }
        },
        "58e3dd3459a9448ebaa2c4b1bdf38ff0": {
          "model_module": "@jupyter-widgets/base",
          "model_name": "LayoutModel",
          "model_module_version": "1.2.0",
          "state": {
            "_model_module": "@jupyter-widgets/base",
            "_model_module_version": "1.2.0",
            "_model_name": "LayoutModel",
            "_view_count": null,
            "_view_module": "@jupyter-widgets/base",
            "_view_module_version": "1.2.0",
            "_view_name": "LayoutView",
            "align_content": null,
            "align_items": null,
            "align_self": null,
            "border": null,
            "bottom": null,
            "display": null,
            "flex": null,
            "flex_flow": null,
            "grid_area": null,
            "grid_auto_columns": null,
            "grid_auto_flow": null,
            "grid_auto_rows": null,
            "grid_column": null,
            "grid_gap": null,
            "grid_row": null,
            "grid_template_areas": null,
            "grid_template_columns": null,
            "grid_template_rows": null,
            "height": null,
            "justify_content": null,
            "justify_items": null,
            "left": null,
            "margin": null,
            "max_height": null,
            "max_width": null,
            "min_height": null,
            "min_width": null,
            "object_fit": null,
            "object_position": null,
            "order": null,
            "overflow": null,
            "overflow_x": null,
            "overflow_y": null,
            "padding": null,
            "right": null,
            "top": null,
            "visibility": null,
            "width": null
          }
        },
        "8f67416a2fbe4fa38fa76dfa38936c06": {
          "model_module": "@jupyter-widgets/controls",
          "model_name": "DescriptionStyleModel",
          "model_module_version": "1.5.0",
          "state": {
            "_model_module": "@jupyter-widgets/controls",
            "_model_module_version": "1.5.0",
            "_model_name": "DescriptionStyleModel",
            "_view_count": null,
            "_view_module": "@jupyter-widgets/base",
            "_view_module_version": "1.2.0",
            "_view_name": "StyleView",
            "description_width": ""
          }
        },
        "cb249f7f06ae44e1856bda64741072c9": {
          "model_module": "@jupyter-widgets/controls",
          "model_name": "HBoxModel",
          "model_module_version": "1.5.0",
          "state": {
            "_dom_classes": [],
            "_model_module": "@jupyter-widgets/controls",
            "_model_module_version": "1.5.0",
            "_model_name": "HBoxModel",
            "_view_count": null,
            "_view_module": "@jupyter-widgets/controls",
            "_view_module_version": "1.5.0",
            "_view_name": "HBoxView",
            "box_style": "",
            "children": [
              "IPY_MODEL_26514dfac0504661a11107bded70169a",
              "IPY_MODEL_9c2f441087ce4100b0465b0cc90f46ba",
              "IPY_MODEL_1b5610808acf47b18528ecd3e8ea4b76"
            ],
            "layout": "IPY_MODEL_3b35532ae0cd415e9b920e3c8089b885"
          }
        },
        "26514dfac0504661a11107bded70169a": {
          "model_module": "@jupyter-widgets/controls",
          "model_name": "HTMLModel",
          "model_module_version": "1.5.0",
          "state": {
            "_dom_classes": [],
            "_model_module": "@jupyter-widgets/controls",
            "_model_module_version": "1.5.0",
            "_model_name": "HTMLModel",
            "_view_count": null,
            "_view_module": "@jupyter-widgets/controls",
            "_view_module_version": "1.5.0",
            "_view_name": "HTMLView",
            "description": "",
            "description_tooltip": null,
            "layout": "IPY_MODEL_7b1006d329564b27a95916667006ca1a",
            "placeholder": "​",
            "style": "IPY_MODEL_763c6a52af3d495d93f8f792ca194f38",
            "value": "Downloading special_tokens_map.json: 100%"
          }
        },
        "9c2f441087ce4100b0465b0cc90f46ba": {
          "model_module": "@jupyter-widgets/controls",
          "model_name": "FloatProgressModel",
          "model_module_version": "1.5.0",
          "state": {
            "_dom_classes": [],
            "_model_module": "@jupyter-widgets/controls",
            "_model_module_version": "1.5.0",
            "_model_name": "FloatProgressModel",
            "_view_count": null,
            "_view_module": "@jupyter-widgets/controls",
            "_view_module_version": "1.5.0",
            "_view_name": "ProgressView",
            "bar_style": "success",
            "description": "",
            "description_tooltip": null,
            "layout": "IPY_MODEL_a83be69796ea4b7a8cbdb2a171bd9c0e",
            "max": 112,
            "min": 0,
            "orientation": "horizontal",
            "style": "IPY_MODEL_bdd559bb1e0b48109eeeb6cce352f565",
            "value": 112
          }
        },
        "1b5610808acf47b18528ecd3e8ea4b76": {
          "model_module": "@jupyter-widgets/controls",
          "model_name": "HTMLModel",
          "model_module_version": "1.5.0",
          "state": {
            "_dom_classes": [],
            "_model_module": "@jupyter-widgets/controls",
            "_model_module_version": "1.5.0",
            "_model_name": "HTMLModel",
            "_view_count": null,
            "_view_module": "@jupyter-widgets/controls",
            "_view_module_version": "1.5.0",
            "_view_name": "HTMLView",
            "description": "",
            "description_tooltip": null,
            "layout": "IPY_MODEL_e4f491070a7f4bb7bd95e03c5263b0b4",
            "placeholder": "​",
            "style": "IPY_MODEL_a9d738105a92466b9147afa38b2f5a4c",
            "value": " 112/112 [00:00&lt;00:00, 3.35kB/s]"
          }
        },
        "3b35532ae0cd415e9b920e3c8089b885": {
          "model_module": "@jupyter-widgets/base",
          "model_name": "LayoutModel",
          "model_module_version": "1.2.0",
          "state": {
            "_model_module": "@jupyter-widgets/base",
            "_model_module_version": "1.2.0",
            "_model_name": "LayoutModel",
            "_view_count": null,
            "_view_module": "@jupyter-widgets/base",
            "_view_module_version": "1.2.0",
            "_view_name": "LayoutView",
            "align_content": null,
            "align_items": null,
            "align_self": null,
            "border": null,
            "bottom": null,
            "display": null,
            "flex": null,
            "flex_flow": null,
            "grid_area": null,
            "grid_auto_columns": null,
            "grid_auto_flow": null,
            "grid_auto_rows": null,
            "grid_column": null,
            "grid_gap": null,
            "grid_row": null,
            "grid_template_areas": null,
            "grid_template_columns": null,
            "grid_template_rows": null,
            "height": null,
            "justify_content": null,
            "justify_items": null,
            "left": null,
            "margin": null,
            "max_height": null,
            "max_width": null,
            "min_height": null,
            "min_width": null,
            "object_fit": null,
            "object_position": null,
            "order": null,
            "overflow": null,
            "overflow_x": null,
            "overflow_y": null,
            "padding": null,
            "right": null,
            "top": null,
            "visibility": null,
            "width": null
          }
        },
        "7b1006d329564b27a95916667006ca1a": {
          "model_module": "@jupyter-widgets/base",
          "model_name": "LayoutModel",
          "model_module_version": "1.2.0",
          "state": {
            "_model_module": "@jupyter-widgets/base",
            "_model_module_version": "1.2.0",
            "_model_name": "LayoutModel",
            "_view_count": null,
            "_view_module": "@jupyter-widgets/base",
            "_view_module_version": "1.2.0",
            "_view_name": "LayoutView",
            "align_content": null,
            "align_items": null,
            "align_self": null,
            "border": null,
            "bottom": null,
            "display": null,
            "flex": null,
            "flex_flow": null,
            "grid_area": null,
            "grid_auto_columns": null,
            "grid_auto_flow": null,
            "grid_auto_rows": null,
            "grid_column": null,
            "grid_gap": null,
            "grid_row": null,
            "grid_template_areas": null,
            "grid_template_columns": null,
            "grid_template_rows": null,
            "height": null,
            "justify_content": null,
            "justify_items": null,
            "left": null,
            "margin": null,
            "max_height": null,
            "max_width": null,
            "min_height": null,
            "min_width": null,
            "object_fit": null,
            "object_position": null,
            "order": null,
            "overflow": null,
            "overflow_x": null,
            "overflow_y": null,
            "padding": null,
            "right": null,
            "top": null,
            "visibility": null,
            "width": null
          }
        },
        "763c6a52af3d495d93f8f792ca194f38": {
          "model_module": "@jupyter-widgets/controls",
          "model_name": "DescriptionStyleModel",
          "model_module_version": "1.5.0",
          "state": {
            "_model_module": "@jupyter-widgets/controls",
            "_model_module_version": "1.5.0",
            "_model_name": "DescriptionStyleModel",
            "_view_count": null,
            "_view_module": "@jupyter-widgets/base",
            "_view_module_version": "1.2.0",
            "_view_name": "StyleView",
            "description_width": ""
          }
        },
        "a83be69796ea4b7a8cbdb2a171bd9c0e": {
          "model_module": "@jupyter-widgets/base",
          "model_name": "LayoutModel",
          "model_module_version": "1.2.0",
          "state": {
            "_model_module": "@jupyter-widgets/base",
            "_model_module_version": "1.2.0",
            "_model_name": "LayoutModel",
            "_view_count": null,
            "_view_module": "@jupyter-widgets/base",
            "_view_module_version": "1.2.0",
            "_view_name": "LayoutView",
            "align_content": null,
            "align_items": null,
            "align_self": null,
            "border": null,
            "bottom": null,
            "display": null,
            "flex": null,
            "flex_flow": null,
            "grid_area": null,
            "grid_auto_columns": null,
            "grid_auto_flow": null,
            "grid_auto_rows": null,
            "grid_column": null,
            "grid_gap": null,
            "grid_row": null,
            "grid_template_areas": null,
            "grid_template_columns": null,
            "grid_template_rows": null,
            "height": null,
            "justify_content": null,
            "justify_items": null,
            "left": null,
            "margin": null,
            "max_height": null,
            "max_width": null,
            "min_height": null,
            "min_width": null,
            "object_fit": null,
            "object_position": null,
            "order": null,
            "overflow": null,
            "overflow_x": null,
            "overflow_y": null,
            "padding": null,
            "right": null,
            "top": null,
            "visibility": null,
            "width": null
          }
        },
        "bdd559bb1e0b48109eeeb6cce352f565": {
          "model_module": "@jupyter-widgets/controls",
          "model_name": "ProgressStyleModel",
          "model_module_version": "1.5.0",
          "state": {
            "_model_module": "@jupyter-widgets/controls",
            "_model_module_version": "1.5.0",
            "_model_name": "ProgressStyleModel",
            "_view_count": null,
            "_view_module": "@jupyter-widgets/base",
            "_view_module_version": "1.2.0",
            "_view_name": "StyleView",
            "bar_color": null,
            "description_width": ""
          }
        },
        "e4f491070a7f4bb7bd95e03c5263b0b4": {
          "model_module": "@jupyter-widgets/base",
          "model_name": "LayoutModel",
          "model_module_version": "1.2.0",
          "state": {
            "_model_module": "@jupyter-widgets/base",
            "_model_module_version": "1.2.0",
            "_model_name": "LayoutModel",
            "_view_count": null,
            "_view_module": "@jupyter-widgets/base",
            "_view_module_version": "1.2.0",
            "_view_name": "LayoutView",
            "align_content": null,
            "align_items": null,
            "align_self": null,
            "border": null,
            "bottom": null,
            "display": null,
            "flex": null,
            "flex_flow": null,
            "grid_area": null,
            "grid_auto_columns": null,
            "grid_auto_flow": null,
            "grid_auto_rows": null,
            "grid_column": null,
            "grid_gap": null,
            "grid_row": null,
            "grid_template_areas": null,
            "grid_template_columns": null,
            "grid_template_rows": null,
            "height": null,
            "justify_content": null,
            "justify_items": null,
            "left": null,
            "margin": null,
            "max_height": null,
            "max_width": null,
            "min_height": null,
            "min_width": null,
            "object_fit": null,
            "object_position": null,
            "order": null,
            "overflow": null,
            "overflow_x": null,
            "overflow_y": null,
            "padding": null,
            "right": null,
            "top": null,
            "visibility": null,
            "width": null
          }
        },
        "a9d738105a92466b9147afa38b2f5a4c": {
          "model_module": "@jupyter-widgets/controls",
          "model_name": "DescriptionStyleModel",
          "model_module_version": "1.5.0",
          "state": {
            "_model_module": "@jupyter-widgets/controls",
            "_model_module_version": "1.5.0",
            "_model_name": "DescriptionStyleModel",
            "_view_count": null,
            "_view_module": "@jupyter-widgets/base",
            "_view_module_version": "1.2.0",
            "_view_name": "StyleView",
            "description_width": ""
          }
        },
        "c5c25f3db23b4454afd2b19c740081cf": {
          "model_module": "@jupyter-widgets/controls",
          "model_name": "HBoxModel",
          "model_module_version": "1.5.0",
          "state": {
            "_dom_classes": [],
            "_model_module": "@jupyter-widgets/controls",
            "_model_module_version": "1.5.0",
            "_model_name": "HBoxModel",
            "_view_count": null,
            "_view_module": "@jupyter-widgets/controls",
            "_view_module_version": "1.5.0",
            "_view_name": "HBoxView",
            "box_style": "",
            "children": [
              "IPY_MODEL_a8e879b5ac4b41528adafcfbf6b45565",
              "IPY_MODEL_da65674e86c34b96ac4c6a257bedafbe",
              "IPY_MODEL_a6955d1d5ae84a359b283a4293cf8a19"
            ],
            "layout": "IPY_MODEL_07312783d59d44ef9ab216903849a160"
          }
        },
        "a8e879b5ac4b41528adafcfbf6b45565": {
          "model_module": "@jupyter-widgets/controls",
          "model_name": "HTMLModel",
          "model_module_version": "1.5.0",
          "state": {
            "_dom_classes": [],
            "_model_module": "@jupyter-widgets/controls",
            "_model_module_version": "1.5.0",
            "_model_name": "HTMLModel",
            "_view_count": null,
            "_view_module": "@jupyter-widgets/controls",
            "_view_module_version": "1.5.0",
            "_view_name": "HTMLView",
            "description": "",
            "description_tooltip": null,
            "layout": "IPY_MODEL_38e700103a2a4b41afaa556326f50877",
            "placeholder": "​",
            "style": "IPY_MODEL_1706f8459d634e3ea8e5de0012eb9e2c",
            "value": "Downloading pytorch_model.bin: 100%"
          }
        },
        "da65674e86c34b96ac4c6a257bedafbe": {
          "model_module": "@jupyter-widgets/controls",
          "model_name": "FloatProgressModel",
          "model_module_version": "1.5.0",
          "state": {
            "_dom_classes": [],
            "_model_module": "@jupyter-widgets/controls",
            "_model_module_version": "1.5.0",
            "_model_name": "FloatProgressModel",
            "_view_count": null,
            "_view_module": "@jupyter-widgets/controls",
            "_view_module_version": "1.5.0",
            "_view_name": "ProgressView",
            "bar_style": "success",
            "description": "",
            "description_tooltip": null,
            "layout": "IPY_MODEL_06cd97f93dad4c7ba6d0056543c61db7",
            "max": 714355318,
            "min": 0,
            "orientation": "horizontal",
            "style": "IPY_MODEL_be13417f505f4069b0e7da093174b8fb",
            "value": 714355318
          }
        },
        "a6955d1d5ae84a359b283a4293cf8a19": {
          "model_module": "@jupyter-widgets/controls",
          "model_name": "HTMLModel",
          "model_module_version": "1.5.0",
          "state": {
            "_dom_classes": [],
            "_model_module": "@jupyter-widgets/controls",
            "_model_module_version": "1.5.0",
            "_model_name": "HTMLModel",
            "_view_count": null,
            "_view_module": "@jupyter-widgets/controls",
            "_view_module_version": "1.5.0",
            "_view_name": "HTMLView",
            "description": "",
            "description_tooltip": null,
            "layout": "IPY_MODEL_1fd3b936b8d44f1eb6ac1bcd62113bcc",
            "placeholder": "​",
            "style": "IPY_MODEL_8f76d09f247d48ba9fed4718f5dadae1",
            "value": " 681M/681M [00:17&lt;00:00, 39.5MB/s]"
          }
        },
        "07312783d59d44ef9ab216903849a160": {
          "model_module": "@jupyter-widgets/base",
          "model_name": "LayoutModel",
          "model_module_version": "1.2.0",
          "state": {
            "_model_module": "@jupyter-widgets/base",
            "_model_module_version": "1.2.0",
            "_model_name": "LayoutModel",
            "_view_count": null,
            "_view_module": "@jupyter-widgets/base",
            "_view_module_version": "1.2.0",
            "_view_name": "LayoutView",
            "align_content": null,
            "align_items": null,
            "align_self": null,
            "border": null,
            "bottom": null,
            "display": null,
            "flex": null,
            "flex_flow": null,
            "grid_area": null,
            "grid_auto_columns": null,
            "grid_auto_flow": null,
            "grid_auto_rows": null,
            "grid_column": null,
            "grid_gap": null,
            "grid_row": null,
            "grid_template_areas": null,
            "grid_template_columns": null,
            "grid_template_rows": null,
            "height": null,
            "justify_content": null,
            "justify_items": null,
            "left": null,
            "margin": null,
            "max_height": null,
            "max_width": null,
            "min_height": null,
            "min_width": null,
            "object_fit": null,
            "object_position": null,
            "order": null,
            "overflow": null,
            "overflow_x": null,
            "overflow_y": null,
            "padding": null,
            "right": null,
            "top": null,
            "visibility": null,
            "width": null
          }
        },
        "38e700103a2a4b41afaa556326f50877": {
          "model_module": "@jupyter-widgets/base",
          "model_name": "LayoutModel",
          "model_module_version": "1.2.0",
          "state": {
            "_model_module": "@jupyter-widgets/base",
            "_model_module_version": "1.2.0",
            "_model_name": "LayoutModel",
            "_view_count": null,
            "_view_module": "@jupyter-widgets/base",
            "_view_module_version": "1.2.0",
            "_view_name": "LayoutView",
            "align_content": null,
            "align_items": null,
            "align_self": null,
            "border": null,
            "bottom": null,
            "display": null,
            "flex": null,
            "flex_flow": null,
            "grid_area": null,
            "grid_auto_columns": null,
            "grid_auto_flow": null,
            "grid_auto_rows": null,
            "grid_column": null,
            "grid_gap": null,
            "grid_row": null,
            "grid_template_areas": null,
            "grid_template_columns": null,
            "grid_template_rows": null,
            "height": null,
            "justify_content": null,
            "justify_items": null,
            "left": null,
            "margin": null,
            "max_height": null,
            "max_width": null,
            "min_height": null,
            "min_width": null,
            "object_fit": null,
            "object_position": null,
            "order": null,
            "overflow": null,
            "overflow_x": null,
            "overflow_y": null,
            "padding": null,
            "right": null,
            "top": null,
            "visibility": null,
            "width": null
          }
        },
        "1706f8459d634e3ea8e5de0012eb9e2c": {
          "model_module": "@jupyter-widgets/controls",
          "model_name": "DescriptionStyleModel",
          "model_module_version": "1.5.0",
          "state": {
            "_model_module": "@jupyter-widgets/controls",
            "_model_module_version": "1.5.0",
            "_model_name": "DescriptionStyleModel",
            "_view_count": null,
            "_view_module": "@jupyter-widgets/base",
            "_view_module_version": "1.2.0",
            "_view_name": "StyleView",
            "description_width": ""
          }
        },
        "06cd97f93dad4c7ba6d0056543c61db7": {
          "model_module": "@jupyter-widgets/base",
          "model_name": "LayoutModel",
          "model_module_version": "1.2.0",
          "state": {
            "_model_module": "@jupyter-widgets/base",
            "_model_module_version": "1.2.0",
            "_model_name": "LayoutModel",
            "_view_count": null,
            "_view_module": "@jupyter-widgets/base",
            "_view_module_version": "1.2.0",
            "_view_name": "LayoutView",
            "align_content": null,
            "align_items": null,
            "align_self": null,
            "border": null,
            "bottom": null,
            "display": null,
            "flex": null,
            "flex_flow": null,
            "grid_area": null,
            "grid_auto_columns": null,
            "grid_auto_flow": null,
            "grid_auto_rows": null,
            "grid_column": null,
            "grid_gap": null,
            "grid_row": null,
            "grid_template_areas": null,
            "grid_template_columns": null,
            "grid_template_rows": null,
            "height": null,
            "justify_content": null,
            "justify_items": null,
            "left": null,
            "margin": null,
            "max_height": null,
            "max_width": null,
            "min_height": null,
            "min_width": null,
            "object_fit": null,
            "object_position": null,
            "order": null,
            "overflow": null,
            "overflow_x": null,
            "overflow_y": null,
            "padding": null,
            "right": null,
            "top": null,
            "visibility": null,
            "width": null
          }
        },
        "be13417f505f4069b0e7da093174b8fb": {
          "model_module": "@jupyter-widgets/controls",
          "model_name": "ProgressStyleModel",
          "model_module_version": "1.5.0",
          "state": {
            "_model_module": "@jupyter-widgets/controls",
            "_model_module_version": "1.5.0",
            "_model_name": "ProgressStyleModel",
            "_view_count": null,
            "_view_module": "@jupyter-widgets/base",
            "_view_module_version": "1.2.0",
            "_view_name": "StyleView",
            "bar_color": null,
            "description_width": ""
          }
        },
        "1fd3b936b8d44f1eb6ac1bcd62113bcc": {
          "model_module": "@jupyter-widgets/base",
          "model_name": "LayoutModel",
          "model_module_version": "1.2.0",
          "state": {
            "_model_module": "@jupyter-widgets/base",
            "_model_module_version": "1.2.0",
            "_model_name": "LayoutModel",
            "_view_count": null,
            "_view_module": "@jupyter-widgets/base",
            "_view_module_version": "1.2.0",
            "_view_name": "LayoutView",
            "align_content": null,
            "align_items": null,
            "align_self": null,
            "border": null,
            "bottom": null,
            "display": null,
            "flex": null,
            "flex_flow": null,
            "grid_area": null,
            "grid_auto_columns": null,
            "grid_auto_flow": null,
            "grid_auto_rows": null,
            "grid_column": null,
            "grid_gap": null,
            "grid_row": null,
            "grid_template_areas": null,
            "grid_template_columns": null,
            "grid_template_rows": null,
            "height": null,
            "justify_content": null,
            "justify_items": null,
            "left": null,
            "margin": null,
            "max_height": null,
            "max_width": null,
            "min_height": null,
            "min_width": null,
            "object_fit": null,
            "object_position": null,
            "order": null,
            "overflow": null,
            "overflow_x": null,
            "overflow_y": null,
            "padding": null,
            "right": null,
            "top": null,
            "visibility": null,
            "width": null
          }
        },
        "8f76d09f247d48ba9fed4718f5dadae1": {
          "model_module": "@jupyter-widgets/controls",
          "model_name": "DescriptionStyleModel",
          "model_module_version": "1.5.0",
          "state": {
            "_model_module": "@jupyter-widgets/controls",
            "_model_module_version": "1.5.0",
            "_model_name": "DescriptionStyleModel",
            "_view_count": null,
            "_view_module": "@jupyter-widgets/base",
            "_view_module_version": "1.2.0",
            "_view_name": "StyleView",
            "description_width": ""
          }
        }
      }
    }
  },
  "nbformat": 4,
  "nbformat_minor": 0
}